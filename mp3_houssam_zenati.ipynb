{
  "nbformat": 4,
  "nbformat_minor": 0,
  "metadata": {
    "colab": {
      "name": "mp3_houssam_zenati.ipynb",
      "version": "0.3.2",
      "provenance": [],
      "collapsed_sections": []
    },
    "kernelspec": {
      "name": "python3",
      "display_name": "Python 3"
    },
    "accelerator": "GPU"
  },
  "cells": [
    {
      "metadata": {
        "id": "Gm-lKcnT-XHS",
        "colab_type": "text"
      },
      "cell_type": "markdown",
      "source": [
        "**You may need to install [OpenCV](https://pypi.python.org/pypi/opencv-python) and [scikit-video](http://www.scikit-video.org/stable/).**"
      ]
    },
    {
      "metadata": {
        "id": "aGWLF4OI-XHY",
        "colab_type": "code",
        "outputId": "4342cf89-97a3-4f45-ba3f-4b41270697c8",
        "colab": {
          "base_uri": "https://localhost:8080/",
          "height": 176
        }
      },
      "cell_type": "code",
      "source": [
        "import keras\n",
        "import numpy as np\n",
        "import io\n",
        "import base64\n",
        "from IPython.display import HTML\n",
        "!pip install sk-video \n",
        "import skvideo.io\n",
        "import cv2\n",
        "import json\n",
        "import os \n",
        "\n",
        "from keras.models import Sequential,model_from_json\n",
        "from keras.layers.core import Dense\n",
        "from keras.optimizers import sgd\n",
        "from keras.layers import Conv2D, MaxPooling2D, Activation, AveragePooling2D,Reshape,BatchNormalization"
      ],
      "execution_count": 1,
      "outputs": [
        {
          "output_type": "stream",
          "text": [
            "Using TensorFlow backend.\n"
          ],
          "name": "stderr"
        },
        {
          "output_type": "stream",
          "text": [
            "Collecting sk-video\n",
            "\u001b[?25l  Downloading https://files.pythonhosted.org/packages/dd/3f/ce848b8b2062ad1ccf1449094a740c775f6c761339f411e44f1e090f23a7/sk_video-1.1.10-py2.py3-none-any.whl (2.3MB)\n",
            "\u001b[K    100% |████████████████████████████████| 2.3MB 11.1MB/s \n",
            "\u001b[?25hRequirement already satisfied: numpy in /usr/local/lib/python3.6/dist-packages (from sk-video) (1.14.6)\n",
            "Requirement already satisfied: scipy in /usr/local/lib/python3.6/dist-packages (from sk-video) (1.1.0)\n",
            "Installing collected packages: sk-video\n",
            "Successfully installed sk-video-1.1.10\n"
          ],
          "name": "stdout"
        }
      ]
    },
    {
      "metadata": {
        "id": "D4qjSWR0-XHj",
        "colab_type": "text"
      },
      "cell_type": "markdown",
      "source": [
        "# MiniProject #3: Deep Reinforcement Learning"
      ]
    },
    {
      "metadata": {
        "id": "3asfEM6z-XHl",
        "colab_type": "text"
      },
      "cell_type": "markdown",
      "source": [
        "__Notations__: $E_p$ is the expectation under probability $p$. Please justify each of your answer and widely comment your code."
      ]
    },
    {
      "metadata": {
        "id": "ETU6ea1N-XHm",
        "colab_type": "text"
      },
      "cell_type": "markdown",
      "source": [
        "# Context"
      ]
    },
    {
      "metadata": {
        "id": "8kNup7cG-XHo",
        "colab_type": "text"
      },
      "cell_type": "markdown",
      "source": [
        "In a reinforcement learning algorithm, we modelize each step $t$ as an action $a_t$ obtained from a state $s_t$, i.e. $\\{(a_{t},s_{t})_{t\\leq T}\\}$ having the Markov property. We consider a discount factor $\\gamma \\in [0,1]$ that ensures convergence. The goal is to find among all the policies $\\pi$, one that maximizes the expected reward:\n",
        "\n",
        "\\begin{equation*}\n",
        "R(\\pi)=\\sum_{t\\leq T}E_{p^{\\pi}}[\\gamma^t r(s_{t},a_{t})] \\> ,\n",
        "\\end{equation*}\n",
        "\n",
        "where: \n",
        "\\begin{equation*}p^{\\pi}(a_{0},a_{1},s_{1},...,a_{T},s_{T})=p(a_{0})\\prod_{t=1}^{T}\\pi(a_{t}|s_{t})p(s_{t+1}|s_{t},a_{t}) \\> .\n",
        "\\end{equation*}\n",
        "\n",
        "We note the $Q$-function:\n",
        "\n",
        "\\begin{equation*}Q^\\pi(s,a)=E_{p^{\\pi}}[\\sum_{t\\leq T}\\gamma^{t}r(s_{t},a_{t})|s_{0}=s,a_{0}=a] \\> .\n",
        "\\end{equation*}\n",
        "\n",
        "Thus, the optimal Q function is:\n",
        "\\begin{equation*}\n",
        "Q^*(s,a)=\\max_{\\pi}Q^\\pi(s,a) \\> .\n",
        "\\end{equation*}\n",
        "\n",
        "In this project, we will apply the deep reinforcement learning techniques to a simple game: an agent will have to learn from scratch a policy that will permit it maximizing a reward."
      ]
    },
    {
      "metadata": {
        "id": "FI8SfsnA-XHq",
        "colab_type": "text"
      },
      "cell_type": "markdown",
      "source": [
        "## The environment, the agent and the game"
      ]
    },
    {
      "metadata": {
        "id": "aSQrgg94-XHr",
        "colab_type": "text"
      },
      "cell_type": "markdown",
      "source": [
        "### The environment"
      ]
    },
    {
      "metadata": {
        "id": "sALfzrTz-XHt",
        "colab_type": "text"
      },
      "cell_type": "markdown",
      "source": [
        "```Environment``` is an abstract class that represents the states, rewards, and actions to obtain the new state."
      ]
    },
    {
      "metadata": {
        "id": "ih7eFHAc-XHu",
        "colab_type": "code",
        "colab": {}
      },
      "cell_type": "code",
      "source": [
        "class Environment(object):\n",
        "    def __init__(self):\n",
        "        pass\n",
        "\n",
        "    def act(self, act):\n",
        "        \"\"\"\n",
        "        One can act on the environment and obtain its reaction:\n",
        "        - the new state\n",
        "        - the reward of the new state\n",
        "        - should we continue the game?\n",
        "\n",
        "        :return: state, reward, game_over\n",
        "        \"\"\"\n",
        "        pass\n",
        "\n",
        "\n",
        "    def reset(self):\n",
        "        \"\"\"\n",
        "        Reinitialize the environment to a random state and returns\n",
        "        the original state\n",
        "\n",
        "        :return: state\n",
        "        \"\"\"\n",
        "        pass\n",
        "    \n",
        "    def draw(self):\n",
        "        \"\"\"\n",
        "        Visualize in the console or graphically the current state\n",
        "        \"\"\"\n",
        "        pass"
      ],
      "execution_count": 0,
      "outputs": []
    },
    {
      "metadata": {
        "id": "rHYZdlq1-XHy",
        "colab_type": "text"
      },
      "cell_type": "markdown",
      "source": [
        "The method ```act``` allows to act on the environment at a given state $s_t$ (stored internally), via action $a_t$. The method will return the new state $s_{t+1}$, the reward $r(s_{t},a_{t})$ and determines if $t\\leq T$ (*game_over*).\n",
        "\n",
        "The method ```reset``` simply reinitializes the environment to a random state $s_0$.\n",
        "\n",
        "The method ```draw``` displays the current state $s_t$ (this is useful to check the behavior of the Agent).\n",
        "\n",
        "We modelize $s_t$ as a tensor, while $a_t$ is an integer."
      ]
    },
    {
      "metadata": {
        "id": "GGxJNrSS-XHz",
        "colab_type": "text"
      },
      "cell_type": "markdown",
      "source": [
        "### The Agent"
      ]
    },
    {
      "metadata": {
        "id": "j1UFM1tk-XH0",
        "colab_type": "text"
      },
      "cell_type": "markdown",
      "source": [
        "The goal of the ```Agent``` is to interact with the ```Environment``` by proposing actions $a_t$ obtained from a given state $s_t$ to attempt to maximize its __reward__ $r(s_t,a_t)$. We propose the following abstract class:"
      ]
    },
    {
      "metadata": {
        "id": "XB-1NtUa-XH1",
        "colab_type": "code",
        "colab": {}
      },
      "cell_type": "code",
      "source": [
        "class Agent(object):\n",
        "    def __init__(self, epsilon=0.1, n_action=4):\n",
        "        self.epsilon = epsilon\n",
        "        self.n_action = n_action\n",
        "    \n",
        "    def set_epsilon(self,e):\n",
        "        self.epsilon = e\n",
        "\n",
        "    def act(self,s,train=True):\n",
        "        \"\"\" This function should return the next action to do:\n",
        "        an integer between 0 and 4 (not included) with a random exploration of epsilon\"\"\"\n",
        "        if train:\n",
        "            if np.random.rand() <= self.epsilon:\n",
        "                a = np.random.randint(0, self.n_action, size=1)[0]\n",
        "            else:\n",
        "                a = self.learned_act(s)\n",
        "        else: # in some cases, this can improve the performance.. remove it if poor performances\n",
        "            a = self.learned_act(s)\n",
        "\n",
        "        return a\n",
        "\n",
        "    def learned_act(self,s):\n",
        "        \"\"\" Act via the policy of the agent, from a given state s\n",
        "        it proposes an action a\"\"\"\n",
        "        pass\n",
        "\n",
        "    def reinforce(self, s, n_s, a, r, game_over_):\n",
        "        \"\"\" This function is the core of the learning algorithm. \n",
        "        It takes as an input the current state s_, the next state n_s_\n",
        "        the action a_ used to move from s_ to n_s_ and the reward r_.\n",
        "        \n",
        "        Its goal is to learn a policy.\n",
        "        \"\"\"\n",
        "        pass\n",
        "\n",
        "    def save(self):\n",
        "        \"\"\" This function returns basic stats if applicable: the\n",
        "        loss and/or the model\"\"\"\n",
        "        pass\n",
        "\n",
        "    def load(self):\n",
        "        \"\"\" This function allows to restore a model\"\"\"\n",
        "        pass"
      ],
      "execution_count": 0,
      "outputs": []
    },
    {
      "metadata": {
        "id": "gTLjPACV-XH6",
        "colab_type": "text"
      },
      "cell_type": "markdown",
      "source": [
        "***\n",
        "__Question 1__:\n",
        "Explain the function act. Why is ```epsilon``` essential?"
      ]
    },
    {
      "metadata": {
        "id": "JGtur9XT-XH7",
        "colab_type": "text"
      },
      "cell_type": "markdown",
      "source": [
        "The function act predicts action to be taken at time $t+1$ in a given state $s$ at a time $t$ and chooses between exploration (with a probability epsilon) and exploitation (with a probability 1-epsilon). \n",
        "\n",
        "More specifically, during the training, the action can be chosen at random for exploration or can be chosen according to the knowledge of the network. The epsilon is essential for the exploration part of the RL. During the test however, only the exploration phase is chosen."
      ]
    },
    {
      "metadata": {
        "id": "WpSctsvr-XH9",
        "colab_type": "text"
      },
      "cell_type": "markdown",
      "source": [
        "***\n",
        "### The Game"
      ]
    },
    {
      "metadata": {
        "id": "w88YjqVp-XH-",
        "colab_type": "text"
      },
      "cell_type": "markdown",
      "source": [
        "The ```Agent``` and the ```Environment``` work in an interlaced way as in the following (take some time to understand this code as it is the core of the project)\n",
        "\n",
        "```python\n",
        "\n",
        "epoch = 300\n",
        "env = Environment()\n",
        "agent = Agent()\n",
        "\n",
        "\n",
        "# Number of won games\n",
        "score = 0\n",
        "loss = 0\n",
        "\n",
        "\n",
        "for e in range(epoch):\n",
        "    # At each epoch, we restart to a fresh game and get the initial state\n",
        "    state = env.reset()\n",
        "    # This assumes that the games will end\n",
        "    game_over = False\n",
        "\n",
        "    win = 0\n",
        "    lose = 0\n",
        "    \n",
        "    while not game_over:\n",
        "        # The agent performs an action\n",
        "        action = agent.act(state)\n",
        "\n",
        "        # Apply an action to the environment, get the next state, the reward\n",
        "        # and if the games end\n",
        "        prev_state = state\n",
        "        state, reward, game_over = env.act(action)\n",
        "\n",
        "        # Update the counters\n",
        "        if reward > 0:\n",
        "            win = win + reward\n",
        "        if reward < 0:\n",
        "            lose = lose -reward\n",
        "\n",
        "        # Apply the reinforcement strategy\n",
        "        loss = agent.reinforce(prev_state, state,  action, reward, game_over)\n",
        "\n",
        "    # Save as a mp4\n",
        "    if e % 10 == 0:\n",
        "        env.draw(e)\n",
        "\n",
        "    # Update stats\n",
        "    score += win-lose\n",
        "\n",
        "    print(\"Epoch {:03d}/{:03d} | Loss {:.4f} | Win/lose count {}/{} ({})\"\n",
        "          .format(e, epoch, loss, win, lose, win-lose))\n",
        "    agent.save()\n",
        "```"
      ]
    },
    {
      "metadata": {
        "id": "F1wqEB79-XH_",
        "colab_type": "text"
      },
      "cell_type": "markdown",
      "source": [
        "# The game, *eat cheese*"
      ]
    },
    {
      "metadata": {
        "id": "9wiD4AuA-XIA",
        "colab_type": "text"
      },
      "cell_type": "markdown",
      "source": [
        "A rat runs on an island and tries to eat as much as possible. The island is subdivided into $N\\times N$ cells, in which there are cheese (+0.5) and poisonous cells (-1). The rat has a visibility of 2 cells (thus it can see $5^2$ cells). The rat is given a time $T$ to accumulate as much food as possible. It can perform 4 actions: going up, down, left, right. \n",
        "\n",
        "The goal is to code an agent to solve this task that will learn by trial and error. We propose the following environment:"
      ]
    },
    {
      "metadata": {
        "id": "-zN1BHpI-XIB",
        "colab_type": "code",
        "colab": {}
      },
      "cell_type": "code",
      "source": [
        "class Environment(object):\n",
        "    def __init__(self, grid_size=10, max_time=500, temperature=0.1):\n",
        "        grid_size = grid_size+4\n",
        "        self.grid_size = grid_size\n",
        "        self.max_time = max_time\n",
        "        self.temperature = temperature\n",
        "\n",
        "        #board on which one plays\n",
        "        self.board = np.zeros((grid_size,grid_size))\n",
        "        self.position = np.zeros((grid_size,grid_size))\n",
        "\n",
        "        # coordinate of the cat\n",
        "        self.x = 0\n",
        "        self.y = 1\n",
        "\n",
        "        # self time\n",
        "        self.t = 0\n",
        "\n",
        "        self.scale=16\n",
        "\n",
        "        self.to_draw = np.zeros((max_time+2, grid_size*self.scale, grid_size*self.scale, 3))\n",
        "\n",
        "\n",
        "    def draw(self,e):\n",
        "        skvideo.io.vwrite(str(e) + '.mp4', self.to_draw)\n",
        "\n",
        "    def get_frame(self,t):\n",
        "        b = np.zeros((self.grid_size,self.grid_size,3))+128\n",
        "        b[self.board>0,0] = 256\n",
        "        b[self.board < 0, 2] = 256\n",
        "        b[self.x,self.y,:]=256\n",
        "        b[-2:,:,:]=0\n",
        "        b[:,-2:,:]=0\n",
        "        b[:2,:,:]=0\n",
        "        b[:,:2,:]=0\n",
        "        \n",
        "        b =  cv2.resize(b, None, fx=self.scale, fy=self.scale, interpolation=cv2.INTER_NEAREST)\n",
        "\n",
        "        self.to_draw[t,:,:,:]=b\n",
        "\n",
        "\n",
        "    def act(self, action):\n",
        "        \"\"\"This function returns the new state, reward and decides if the\n",
        "        game ends.\"\"\"\n",
        "\n",
        "        self.get_frame(int(self.t))\n",
        "\n",
        "        self.position = np.zeros((self.grid_size, self.grid_size))\n",
        "\n",
        "        self.position[0:2,:]= -1\n",
        "        self.position[:,0:2] = -1\n",
        "        self.position[-2:, :] = -1\n",
        "        self.position[-2:, :] = -1\n",
        "\n",
        "        self.position[self.x, self.y] = 1\n",
        "        if action == 0:\n",
        "            if self.x == self.grid_size-3:\n",
        "                self.x = self.x-1\n",
        "            else:\n",
        "                self.x = self.x + 1\n",
        "        elif action == 1:\n",
        "            if self.x == 2:\n",
        "                self.x = self.x+1\n",
        "            else:\n",
        "                self.x = self.x-1\n",
        "        elif action == 2:\n",
        "            if self.y == self.grid_size - 3:\n",
        "                self.y = self.y - 1\n",
        "            else:\n",
        "                self.y = self.y + 1\n",
        "        elif action == 3:\n",
        "            if self.y == 2:\n",
        "                self.y = self.y + 1\n",
        "            else:\n",
        "                self.y = self.y - 1\n",
        "        else:\n",
        "            RuntimeError('Error: action not recognized')\n",
        "\n",
        "        self.t = self.t + 1\n",
        "        reward = self.board[self.x, self.y]\n",
        "        self.board[self.x, self.y] = 0\n",
        "        game_over = self.t > self.max_time\n",
        "        state = np.concatenate((self.board.reshape(self.grid_size, self.grid_size,1),\n",
        "                        self.position.reshape(self.grid_size, self.grid_size,1)),axis=2)\n",
        "        state = state[self.x-2:self.x+3,self.y-2:self.y+3,:]\n",
        "\n",
        "        return state, reward, game_over\n",
        "\n",
        "    def reset(self):\n",
        "        \"\"\"This function resets the game and returns the initial state\"\"\"\n",
        "\n",
        "        self.x = np.random.randint(3, self.grid_size-3, size=1)[0]\n",
        "        self.y = np.random.randint(3, self.grid_size-3, size=1)[0]\n",
        "\n",
        "\n",
        "        bonus = 0.5*np.random.binomial(1,self.temperature,size=self.grid_size**2)\n",
        "        bonus = bonus.reshape(self.grid_size,self.grid_size)\n",
        "\n",
        "        malus = -1.0*np.random.binomial(1,self.temperature,size=self.grid_size**2)\n",
        "        malus = malus.reshape(self.grid_size, self.grid_size)\n",
        "\n",
        "        self.to_draw = np.zeros((self.max_time+2, self.grid_size*self.scale, self.grid_size*self.scale, 3))\n",
        "\n",
        "\n",
        "        malus[bonus>0]=0\n",
        "\n",
        "        self.board = bonus + malus\n",
        "\n",
        "        self.position = np.zeros((self.grid_size, self.grid_size))\n",
        "        self.position[0:2,:]= -1\n",
        "        self.position[:,0:2] = -1\n",
        "        self.position[-2:, :] = -1\n",
        "        self.position[-2:, :] = -1\n",
        "        self.board[self.x,self.y] = 0\n",
        "        self.t = 0\n",
        "\n",
        "        state = np.concatenate((\n",
        "                               self.board.reshape(self.grid_size, self.grid_size,1),\n",
        "                        self.position.reshape(self.grid_size, self.grid_size,1)),axis=2)\n",
        "\n",
        "        state = state[self.x - 2:self.x + 3, self.y - 2:self.y + 3, :]\n",
        "        return state"
      ],
      "execution_count": 0,
      "outputs": []
    },
    {
      "metadata": {
        "id": "S4M_KccG-XIG",
        "colab_type": "text"
      },
      "cell_type": "markdown",
      "source": [
        "The following elements are important because they correspond to the hyper parameters for this project:"
      ]
    },
    {
      "metadata": {
        "id": "iI8MBy0t-XIH",
        "colab_type": "code",
        "colab": {}
      },
      "cell_type": "code",
      "source": [
        "# parameters\n",
        "size = 13\n",
        "T=200\n",
        "temperature=0.3\n",
        "epochs_train=100 # set small when debugging\n",
        "epochs_test=10 # set small when debugging\n",
        "\n",
        "# display videos\n",
        "def display_videos(name):\n",
        "    directory = os.path.join(os.getcwd(), name)\n",
        "    if not os.path.exists(directory):\n",
        "        os.makedirs(directory)\n",
        "    video = io.open(name, 'r+b').read()\n",
        "    encoded = base64.b64encode(video)\n",
        "    return '''<video alt=\"test\" controls>\n",
        "                <source src=\"data:video/mp4;base64,{0}\" type=\"video/mp4\" />\n",
        "             </video>'''.format(encoded.decode('ascii'))"
      ],
      "execution_count": 0,
      "outputs": []
    },
    {
      "metadata": {
        "id": "PVO85-3c4Arv",
        "colab_type": "text"
      },
      "cell_type": "markdown",
      "source": [
        ""
      ]
    },
    {
      "metadata": {
        "id": "Qw9Hx8Ek-XIL",
        "colab_type": "text"
      },
      "cell_type": "markdown",
      "source": [
        "__Question 2__ Explain the use of the arrays ```position``` and ```board```."
      ]
    },
    {
      "metadata": {
        "id": "VIumjAvP-XIM",
        "colab_type": "text"
      },
      "cell_type": "markdown",
      "source": [
        "The array position localizes the rat with a white pixel (value of 1), the background of the grid with black pixel (value of -1) and the rewards in the grid (value of 0.5 for food and -1 for poison). Therefore, the array encodes information about positions of rewards and the rat with  pixel's color. \n",
        "\n",
        "The array board has the reward associated to each position. Once a position is visited the reward is set to zero for this position.\n",
        "\n",
        "Both arrays have the same squarred shape of size grid_size."
      ]
    },
    {
      "metadata": {
        "id": "CyjiQCH4-XIM",
        "colab_type": "text"
      },
      "cell_type": "markdown",
      "source": [
        "## Random Agent"
      ]
    },
    {
      "metadata": {
        "id": "u5RNhMV7-XIO",
        "colab_type": "text"
      },
      "cell_type": "markdown",
      "source": [
        "***\n",
        "__Question 3__ Implement a random Agent (only ```learned_act``` needs to be implemented):"
      ]
    },
    {
      "metadata": {
        "id": "BQi0Rh9k-XIO",
        "colab_type": "code",
        "colab": {}
      },
      "cell_type": "code",
      "source": [
        "class RandomAgent(Agent):\n",
        "    def __init__(self):\n",
        "        super(RandomAgent, self).__init__()\n",
        "        pass\n",
        "\n",
        "    def learned_act(self, s):\n",
        "        return np.random.randint(self.n_action)"
      ],
      "execution_count": 0,
      "outputs": []
    },
    {
      "metadata": {
        "id": "7KKt-TPM-XIR",
        "colab_type": "text"
      },
      "cell_type": "markdown",
      "source": [
        "***\n",
        "***\n",
        "__Question 4__ Visualize the game moves. You need to fill in the following function for the evaluation:"
      ]
    },
    {
      "metadata": {
        "id": "i5WNK773-XIS",
        "colab_type": "code",
        "colab": {}
      },
      "cell_type": "code",
      "source": [
        "def test(agent,env,epochs,prefix=''):\n",
        "    # Number of won games\n",
        "    score = 0\n",
        " \n",
        "    for e in range(epochs):\n",
        "        \n",
        "        win = 0\n",
        "        lose = 0\n",
        "        # At each epoch, we restart to a fresh game and get the initial state\n",
        "        state = env.reset()\n",
        "        \n",
        "        game_over = False\n",
        "\n",
        "        while not game_over:\n",
        "            # The agent performs an action\n",
        "            action = agent.act(state, train=False)\n",
        "\n",
        "            # Apply an action to the environment, get the next state, the reward\n",
        "            # and if the games end\n",
        "            prev_state = state\n",
        "            state, reward, game_over = env.act(action)\n",
        "\n",
        "            # Update the counters\n",
        "            if reward > 0:\n",
        "                win = win + reward\n",
        "            if reward < 0:\n",
        "                lose = lose -reward\n",
        "        \n",
        "        # Save as a mp4\n",
        "        env.draw(prefix+str(e))\n",
        "\n",
        "        # Update stats\n",
        "        score = score + win-lose\n",
        "\n",
        "        print(\"Win/lose count {}/{}. Average score ({})\"\n",
        "              .format(win, lose, score/(1+e)))\n",
        "    print('Final score: '+str(score/epochs))"
      ],
      "execution_count": 0,
      "outputs": []
    },
    {
      "metadata": {
        "id": "2SvSnbTI-XIV",
        "colab_type": "code",
        "outputId": "c6ffe2c2-0a46-433f-e48b-8930df1d340e",
        "colab": {
          "base_uri": "https://localhost:8080/",
          "height": 362
        }
      },
      "cell_type": "code",
      "source": [
        "# Initialize the game\n",
        "env = Environment(grid_size=size, max_time=T,temperature=temperature)\n",
        "\n",
        "# Initialize the agent!\n",
        "agent = RandomAgent()\n",
        "\n",
        "test(agent,env,epochs_test,prefix='random')\n",
        "HTML(display_videos('random0.mp4'))"
      ],
      "execution_count": 8,
      "outputs": [
        {
          "output_type": "stream",
          "text": [
            "Win/lose count 7.5/6.0. Average score (1.5)\n",
            "Win/lose count 9.5/15.0. Average score (-2.0)\n",
            "Win/lose count 8.0/14.0. Average score (-3.3333333333333335)\n",
            "Win/lose count 8.5/10.0. Average score (-2.875)\n",
            "Win/lose count 11.0/11.0. Average score (-2.3)\n",
            "Win/lose count 8.5/15.0. Average score (-3.0)\n",
            "Win/lose count 9.0/14.0. Average score (-3.2857142857142856)\n",
            "Win/lose count 11.0/12.0. Average score (-3.0)\n",
            "Win/lose count 11.0/16.0. Average score (-3.2222222222222223)\n",
            "Win/lose count 4.5/16.0. Average score (-4.05)\n",
            "Final score: -4.05\n"
          ],
          "name": "stdout"
        },
        {
          "output_type": "execute_result",
          "data": {
            "text/html": [
              "<video alt=\"test\" controls>\n",
              "                <source src=\"data:video/mp4;base64,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\" type=\"video/mp4\" />\n",
              "             </video>"
            ],
            "text/plain": [
              "<IPython.core.display.HTML object>"
            ]
          },
          "metadata": {
            "tags": []
          },
          "execution_count": 8
        }
      ]
    },
    {
      "metadata": {
        "id": "O5NypkQ3-XIa",
        "colab_type": "text"
      },
      "cell_type": "markdown",
      "source": [
        "***\n",
        "## DQN"
      ]
    },
    {
      "metadata": {
        "id": "xefjDTsp-XIb",
        "colab_type": "text"
      },
      "cell_type": "markdown",
      "source": [
        "Let us assume here that $T=\\infty$.\n",
        "\n",
        "***\n",
        "__Question 5__ Let $\\pi$ be a policy, show that:\n",
        "\n",
        "\\begin{equation*}\n",
        "Q^{\\pi}(s,a)=E_{(s',a')\\sim p(.|s,a)}[r(s,a)+\\gamma Q^{\\pi}(s',a')]\n",
        "\\end{equation*}\n",
        "\n",
        "Then, show that for the optimal policy $\\pi^*$ (we assume its existence), the following holds: \n",
        "\n",
        "\\begin{equation*}\n",
        "Q^{*}(s,a)=E_{s'\\sim \\pi^*(.|s,a)}[r(s,a)+\\gamma\\max_{a'}Q^{*}(s',a')].\n",
        "\\end{equation*}\n",
        "Finally, deduce that a plausible objective is:\n",
        "\n",
        "\\begin{equation*}\n",
        "\\mathcal{L}(\\theta)=E_{s' \\sim \\pi^*(.|s,a)}\\Vert r+\\gamma\\max\\max_{a'}Q(s',a',\\theta)-Q(s,a,\\theta)\\Vert^{2}.\n",
        "\\end{equation*}\n",
        "\n",
        "\n"
      ]
    },
    {
      "metadata": {
        "id": "gEpbUhCQ-XIb",
        "colab_type": "text"
      },
      "cell_type": "markdown",
      "source": [
        "**Answer**\n",
        "\n",
        "a) By definition, $Q^{\\pi}(s,a) = E_{\\pi}[R_t |s_t = s, a_t = a]$. Therefore, we can get the following:\n",
        "\n",
        "\\begin{align}\n",
        " Q^{\\pi}(s,a) &=E_\\pi[\\sum_{k=0}^{\\infty} \\gamma^k r_{t+k}|s_t = s, a_t = a] \\\\ &= E_\\pi[ r(s,a) + \\sum_{k=1}^{\\infty} \\gamma^k r_{t+k}|s_t = s, a_t = a] \\\\ &= E_\\pi[r(s,a) + \\gamma \\sum_{p=0}^{\\infty} \\gamma^{p} r_{t+1+p}|s_t = s, a_t = a]\n",
        " \\\\ &= E_\\pi[r(s,a) + \\gamma R_{t+1}|s_t = s, a_t = a]\n",
        "\\end{align}\n",
        "\n",
        "\n",
        "Using the law of total expectancy $\\mathbb E[X]=\\mathbb E[\\mathbb E[X|Y]]$ we then have : \n",
        "\n",
        "\\begin{align}\n",
        "  Q^{\\pi}(s,a) &= E_\\pi[r(s,a) + \\gamma Q^{\\pi}(s_{t+1},a_{t+1}) |s_t = s, a_t = a] \\\\ \n",
        "  &=E_{(s',a')\\sim p(.|s,a)}[r(s,a)+\\gamma Q^{\\pi}(s',a')]\n",
        "\\end{align}\n",
        "\n",
        "b) By definition, we have:\n",
        "\n",
        "\\begin{align} \n",
        "Q^*(s,a) = \\max_{\\pi} Q^{\\pi}(s, a) \n",
        "\\end{align}\n",
        "\n",
        "and by definition of policy we have $\\pi(.) = \\pi^*(. |s)$, hence: \n",
        "\n",
        "\\begin{align} \n",
        "Q^*(s,a) &=E_{\\pi^*(. |s)}[r(s,a)+\\gamma \\max_{\\pi} Q^{\\pi}(s',a')] \\\\\n",
        "&=E_{\\pi^*(. |s)}[r(s,a)+\\gamma \\max_{a'} Q^{\\pi^*}(s',a')] \n",
        "\\end{align}\n",
        "\n",
        "c) A plausible objective could be based on MSE:\n",
        "\n",
        "\\begin{align} \n",
        "\\mathcal{L}(\\theta) = E_{\\pi^*(. |s)}[\\Vert Q^*(s,a)- Q(s, a; \\theta)\\Vert^2] \n",
        "\\end{align}\n",
        "\n",
        "Using the answer at b), we get \n",
        "\n",
        "\\begin{align} \n",
        "\\mathcal{L}(\\theta) = E_{\\pi^*(. |s)}[\\Vert r(s,a) +\\gamma\\max_{a'}Q(s',a',\\theta)- Q(s, a; \\theta)\\Vert^2] \n",
        "\\end{align}\n"
      ]
    },
    {
      "metadata": {
        "id": "yxhfJNe7-XIc",
        "colab_type": "text"
      },
      "cell_type": "markdown",
      "source": [
        "***\n",
        "The DQN-learning algorithm relies on these derivations to train the parameters $\\theta$ of a Deep Neural Network:\n",
        "\n",
        "1. At the state $s_t$, select the action $a_t$ with best reward using $Q_t$ and store the results;\n",
        "\n",
        "2. Obtain the new state $s_{t+1}$ from the environment $p$;\n",
        "\n",
        "3. Store $(s_t,a_t,s_{t+1})$;\n",
        "\n",
        "4. Obtain $Q_{t+1}$ by minimizing  $\\mathcal{L}$ from a recovered batch from the previously stored results.\n",
        "\n",
        "***\n",
        "__Question 6__ Implement the class ```Memory``` that stores moves (in a replay buffer) via ```remember``` and provides a ```random_access``` to these. Specify a maximum memory size to avoid side effects. You can for example use a ```list()``` and set by default ```max_memory=100```."
      ]
    },
    {
      "metadata": {
        "id": "pS3dZkBT-XIf",
        "colab_type": "code",
        "colab": {}
      },
      "cell_type": "code",
      "source": [
        "import random\n",
        "\n",
        "class Memory(object):\n",
        "    def __init__(self, max_memory=100):\n",
        "        self.max_memory = max_memory\n",
        "        self.memory = list()\n",
        "\n",
        "    def remember(self, m):\n",
        "        if len(self.memory) >= self.max_memory:\n",
        "            self.memory.pop(0)\n",
        "        self.memory.append(m)\n",
        "\n",
        "    def random_access(self):\n",
        "        return random.choice(self.memory)"
      ],
      "execution_count": 0,
      "outputs": []
    },
    {
      "metadata": {
        "id": "ZgWGUab4-XIh",
        "colab_type": "text"
      },
      "cell_type": "markdown",
      "source": [
        "***\n",
        "The pipeline we will use for training is given below:"
      ]
    },
    {
      "metadata": {
        "id": "nSDCbuei-XIi",
        "colab_type": "code",
        "colab": {}
      },
      "cell_type": "code",
      "source": [
        "def train(agent,env,epoch,prefix=''):\n",
        "    # Number of won games\n",
        "    score = 0\n",
        "    loss = 0\n",
        "\n",
        "    for e in range(epoch):\n",
        "        # At each epoch, we restart to a fresh game and get the initial state\n",
        "        state = env.reset()\n",
        "        # This assumes that the games will terminate\n",
        "        game_over = False\n",
        "\n",
        "        win = 0\n",
        "        lose = 0\n",
        "\n",
        "        while not game_over:\n",
        "            # The agent performs an action\n",
        "            action = agent.act(state)\n",
        "\n",
        "            # Apply an action to the environment, get the next state, the reward\n",
        "            # and if the games end\n",
        "            prev_state = state\n",
        "            state, reward, game_over = env.act(action)\n",
        "\n",
        "            # Update the counters\n",
        "            if reward > 0:\n",
        "                win = win + reward\n",
        "            if reward < 0:\n",
        "                lose = lose -reward\n",
        "\n",
        "            # Apply the reinforcement strategy\n",
        "            loss = agent.reinforce(prev_state, state,  action, reward, game_over)\n",
        "\n",
        "        # Save as a mp4\n",
        "        if e % 10 == 0:\n",
        "            env.draw(prefix+str(e))\n",
        "\n",
        "        # Update stats\n",
        "        score += win-lose\n",
        "\n",
        "        print(\"Epoch {:03d}/{:03d} | Loss {:.4f} | Win/lose count {}/{} ({})\"\n",
        "              .format(e, epoch, loss, win, lose, win-lose))\n",
        "        agent.save(name_weights=prefix+'model.h5',name_model=prefix+'model.json')"
      ],
      "execution_count": 0,
      "outputs": []
    },
    {
      "metadata": {
        "id": "_SYFUuaD-XIn",
        "colab_type": "text"
      },
      "cell_type": "markdown",
      "source": [
        "***\n",
        "__Question 7__ Implement the DQN training algorithm using a cascade of fully connected layers. You can use different learning rate, batch size or memory size parameters. In particular, the loss might oscillate while the player will start to win the games. You have to find a good criterium."
      ]
    },
    {
      "metadata": {
        "id": "rw3QGODF-XIn",
        "colab_type": "code",
        "colab": {}
      },
      "cell_type": "code",
      "source": [
        "from keras.models import Sequential\n",
        "from keras.layers import Dense, Flatten\n",
        "\n",
        "class DQN(Agent):\n",
        "    def __init__(self, grid_size,  epsilon = 0.1, memory_size=100, batch_size = 16,n_state=2):\n",
        "        super(DQN, self).__init__(epsilon = epsilon)\n",
        "\n",
        "        # Discount for Q learning\n",
        "        self.discount = 0.99\n",
        "        \n",
        "        self.grid_size = grid_size\n",
        "        \n",
        "        # number of state\n",
        "        self.n_state = n_state\n",
        "\n",
        "        # Memory\n",
        "        self.memory = Memory(memory_size)\n",
        "        \n",
        "        # Batch size when learning\n",
        "        self.batch_size = batch_size\n",
        "\n",
        "    def learned_act(self, s):\n",
        "        return np.argmax(self.model.predict(np.expand_dims(s, axis=0)), axis=1).astype(int)\n",
        "\n",
        "    def reinforce(self, s_, n_s_, a_, r_, game_over_):\n",
        "        # Two steps: first memorize the states, second learn from the pool\n",
        "\n",
        "        self.memory.remember([s_, n_s_, a_, r_, game_over_])\n",
        "        \n",
        "        input_states = np.zeros((self.batch_size, 5,5,self.n_state))\n",
        "        target_q = np.zeros((self.batch_size, 4))\n",
        "        \n",
        "        for i in range(self.batch_size):\n",
        "            # Sample a minibatch from the replay memory\n",
        "            s_, n_s_, a_, r_, game_over_ = self.memory.random_access()\n",
        "            input_states[i] = s_\n",
        "            target_q[i]  = self.model.predict(np.expand_dims(n_s_, axis=0))\n",
        "         \n",
        "            if game_over_:\n",
        "                target_q[i,a_] = r_ \n",
        "            else:\n",
        "                target_q[i,a_] = r_ + self.discount * np.amax(self.model.predict(np.expand_dims(n_s_, axis=0)), axis=1)\n",
        "              \n",
        "\n",
        "        # HINT: Clip the target to avoid exploiding gradients.. -- clipping is a bit tighter\n",
        "        target_q = np.clip(target_q, -3, 3)\n",
        "        \n",
        "        l = self.model.train_on_batch(input_states, target_q)\n",
        "\n",
        "\n",
        "        return l\n",
        "\n",
        "    def save(self,name_weights='model.h5',name_model='model.json'):\n",
        "        self.model.save_weights(name_weights, overwrite=True)\n",
        "        with open(name_model, \"w\") as outfile:\n",
        "            json.dump(self.model.to_json(), outfile)\n",
        "            \n",
        "    def load(self,name_weights='model.h5',name_model='model.json'):\n",
        "        with open(name_model, \"r\") as jfile:\n",
        "            model = model_from_json(json.load(jfile))\n",
        "        model.load_weights(name_weights)\n",
        "        model.compile(\"sgd\", \"mse\")\n",
        "        self.model = model\n",
        "\n",
        "            \n",
        "class DQN_FC(DQN):\n",
        "    def __init__(self, *args, lr=0.1,**kwargs):\n",
        "        super(DQN_FC, self).__init__( *args,**kwargs)\n",
        "        \n",
        "        # NN Model\n",
        "        \n",
        "        model = Sequential()\n",
        "        model.add(Flatten())\n",
        "        model.add(Dense(64, activation='relu', input_dim=5*5*self.n_state))\n",
        "        model.add(Dense(32, activation='relu',))\n",
        "        model.add(Dense(4))\n",
        "        model.compile(sgd(lr=lr, decay=1e-4, momentum=0.0), \"mse\")\n",
        "        self.model = model\n",
        "        "
      ],
      "execution_count": 0,
      "outputs": []
    },
    {
      "metadata": {
        "id": "lseA1BD0-XIq",
        "colab_type": "code",
        "outputId": "e515a71d-5683-4a14-bbcf-f6525abed2aa",
        "colab": {
          "base_uri": "https://localhost:8080/",
          "height": 2151
        }
      },
      "cell_type": "code",
      "source": [
        "env = Environment(grid_size=size, max_time=T, temperature=0.3)\n",
        "agent = DQN_FC(size, lr=.1, epsilon = 0.1, memory_size=2000, batch_size = 32)\n",
        "train(agent, env, epochs_train, prefix='fc_train')\n",
        "HTML(display_videos('fc_train0.mp4'))"
      ],
      "execution_count": 12,
      "outputs": [
        {
          "output_type": "stream",
          "text": [
            "WARNING:tensorflow:From /usr/local/lib/python3.6/dist-packages/tensorflow/python/framework/op_def_library.py:263: colocate_with (from tensorflow.python.framework.ops) is deprecated and will be removed in a future version.\n",
            "Instructions for updating:\n",
            "Colocations handled automatically by placer.\n",
            "WARNING:tensorflow:From /usr/local/lib/python3.6/dist-packages/tensorflow/python/ops/math_ops.py:3066: to_int32 (from tensorflow.python.ops.math_ops) is deprecated and will be removed in a future version.\n",
            "Instructions for updating:\n",
            "Use tf.cast instead.\n",
            "Epoch 000/100 | Loss 0.0419 | Win/lose count 2.5/4.0 (-1.5)\n",
            "Epoch 001/100 | Loss 0.0116 | Win/lose count 5.5/7.0 (-1.5)\n",
            "Epoch 002/100 | Loss 0.0056 | Win/lose count 4.5/4.0 (0.5)\n",
            "Epoch 003/100 | Loss 0.0177 | Win/lose count 5.0/2.0 (3.0)\n",
            "Epoch 004/100 | Loss 0.0109 | Win/lose count 5.0/6.0 (-1.0)\n",
            "Epoch 005/100 | Loss 0.0096 | Win/lose count 3.0/8.0 (-5.0)\n",
            "Epoch 006/100 | Loss 0.0104 | Win/lose count 3.0/6.0 (-3.0)\n",
            "Epoch 007/100 | Loss 0.0164 | Win/lose count 2.5/5.0 (-2.5)\n",
            "Epoch 008/100 | Loss 0.0705 | Win/lose count 3.0/4.0 (-1.0)\n",
            "Epoch 009/100 | Loss 0.0136 | Win/lose count 5.0/6.0 (-1.0)\n",
            "Epoch 010/100 | Loss 0.0672 | Win/lose count 8.5/6.0 (2.5)\n",
            "Epoch 011/100 | Loss 0.0042 | Win/lose count 3.5/2.0 (1.5)\n",
            "Epoch 012/100 | Loss 0.0173 | Win/lose count 9.5/9.0 (0.5)\n",
            "Epoch 013/100 | Loss 0.0652 | Win/lose count 10.0/7.0 (3.0)\n",
            "Epoch 014/100 | Loss 0.0167 | Win/lose count 4.5/3.0 (1.5)\n",
            "Epoch 015/100 | Loss 0.0142 | Win/lose count 10.0/8.0 (2.0)\n",
            "Epoch 016/100 | Loss 0.0206 | Win/lose count 12.5/8.0 (4.5)\n",
            "Epoch 017/100 | Loss 0.0109 | Win/lose count 5.5/9.0 (-3.5)\n",
            "Epoch 018/100 | Loss 0.0195 | Win/lose count 9.0/8.0 (1.0)\n",
            "Epoch 019/100 | Loss 0.0037 | Win/lose count 8.5/9.0 (-0.5)\n",
            "Epoch 020/100 | Loss 0.0117 | Win/lose count 4.0/2.0 (2.0)\n",
            "Epoch 021/100 | Loss 0.0060 | Win/lose count 5.0/2.0 (3.0)\n",
            "Epoch 022/100 | Loss 0.0116 | Win/lose count 5.0/0 (5.0)\n",
            "Epoch 023/100 | Loss 0.0155 | Win/lose count 8.5/8.0 (0.5)\n",
            "Epoch 024/100 | Loss 0.0151 | Win/lose count 7.0/8.0 (-1.0)\n",
            "Epoch 025/100 | Loss 0.0090 | Win/lose count 8.0/3.0 (5.0)\n",
            "Epoch 026/100 | Loss 0.0070 | Win/lose count 11.5/4.0 (7.5)\n",
            "Epoch 027/100 | Loss 0.0534 | Win/lose count 3.5/6.0 (-2.5)\n",
            "Epoch 028/100 | Loss 0.0068 | Win/lose count 9.0/9.0 (0.0)\n",
            "Epoch 029/100 | Loss 0.0079 | Win/lose count 5.0/6.0 (-1.0)\n",
            "Epoch 030/100 | Loss 0.0086 | Win/lose count 10.5/3.0 (7.5)\n",
            "Epoch 031/100 | Loss 0.0051 | Win/lose count 11.0/4.0 (7.0)\n",
            "Epoch 032/100 | Loss 0.0149 | Win/lose count 6.0/3.0 (3.0)\n",
            "Epoch 033/100 | Loss 0.0206 | Win/lose count 8.0/2.0 (6.0)\n",
            "Epoch 034/100 | Loss 0.0126 | Win/lose count 6.0/5.0 (1.0)\n",
            "Epoch 035/100 | Loss 0.0046 | Win/lose count 8.0/4.0 (4.0)\n",
            "Epoch 036/100 | Loss 0.0105 | Win/lose count 6.5/6.0 (0.5)\n",
            "Epoch 037/100 | Loss 0.0128 | Win/lose count 7.0/4.0 (3.0)\n",
            "Epoch 038/100 | Loss 0.0139 | Win/lose count 10.0/6.0 (4.0)\n",
            "Epoch 039/100 | Loss 0.0099 | Win/lose count 3.5/1.0 (2.5)\n",
            "Epoch 040/100 | Loss 0.0182 | Win/lose count 5.5/5.0 (0.5)\n",
            "Epoch 041/100 | Loss 0.1004 | Win/lose count 5.0/5.0 (0.0)\n",
            "Epoch 042/100 | Loss 0.0041 | Win/lose count 9.0/8.0 (1.0)\n",
            "Epoch 043/100 | Loss 0.0098 | Win/lose count 7.0/1.0 (6.0)\n",
            "Epoch 044/100 | Loss 0.0100 | Win/lose count 8.0/0 (8.0)\n",
            "Epoch 045/100 | Loss 0.0047 | Win/lose count 9.0/5.0 (4.0)\n",
            "Epoch 046/100 | Loss 0.0097 | Win/lose count 4.0/4.0 (0.0)\n",
            "Epoch 047/100 | Loss 0.0126 | Win/lose count 4.0/4.0 (0.0)\n",
            "Epoch 048/100 | Loss 0.0582 | Win/lose count 4.0/3.0 (1.0)\n",
            "Epoch 049/100 | Loss 0.0043 | Win/lose count 3.0/3.0 (0.0)\n",
            "Epoch 050/100 | Loss 0.0552 | Win/lose count 7.0/4.0 (3.0)\n",
            "Epoch 051/100 | Loss 0.0112 | Win/lose count 5.5/1.0 (4.5)\n",
            "Epoch 052/100 | Loss 0.0045 | Win/lose count 6.5/3.0 (3.5)\n",
            "Epoch 053/100 | Loss 0.0056 | Win/lose count 4.0/2.0 (2.0)\n",
            "Epoch 054/100 | Loss 0.0032 | Win/lose count 5.0/4.0 (1.0)\n",
            "Epoch 055/100 | Loss 0.0102 | Win/lose count 5.0/1.0 (4.0)\n",
            "Epoch 056/100 | Loss 0.0033 | Win/lose count 4.5/7.0 (-2.5)\n",
            "Epoch 057/100 | Loss 0.0042 | Win/lose count 2.0/2.0 (0.0)\n",
            "Epoch 058/100 | Loss 0.0042 | Win/lose count 5.5/2.0 (3.5)\n",
            "Epoch 059/100 | Loss 0.0066 | Win/lose count 6.5/3.0 (3.5)\n",
            "Epoch 060/100 | Loss 0.0118 | Win/lose count 5.5/3.0 (2.5)\n",
            "Epoch 061/100 | Loss 0.0081 | Win/lose count 8.5/6.0 (2.5)\n",
            "Epoch 062/100 | Loss 0.0126 | Win/lose count 6.0/1.0 (5.0)\n",
            "Epoch 063/100 | Loss 0.0021 | Win/lose count 2.5/4.0 (-1.5)\n",
            "Epoch 064/100 | Loss 0.0473 | Win/lose count 4.0/3.0 (1.0)\n",
            "Epoch 065/100 | Loss 0.0077 | Win/lose count 8.0/3.0 (5.0)\n",
            "Epoch 066/100 | Loss 0.0057 | Win/lose count 5.0/1.0 (4.0)\n",
            "Epoch 067/100 | Loss 0.0108 | Win/lose count 6.0/3.0 (3.0)\n",
            "Epoch 068/100 | Loss 0.0049 | Win/lose count 4.0/6.0 (-2.0)\n",
            "Epoch 069/100 | Loss 0.0035 | Win/lose count 5.5/8.0 (-2.5)\n",
            "Epoch 070/100 | Loss 0.0893 | Win/lose count 1.5/4.0 (-2.5)\n",
            "Epoch 071/100 | Loss 0.0526 | Win/lose count 6.0/2.0 (4.0)\n",
            "Epoch 072/100 | Loss 0.0032 | Win/lose count 6.5/4.0 (2.5)\n",
            "Epoch 073/100 | Loss 0.0467 | Win/lose count 3.5/0 (3.5)\n",
            "Epoch 074/100 | Loss 0.0145 | Win/lose count 9.0/5.0 (4.0)\n",
            "Epoch 075/100 | Loss 0.0263 | Win/lose count 5.0/5.0 (0.0)\n",
            "Epoch 076/100 | Loss 0.0021 | Win/lose count 6.5/3.0 (3.5)\n",
            "Epoch 077/100 | Loss 0.0829 | Win/lose count 5.0/4.0 (1.0)\n",
            "Epoch 078/100 | Loss 0.0414 | Win/lose count 3.5/3.0 (0.5)\n",
            "Epoch 079/100 | Loss 0.0053 | Win/lose count 9.0/2.0 (7.0)\n",
            "Epoch 080/100 | Loss 0.0208 | Win/lose count 4.0/5.0 (-1.0)\n",
            "Epoch 081/100 | Loss 0.0236 | Win/lose count 5.0/5.0 (0.0)\n",
            "Epoch 082/100 | Loss 0.0441 | Win/lose count 5.0/2.0 (3.0)\n",
            "Epoch 083/100 | Loss 0.0104 | Win/lose count 2.5/0 (2.5)\n",
            "Epoch 084/100 | Loss 0.0173 | Win/lose count 3.5/5.0 (-1.5)\n",
            "Epoch 085/100 | Loss 0.0026 | Win/lose count 3.0/4.0 (-1.0)\n",
            "Epoch 086/100 | Loss 0.0132 | Win/lose count 3.5/2.0 (1.5)\n",
            "Epoch 087/100 | Loss 0.0112 | Win/lose count 7.0/3.0 (4.0)\n",
            "Epoch 088/100 | Loss 0.0104 | Win/lose count 5.0/4.0 (1.0)\n",
            "Epoch 089/100 | Loss 0.0448 | Win/lose count 6.5/3.0 (3.5)\n",
            "Epoch 090/100 | Loss 0.0033 | Win/lose count 6.5/0 (6.5)\n",
            "Epoch 091/100 | Loss 0.0052 | Win/lose count 6.5/1.0 (5.5)\n",
            "Epoch 092/100 | Loss 0.0013 | Win/lose count 6.0/3.0 (3.0)\n",
            "Epoch 093/100 | Loss 0.0142 | Win/lose count 3.5/4.0 (-0.5)\n",
            "Epoch 094/100 | Loss 0.0163 | Win/lose count 4.0/3.0 (1.0)\n",
            "Epoch 095/100 | Loss 0.0058 | Win/lose count 3.5/2.0 (1.5)\n",
            "Epoch 096/100 | Loss 0.0030 | Win/lose count 7.0/2.0 (5.0)\n",
            "Epoch 097/100 | Loss 0.0502 | Win/lose count 3.0/3.0 (0.0)\n",
            "Epoch 098/100 | Loss 0.0101 | Win/lose count 5.0/1.0 (4.0)\n",
            "Epoch 099/100 | Loss 0.0082 | Win/lose count 5.0/2.0 (3.0)\n"
          ],
          "name": "stdout"
        },
        {
          "output_type": "execute_result",
          "data": {
            "text/html": [
              "<video alt=\"test\" controls>\n",
              "                <source src=\"data:video/mp4;base64,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\" type=\"video/mp4\" />\n",
              "             </video>"
            ],
            "text/plain": [
              "<IPython.core.display.HTML object>"
            ]
          },
          "metadata": {
            "tags": []
          },
          "execution_count": 12
        }
      ]
    },
    {
      "metadata": {
        "id": "y5_KuvfH-XIs",
        "colab_type": "text"
      },
      "cell_type": "markdown",
      "source": [
        "***\n",
        "***\n",
        "__Question 8__ Implement the DQN training algorithm using a CNN (for example, 2 convolutional layers and one final fully connected layer)."
      ]
    },
    {
      "metadata": {
        "id": "KcErOQHh-XIt",
        "colab_type": "code",
        "colab": {}
      },
      "cell_type": "code",
      "source": [
        "from keras.layers import Conv2D\n",
        "\n",
        "class DQN_CNN(DQN):\n",
        "    def __init__(self, *args,lr=0.1,**kwargs):\n",
        "        super(DQN_CNN, self).__init__(*args,**kwargs)\n",
        "        \n",
        "        ###### NN Model\n",
        "        model = Sequential()\n",
        "        model.add(Conv2D(32, 2, activation='relu', input_shape=(5,5,self.n_state)))\n",
        "        model.add(Conv2D(32, 2, activation='relu'))\n",
        "        model.add(Flatten())\n",
        "        model.add(Dense(4))\n",
        "        model.compile(sgd(lr=lr, decay=1e-4, momentum=0.0), \"mse\")\n",
        "        self.model = model"
      ],
      "execution_count": 0,
      "outputs": []
    },
    {
      "metadata": {
        "id": "I_5Zs_o_-XIv",
        "colab_type": "code",
        "outputId": "e8fd158f-1add-421d-d76c-d293de15de83",
        "colab": {
          "base_uri": "https://localhost:8080/",
          "height": 2027
        }
      },
      "cell_type": "code",
      "source": [
        "env = Environment(grid_size=size, max_time=T, temperature=0.3)\n",
        "agent = DQN_CNN(size, lr=.1, epsilon = 0.1, memory_size=2000, batch_size = 32)\n",
        "train(agent,env,epochs_train,prefix='cnn_train')\n",
        "HTML(display_videos('cnn_train0.mp4'))"
      ],
      "execution_count": 14,
      "outputs": [
        {
          "output_type": "stream",
          "text": [
            "Epoch 000/100 | Loss 0.0034 | Win/lose count 2.0/6.0 (-4.0)\n",
            "Epoch 001/100 | Loss 0.0052 | Win/lose count 2.0/2.0 (0.0)\n",
            "Epoch 002/100 | Loss 0.0087 | Win/lose count 3.0/3.0 (0.0)\n",
            "Epoch 003/100 | Loss 0.0163 | Win/lose count 7.0/6.0 (1.0)\n",
            "Epoch 004/100 | Loss 0.0039 | Win/lose count 4.0/2.0 (2.0)\n",
            "Epoch 005/100 | Loss 0.0136 | Win/lose count 7.0/4.0 (3.0)\n",
            "Epoch 006/100 | Loss 0.0023 | Win/lose count 6.0/5.0 (1.0)\n",
            "Epoch 007/100 | Loss 0.0024 | Win/lose count 5.0/4.0 (1.0)\n",
            "Epoch 008/100 | Loss 0.0525 | Win/lose count 12.5/4.0 (8.5)\n",
            "Epoch 009/100 | Loss 0.0128 | Win/lose count 10.5/3.0 (7.5)\n",
            "Epoch 010/100 | Loss 0.0076 | Win/lose count 2.0/2.0 (0.0)\n",
            "Epoch 011/100 | Loss 0.0146 | Win/lose count 10.0/1.0 (9.0)\n",
            "Epoch 012/100 | Loss 0.0047 | Win/lose count 6.0/0 (6.0)\n",
            "Epoch 013/100 | Loss 0.0020 | Win/lose count 7.5/2.0 (5.5)\n",
            "Epoch 014/100 | Loss 0.0019 | Win/lose count 9.0/5.0 (4.0)\n",
            "Epoch 015/100 | Loss 0.0018 | Win/lose count 8.5/6.0 (2.5)\n",
            "Epoch 016/100 | Loss 0.0034 | Win/lose count 12.5/4.0 (8.5)\n",
            "Epoch 017/100 | Loss 0.0022 | Win/lose count 14.0/5.0 (9.0)\n",
            "Epoch 018/100 | Loss 0.0690 | Win/lose count 5.5/5.0 (0.5)\n",
            "Epoch 019/100 | Loss 0.0111 | Win/lose count 9.0/12.0 (-3.0)\n",
            "Epoch 020/100 | Loss 0.0463 | Win/lose count 2.5/5.0 (-2.5)\n",
            "Epoch 021/100 | Loss 0.0505 | Win/lose count 10.0/11.0 (-1.0)\n",
            "Epoch 022/100 | Loss 0.0137 | Win/lose count 12.5/4.0 (8.5)\n",
            "Epoch 023/100 | Loss 0.0056 | Win/lose count 7.0/11.0 (-4.0)\n",
            "Epoch 024/100 | Loss 0.0046 | Win/lose count 19.0/6.0 (13.0)\n",
            "Epoch 025/100 | Loss 0.0033 | Win/lose count 10.0/7.0 (3.0)\n",
            "Epoch 026/100 | Loss 0.0125 | Win/lose count 16.5/4.0 (12.5)\n",
            "Epoch 027/100 | Loss 0.0198 | Win/lose count 18.5/4.0 (14.5)\n",
            "Epoch 028/100 | Loss 0.0652 | Win/lose count 6.0/2.0 (4.0)\n",
            "Epoch 029/100 | Loss 0.0109 | Win/lose count 13.5/5.0 (8.5)\n",
            "Epoch 030/100 | Loss 0.0816 | Win/lose count 17.0/3.0 (14.0)\n",
            "Epoch 031/100 | Loss 0.0216 | Win/lose count 12.5/3.0 (9.5)\n",
            "Epoch 032/100 | Loss 0.0026 | Win/lose count 7.0/3.0 (4.0)\n",
            "Epoch 033/100 | Loss 0.0104 | Win/lose count 22.0/3.0 (19.0)\n",
            "Epoch 034/100 | Loss 0.0023 | Win/lose count 10.0/3.0 (7.0)\n",
            "Epoch 035/100 | Loss 0.0018 | Win/lose count 8.5/3.0 (5.5)\n",
            "Epoch 036/100 | Loss 0.0025 | Win/lose count 10.0/4.0 (6.0)\n",
            "Epoch 037/100 | Loss 0.0074 | Win/lose count 9.0/2.0 (7.0)\n",
            "Epoch 038/100 | Loss 0.0024 | Win/lose count 9.5/4.0 (5.5)\n",
            "Epoch 039/100 | Loss 0.0019 | Win/lose count 7.0/2.0 (5.0)\n",
            "Epoch 040/100 | Loss 0.0034 | Win/lose count 9.5/6.0 (3.5)\n",
            "Epoch 041/100 | Loss 0.0022 | Win/lose count 13.0/3.0 (10.0)\n",
            "Epoch 042/100 | Loss 0.0559 | Win/lose count 10.5/8.0 (2.5)\n",
            "Epoch 043/100 | Loss 0.0014 | Win/lose count 10.0/3.0 (7.0)\n",
            "Epoch 044/100 | Loss 0.0035 | Win/lose count 8.0/6.0 (2.0)\n",
            "Epoch 045/100 | Loss 0.1063 | Win/lose count 14.5/1.0 (13.5)\n",
            "Epoch 046/100 | Loss 0.0020 | Win/lose count 13.5/4.0 (9.5)\n",
            "Epoch 047/100 | Loss 0.0653 | Win/lose count 10.5/5.0 (5.5)\n",
            "Epoch 048/100 | Loss 0.0020 | Win/lose count 11.5/4.0 (7.5)\n",
            "Epoch 049/100 | Loss 0.0115 | Win/lose count 15.5/2.0 (13.5)\n",
            "Epoch 050/100 | Loss 0.1118 | Win/lose count 13.5/3.0 (10.5)\n",
            "Epoch 051/100 | Loss 0.0114 | Win/lose count 10.0/7.0 (3.0)\n",
            "Epoch 052/100 | Loss 0.0028 | Win/lose count 20.0/3.0 (17.0)\n",
            "Epoch 053/100 | Loss 0.0679 | Win/lose count 16.5/8.0 (8.5)\n",
            "Epoch 054/100 | Loss 0.0095 | Win/lose count 13.0/4.0 (9.0)\n",
            "Epoch 055/100 | Loss 0.0143 | Win/lose count 14.5/0 (14.5)\n",
            "Epoch 056/100 | Loss 0.0036 | Win/lose count 20.0/1.0 (19.0)\n",
            "Epoch 057/100 | Loss 0.0145 | Win/lose count 17.5/2.0 (15.5)\n",
            "Epoch 058/100 | Loss 0.0079 | Win/lose count 11.0/6.0 (5.0)\n",
            "Epoch 059/100 | Loss 0.0151 | Win/lose count 11.5/4.0 (7.5)\n",
            "Epoch 060/100 | Loss 0.0020 | Win/lose count 9.0/2.0 (7.0)\n",
            "Epoch 061/100 | Loss 0.0023 | Win/lose count 7.0/4.0 (3.0)\n",
            "Epoch 062/100 | Loss 0.0075 | Win/lose count 10.5/2.0 (8.5)\n",
            "Epoch 063/100 | Loss 0.0081 | Win/lose count 11.5/5.0 (6.5)\n",
            "Epoch 064/100 | Loss 0.0022 | Win/lose count 13.0/6.0 (7.0)\n",
            "Epoch 065/100 | Loss 0.0087 | Win/lose count 21.0/4.0 (17.0)\n",
            "Epoch 066/100 | Loss 0.0016 | Win/lose count 16.0/2.0 (14.0)\n",
            "Epoch 067/100 | Loss 0.0202 | Win/lose count 9.5/3.0 (6.5)\n",
            "Epoch 068/100 | Loss 0.0093 | Win/lose count 16.0/1.0 (15.0)\n",
            "Epoch 069/100 | Loss 0.0154 | Win/lose count 9.5/5.0 (4.5)\n",
            "Epoch 070/100 | Loss 0.0071 | Win/lose count 13.5/5.0 (8.5)\n",
            "Epoch 071/100 | Loss 0.0089 | Win/lose count 10.5/6.0 (4.5)\n",
            "Epoch 072/100 | Loss 0.0014 | Win/lose count 19.0/3.0 (16.0)\n",
            "Epoch 073/100 | Loss 0.0018 | Win/lose count 9.5/6.0 (3.5)\n",
            "Epoch 074/100 | Loss 0.0016 | Win/lose count 20.5/6.0 (14.5)\n",
            "Epoch 075/100 | Loss 0.0128 | Win/lose count 11.5/7.0 (4.5)\n",
            "Epoch 076/100 | Loss 0.0078 | Win/lose count 17.5/6.0 (11.5)\n",
            "Epoch 077/100 | Loss 0.0025 | Win/lose count 18.5/6.0 (12.5)\n",
            "Epoch 078/100 | Loss 0.0111 | Win/lose count 13.5/6.0 (7.5)\n",
            "Epoch 079/100 | Loss 0.0078 | Win/lose count 12.5/7.0 (5.5)\n",
            "Epoch 080/100 | Loss 0.0025 | Win/lose count 7.5/6.0 (1.5)\n",
            "Epoch 081/100 | Loss 0.0501 | Win/lose count 16.5/6.0 (10.5)\n",
            "Epoch 082/100 | Loss 0.0096 | Win/lose count 11.5/0 (11.5)\n",
            "Epoch 083/100 | Loss 0.0026 | Win/lose count 18.5/5.0 (13.5)\n",
            "Epoch 084/100 | Loss 0.0102 | Win/lose count 13.5/5.0 (8.5)\n",
            "Epoch 085/100 | Loss 0.0023 | Win/lose count 6.0/3.0 (3.0)\n",
            "Epoch 086/100 | Loss 0.0021 | Win/lose count 14.5/2.0 (12.5)\n",
            "Epoch 087/100 | Loss 0.0090 | Win/lose count 13.0/3.0 (10.0)\n",
            "Epoch 088/100 | Loss 0.0230 | Win/lose count 9.5/2.0 (7.5)\n",
            "Epoch 089/100 | Loss 0.0028 | Win/lose count 11.5/6.0 (5.5)\n",
            "Epoch 090/100 | Loss 0.0086 | Win/lose count 9.5/2.0 (7.5)\n",
            "Epoch 091/100 | Loss 0.0094 | Win/lose count 8.5/1.0 (7.5)\n",
            "Epoch 092/100 | Loss 0.0096 | Win/lose count 13.5/5.0 (8.5)\n",
            "Epoch 093/100 | Loss 0.0091 | Win/lose count 11.5/2.0 (9.5)\n",
            "Epoch 094/100 | Loss 0.0029 | Win/lose count 19.5/6.0 (13.5)\n",
            "Epoch 095/100 | Loss 0.0033 | Win/lose count 11.0/3.0 (8.0)\n",
            "Epoch 096/100 | Loss 0.0112 | Win/lose count 8.0/1.0 (7.0)\n",
            "Epoch 097/100 | Loss 0.0040 | Win/lose count 5.5/7.0 (-1.5)\n",
            "Epoch 098/100 | Loss 0.0078 | Win/lose count 6.5/3.0 (3.5)\n",
            "Epoch 099/100 | Loss 0.0121 | Win/lose count 12.5/3.0 (9.5)\n"
          ],
          "name": "stdout"
        },
        {
          "output_type": "execute_result",
          "data": {
            "text/html": [
              "<video alt=\"test\" controls>\n",
              "                <source src=\"data:video/mp4;base64,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\" type=\"video/mp4\" />\n",
              "             </video>"
            ],
            "text/plain": [
              "<IPython.core.display.HTML object>"
            ]
          },
          "metadata": {
            "tags": []
          },
          "execution_count": 14
        }
      ]
    },
    {
      "metadata": {
        "id": "tKFRdHEA-XIy",
        "colab_type": "text"
      },
      "cell_type": "markdown",
      "source": [
        "***\n",
        "***\n",
        "__Question 9__ Test both algorithms and compare their performances. Which issue(s) do you observe? Observe also different behaviors by changing the temperature."
      ]
    },
    {
      "metadata": {
        "id": "CPJ8Jm0O-XIy",
        "colab_type": "code",
        "outputId": "62767670-a065-402f-a3fe-c126000d1046",
        "colab": {
          "base_uri": "https://localhost:8080/",
          "height": 433
        }
      },
      "cell_type": "code",
      "source": [
        "env = Environment(grid_size=size, max_time=T,temperature=0.3)\n",
        "agent_cnn = DQN_CNN(size, lr=.1, epsilon = 0.1, memory_size=2000, batch_size = 32)\n",
        "agent_cnn.load(name_weights='cnn_trainmodel.h5',name_model='cnn_trainmodel.json')\n",
        "\n",
        "agent_fc = DQN_FC(size, lr=.1, epsilon = 0.1, memory_size=2000, batch_size = 32)\n",
        "agent_fc.load(name_weights='fc_trainmodel.h5',name_model='fc_trainmodel.json')\n",
        "print('Test of the CNN')\n",
        "test(agent_cnn,env,epochs_test,prefix='cnn_test')\n",
        "print('Test of the FC')\n",
        "test(agent_fc,env,epochs_test,prefix='fc_test')"
      ],
      "execution_count": 15,
      "outputs": [
        {
          "output_type": "stream",
          "text": [
            "Test of the CNN\n",
            "Win/lose count 3.5/1.0. Average score (2.5)\n",
            "Win/lose count 11.5/2.0. Average score (6.0)\n",
            "Win/lose count 6.5/0. Average score (6.166666666666667)\n",
            "Win/lose count 5.0/0. Average score (5.875)\n",
            "Win/lose count 7.0/0. Average score (6.1)\n",
            "Win/lose count 7.5/1.0. Average score (6.166666666666667)\n",
            "Win/lose count 3.0/2.0. Average score (5.428571428571429)\n",
            "Win/lose count 4.0/1.0. Average score (5.125)\n",
            "Win/lose count 8.5/1.0. Average score (5.388888888888889)\n",
            "Win/lose count 5.5/1.0. Average score (5.3)\n",
            "Final score: 5.3\n",
            "Test of the FC\n",
            "Win/lose count 4.5/3.0. Average score (1.5)\n",
            "Win/lose count 5.5/1.0. Average score (3.0)\n",
            "Win/lose count 3.5/2.0. Average score (2.5)\n",
            "Win/lose count 4.0/1.0. Average score (2.625)\n",
            "Win/lose count 3.0/1.0. Average score (2.5)\n",
            "Win/lose count 5.5/0. Average score (3.0)\n",
            "Win/lose count 9.0/2.0. Average score (3.5714285714285716)\n",
            "Win/lose count 1.0/0. Average score (3.25)\n",
            "Win/lose count 5.0/0. Average score (3.4444444444444446)\n",
            "Win/lose count 2.5/1.0. Average score (3.25)\n",
            "Final score: 3.25\n"
          ],
          "name": "stdout"
        }
      ]
    },
    {
      "metadata": {
        "id": "OgudbyxI-XI4",
        "colab_type": "code",
        "outputId": "3a0d55c7-ce02-4fe0-d62b-0236d4e589a2",
        "colab": {
          "base_uri": "https://localhost:8080/",
          "height": 293
        }
      },
      "cell_type": "code",
      "source": [
        "HTML(display_videos('cnn_test0.mp4'))"
      ],
      "execution_count": 16,
      "outputs": [
        {
          "output_type": "execute_result",
          "data": {
            "text/html": [
              "<video alt=\"test\" controls>\n",
              "                <source src=\"data:video/mp4;base64,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\" type=\"video/mp4\" />\n",
              "             </video>"
            ],
            "text/plain": [
              "<IPython.core.display.HTML object>"
            ]
          },
          "metadata": {
            "tags": []
          },
          "execution_count": 16
        }
      ]
    },
    {
      "metadata": {
        "id": "d6WLe6sf-XI6",
        "colab_type": "code",
        "outputId": "2e59b184-8e96-43e6-fb20-2ee452cdf9f1",
        "colab": {
          "base_uri": "https://localhost:8080/",
          "height": 293
        }
      },
      "cell_type": "code",
      "source": [
        "HTML(display_videos('fc_test0.mp4'))"
      ],
      "execution_count": 17,
      "outputs": [
        {
          "output_type": "execute_result",
          "data": {
            "text/html": [
              "<video alt=\"test\" controls>\n",
              "                <source src=\"data:video/mp4;base64,AAAAIGZ0eXBpc29tAAACAGlzb21pc28yYXZjMW1wNDEAAAAIZnJlZQAAFn9tZGF0AAACrQYF//+p3EXpvebZSLeWLNgg2SPu73gyNjQgLSBjb3JlIDE1MiByMjg1NCBlOWE1OTAzIC0gSC4yNjQvTVBFRy00IEFWQyBjb2RlYyAtIENvcHlsZWZ0IDIwMDMtMjAxNyAtIGh0dHA6Ly93d3cudmlkZW9sYW4ub3JnL3gyNjQuaHRtbCAtIG9wdGlvbnM6IGNhYmFjPTEgcmVmPTMgZGVibG9jaz0xOjA6MCBhbmFseXNlPTB4MToweDExMSBtZT1oZXggc3VibWU9NyBwc3k9MSBwc3lfcmQ9MS4wMDowLjAwIG1peGVkX3JlZj0xIG1lX3JhbmdlPTE2IGNocm9tYV9tZT0xIHRyZWxsaXM9MSA4eDhkY3Q9MCBjcW09MCBkZWFkem9uZT0yMSwxMSBmYXN0X3Bza2lwPTEgY2hyb21hX3FwX29mZnNldD00IHRocmVhZHM9MyBsb29rYWhlYWRfdGhyZWFkcz0xIHNsaWNlZF90aHJlYWRzPTAgbnI9MCBkZWNpbWF0ZT0xIGludGVybGFjZWQ9MCBibHVyYXlfY29tcGF0PTAgY29uc3RyYWluZWRfaW50cmE9MCBiZnJhbWVzPTMgYl9weXJhbWlkPTIgYl9hZGFwdD0xIGJfYmlhcz0wIGRpcmVjdD0xIHdlaWdodGI9MSBvcGVuX2dvcD0wIHdlaWdodHA9MiBrZXlpbnQ9MjUwIGtleWludF9taW49MjUgc2NlbmVjdXQ9NDAgaW50cmFfcmVmcmVzaD0wIHJjX2xvb2thaGVhZD00MCByYz1jcmYgbWJ0cmVlPTEgY3JmPTIzLjAgcWNvbXA9MC42MCBxcG1pbj0wIHFwbWF4PTY5IHFwc3RlcD00IGlwX3JhdGlvPTEuNDAgYXE9MToxLjAwAIAAAALVZYiEADf//vaH+BTZWBP+Wb/9DX/cj9uPrP1xYyEE31qvIejAGS+1H+b/rFFs6Z6UB/fgCJQAc24ZwpJw4v/ApLdW+BTLYTnEODoZWg4YUdRE/ygdxElmEzXo0mBh0r4U/2goZ0o1Hw3C/bV+27hmOQkpnXDvfOxDEqMPJsnShnSXpckrDHS4Kclu3+OLrnoa22BtIYp+auYbld96xMfQyFqsuUYnSs+QltVGhr8UWOFJqjEtbW3AP1/FjOkEzMsKdIJ8m8Ii3tTvFO9aTHBE52IWCMDhxELWXoA/7mfrLau6Slx681Efboor1S8NBf8ypg2ZiQ/U0VERNgcd0KbmyodXP7L6hdGDfrkk0PAgVeZg9bbveE+FQ5u3AUmL4K02yJu3JA9ftQfYGwD07ufKRyr3TIBFomtFni6o41KGjhG7xtNJimENqT+vrojn6X6KF2wh3aDA1gq/E1ZwR8sBc3D9GsAFPsCanWA1OsEwHlhC9lAvrHdRMBiIeyKhSDN7bUVyeGcYYP0Spux39X6Hq4AYqa1LF+++TAT2Zpr3jHBofgRElue+nvfQs+efiYePOl/LMXhsTFK7MhmOBSMal7YgC3pqaqdEqA1KGszrhEkwcLkXA4VNWAoj9Hdh/p3+j5c/6lZuW2I4kRL5EITSHNa3f1q45plUdXiiieUr+Bl334fA2o/w5mAFsDZvzE2/lWteu0npkqXsU0IoZquA4OQyY7Ho+3Ie3Jz38WJPkMhAkBnN+gAfiWCLxMHdwueYVfC5pIfb79UdeRwKiw5F2H3ws/bqPTvu0a24AbFqZqZelpJgouucDKe4IWRLW0sNMcYssIv8EIHoImXBSrKUO+zTWYtSviFpZQhAcj0SETHuDJia8PseRC7JYOTDlb8l3myEy6XkDDm8y1JfSvAUY0Utxsj7yrPsPxuL6A8odeWL0Nzc8rb81KCjo2rmwK/HQKiABK0AAAAkQZokbEM//p4QAFa+MWrzLLGFT8yyYOA8yt+RbXnG6XN+VzNgAAAAG0GeQniF/wANM4QK5Ad8Qhd//iEF8T/8V0q94QAAABABnmF0Qr8AC15SXdaCP+bAAAAADwGeY2pCvwAR3YjyYHr33wAAABlBmmVJqEFomUwIZ//+nhAAgpwjn6MB2aI/AAAAGUGahknhClJlMCG//qeEADS0if6rfMfiPmEAAAAfQZqoSeEOiZTBTRMM//6eEAFGr3Ncc/R9wdl/fzb1IQAAAA8BnsdqQr8AQ3Z5bhs2pyMAAAAbQZrJSeEPJlMCGf/+nhAB8CnHP4c+ICmfrM3AAAAAGUGa6knhDyZTAhv//qeEAMfSJ/qR0aQ00EEAAAAeQZsMSeEPJlMFETwz//6eEATQQ5VuCL2787FqojZgAAAADwGfK2pCvwD+2I8mB69tQQAAABpBmy1J4Q8mUwIZ//6eEAmGDHP0ufCV/b5xwQAAABpBm05J4Q8mUwIb//6nhAz3E/01jr1P7jD5gQAAABlBm29J4Q8mUwIb//6nhAz3E/lME3oCMIuBAAAAHUGbkUnhDyZTBRE8O//+qZYGH0c+aZ/GGa0+WYj4AAAADwGfsGpCvwKQTKZtmOwjegAAABxBm7NJ4Q8mUwU8O//+qZYEn4UfSn21CyFLfIoJAAAAEAGf0mpCvwJeC851nHgrY8AAAAASQZvXSeEPJlMCHf/+qZYAAJWAAAAAE0Gf9UURPC//AaMfPosVxNo9otMAAAAQAZ4UdEK/AjMmUE+LMT4XcAAAABABnhZqQr8CSK4Ncd+LK7phAAAAE0GaG0moQWiZTAh3//6plgAAlYEAAAAQQZ45RREsL/8Bo+gbxwDRaQAAABABnlh0Qr8CMyZQT4sxPhdxAAAAEAGeWmpCvwJIrg1x34srumAAAAATQZpfSahBbJlMCHf//qmWAACVgQAAABBBnn1FFSwv/wGj6BvHANFpAAAAEAGenHRCvwIzJlBPizE+F3AAAAAQAZ6eakK/AkiuDXHfiyu6YAAAABNBmoNJqEFsmUwId//+qZYAAJWBAAAAEEGeoUUVLC//AaPoG8cA0WkAAAAQAZ7AdEK/AjMmUE+LMT4XcQAAABABnsJqQr8CSK4Ncd+LK7pgAAAAE0Gax0moQWyZTAh3//6plgAAlYEAAAAQQZ7lRRUsL/8Bo+gbxwDRaQAAABABnwR0Qr8CMyZQT4sxPhdxAAAAEAGfBmpCvwJIrg1x34srumEAAAATQZsLSahBbJlMCHf//qmWAACVgAAAABBBnylFFSwv/wGj6BvHANFpAAAAEAGfSHRCvwIzJlBPizE+F3EAAAAQAZ9KakK/AkiuDXHfiyu6YAAAABNBm09JqEFsmUwId//+qZYAAJWAAAAAEEGfbUUVLC//AaPoG8cA0WkAAAAQAZ+MdEK/AjMmUE+LMT4XcQAAABABn45qQr8CSK4Ncd+LK7phAAAAE0Gbk0moQWyZTAh3//6plgAAlYAAAAAQQZ+xRRUsL/8Bo+gbxwDRaQAAABABn9B0Qr8CMyZQT4sxPhdxAAAAEAGf0mpCvwJIrg1x34srumAAAAATQZvXSahBbJlMCHf//qmWAACVgAAAABBBn/VFFSwv/wGj6BvHANFpAAAAEAGeFHRCvwIzJlBPizE+F3AAAAAQAZ4WakK/AkiuDXHfiyu6YQAAABNBmhtJqEFsmUwId//+qZYAAJWBAAAAEEGeOUUVLC//AaPoG8cA0WkAAAAQAZ5YdEK/AjMmUE+LMT4XcQAAABABnlpqQr8CSK4Ncd+LK7pgAAAAE0GaX0moQWyZTAh3//6plgAAlYEAAAAQQZ59RRUsL/8Bo+gbxwDRaQAAABABnpx0Qr8CMyZQT4sxPhdwAAAAEAGenmpCvwJIrg1x34srumAAAAATQZqDSahBbJlMCHf//qmWAACVgQAAABBBnqFFFSwv/wGj6BvHANFpAAAAEAGewHRCvwIzJlBPizE+F3EAAAAQAZ7CakK/AkiuDXHfiyu6YAAAABNBmsdJqEFsmUwId//+qZYAAJWBAAAAEEGe5UUVLC//AaPoG8cA0WkAAAAQAZ8EdEK/AjMmUE+LMT4XcQAAABABnwZqQr8CSK4Ncd+LK7phAAAAE0GbC0moQWyZTAh3//6plgAAlYAAAAAQQZ8pRRUsL/8Bo+gbxwDRaQAAABABn0h0Qr8CMyZQT4sxPhdxAAAAEAGfSmpCvwJIrg1x34srumAAAAATQZtPSahBbJlMCHf//qmWAACVgAAAABBBn21FFSwv/wGj6BvHANFpAAAAEAGfjHRCvwIzJlBPizE+F3EAAAAQAZ+OakK/AkiuDXHfiyu6YQAAABNBm5NJqEFsmUwId//+qZYAAJWAAAAAEEGfsUUVLC//AaPoG8cA0WkAAAAQAZ/QdEK/AjMmUE+LMT4XcQAAABABn9JqQr8CSK4Ncd+LK7pgAAAAE0Gb10moQWyZTAh3//6plgAAlYAAAAAQQZ/1RRUsL/8Bo+gbxwDRaQAAABABnhR0Qr8CMyZQT4sxPhdwAAAAEAGeFmpCvwJIrg1x34srumEAAAATQZobSahBbJlMCHf//qmWAACVgQAAABBBnjlFFSwv/wGj6BvHANFpAAAAEAGeWHRCvwIzJlBPizE+F3EAAAAQAZ5aakK/AkiuDXHfiyu6YAAAABNBml9JqEFsmUwId//+qZYAAJWBAAAAEEGefUUVLC//AaPoG8cA0WkAAAAQAZ6cdEK/AjMmUE+LMT4XcAAAABABnp5qQr8CSK4Ncd+LK7pgAAAAE0Gag0moQWyZTAh3//6plgAAlYEAAAAQQZ6hRRUsL/8Bo+gbxwDRaQAAABABnsB0Qr8CMyZQT4sxPhdxAAAAEAGewmpCvwJIrg1x34srumAAAAATQZrHSahBbJlMCHf//qmWAACVgQAAABBBnuVFFSwv/wGj6BvHANFpAAAAEAGfBHRCvwIzJlBPizE+F3EAAAAQAZ8GakK/AkiuDXHfiyu6YQAAABNBmwtJqEFsmUwId//+qZYAAJWAAAAAEEGfKUUVLC//AaPoG8cA0WkAAAAQAZ9IdEK/AjMmUE+LMT4XcQAAABABn0pqQr8CSK4Ncd+LK7pgAAAAE0GbT0moQWyZTAh3//6plgAAlYAAAAAQQZ9tRRUsL/8Bo+gbxwDRaQAAABABn4x0Qr8CMyZQT4sxPhdxAAAAEAGfjmpCvwJIrg1x34srumEAAAATQZuTSahBbJlMCHf//qmWAACVgAAAABBBn7FFFSwv/wGj6BvHANFpAAAAEAGf0HRCvwIzJlBPizE+F3EAAAAQAZ/SakK/AkiuDXHfiyu6YAAAABNBm9dJqEFsmUwId//+qZYAAJWAAAAAEEGf9UUVLC//AaPoG8cA0WkAAAAQAZ4UdEK/AjMmUE+LMT4XcAAAABABnhZqQr8CSK4Ncd+LK7phAAAAE0GaG0moQWyZTAh3//6plgAAlYEAAAAQQZ45RRUsL/8Bo+gbxwDRaQAAABABnlh0Qr8CMyZQT4sxPhdxAAAAEAGeWmpCvwJIrg1x34srumAAAAATQZpfSahBbJlMCHf//qmWAACVgQAAABBBnn1FFSwv/wGj6BvHANFpAAAAEAGenHRCvwIzJlBPizE+F3AAAAAQAZ6eakK/AkiuDXHfiyu6YAAAABNBmoNJqEFsmUwId//+qZYAAJWBAAAAEEGeoUUVLC//AaPoG8cA0WkAAAAQAZ7AdEK/AjMmUE+LMT4XcQAAABABnsJqQr8CSK4Ncd+LK7pgAAAAE0Gax0moQWyZTAh3//6plgAAlYEAAAAQQZ7lRRUsL/8Bo+gbxwDRaQAAABABnwR0Qr8CMyZQT4sxPhdxAAAAEAGfBmpCvwJIrg1x34srumEAAAATQZsLSahBbJlMCHf//qmWAACVgAAAABBBnylFFSwv/wGj6BvHANFpAAAAEAGfSHRCvwIzJlBPizE+F3EAAAAQAZ9KakK/AkiuDXHfiyu6YAAAABNBm09JqEFsmUwId//+qZYAAJWAAAAAEEGfbUUVLC//AaPoG8cA0WkAAAAQAZ+MdEK/AjMmUE+LMT4XcQAAABABn45qQr8CSK4Ncd+LK7phAAAAE0Gbk0moQWyZTAh3//6plgAAlYAAAAAQQZ+xRRUsL/8Bo+gbxwDRaQAAABABn9B0Qr8CMyZQT4sxPhdxAAAAEAGf0mpCvwJIrg1x34srumAAAAATQZvXSahBbJlMCHf//qmWAACVgAAAABBBn/VFFSwv/wGj6BvHANFpAAAAEAGeFHRCvwIzJlBPizE+F3AAAAAQAZ4WakK/AkiuDXHfiyu6YQAAABNBmhtJqEFsmUwId//+qZYAAJWBAAAAEEGeOUUVLC//AaPoG8cA0WkAAAAQAZ5YdEK/AjMmUE+LMT4XcQAAABABnlpqQr8CSK4Ncd+LK7pgAAAAE0GaX0moQWyZTAh3//6plgAAlYEAAAAQQZ59RRUsL/8Bo+gbxwDRaQAAABABnpx0Qr8CMyZQT4sxPhdwAAAAEAGenmpCvwJIrg1x34srumAAAAATQZqDSahBbJlMCHf//qmWAACVgQAAABBBnqFFFSwv/wGj6BvHANFpAAAAEAGewHRCvwIzJlBPizE+F3EAAAAQAZ7CakK/AkiuDXHfiyu6YAAAABNBmsdJqEFsmUwId//+qZYAAJWBAAAAEEGe5UUVLC//AaPoG8cA0WkAAAAQAZ8EdEK/AjMmUE+LMT4XcQAAABABnwZqQr8CSK4Ncd+LK7phAAAAE0GbC0moQWyZTAh3//6plgAAlYAAAAAQQZ8pRRUsL/8Bo+gbxwDRaQAAABABn0h0Qr8CMyZQT4sxPhdxAAAAEAGfSmpCvwJIrg1x34srumAAAAATQZtPSahBbJlMCHf//qmWAACVgAAAABBBn21FFSwv/wGj6BvHANFpAAAAEAGfjHRCvwIzJlBPizE+F3EAAAAQAZ+OakK/AkiuDXHfiyu6YQAAABNBm5NJqEFsmUwId//+qZYAAJWAAAAAEEGfsUUVLC//AaPoG8cA0WkAAAAQAZ/QdEK/AjMmUE+LMT4XcQAAABABn9JqQr8CSK4Ncd+LK7pgAAAAE0Gb10moQWyZTAh3//6plgAAlYAAAAAQQZ/1RRUsL/8Bo+gbxwDRaQAAABABnhR0Qr8CMyZQT4sxPhdwAAAAEAGeFmpCvwJIrg1x34srumEAAAATQZobSahBbJlMCHf//qmWAACVgQAAABBBnjlFFSwv/wGj6BvHANFpAAAAEAGeWHRCvwIzJlBPizE+F3EAAAAQAZ5aakK/AkiuDXHfiyu6YAAAABJBml9JqEFsmUwIb//+p4QAAScAAAAQQZ59RRUsL/8Bo+gbxwDRaQAAABABnpx0Qr8CMyZQT4sxPhdwAAAAEAGenmpCvwJIrg1x34srumAAAAASQZqDSahBbJlMCG///qeEAAEnAAAAEEGeoUUVLC//AaPoG8cA0WkAAAAQAZ7AdEK/AjMmUE+LMT4XcQAAABABnsJqQr8CSK4Ncd+LK7pgAAAAEkGax0moQWyZTAhn//6eEAAEfQAAABBBnuVFFSwv/wGj6BvHANFpAAAAEAGfBHRCvwIzJlBPizE+F3EAAAAQAZ8GakK/AkiuDXHfiyu6YQAAABtBmwlLqEIQWyRGCCgH8gH9h4BRMK/+OEAAEXAAAAAkAZ8oakK/Aq9j7UHE3arDSSbj9cYT7yDmK+3nPPqnRqFLQSmAAAAMaG1vb3YAAABsbXZoZAAAAAAAAAAAAAAAAAAAA+gAAB+QAAEAAAEAAAAAAAAAAAAAAAABAAAAAAAAAAAAAAAAAAAAAQAAAAAAAAAAAAAAAAAAQAAAAAAAAAAAAAAAAAAAAAAAAAAAAAAAAAAAAAAAAAIAAAuSdHJhawAAAFx0a2hkAAAAAwAAAAAAAAAAAAAAAQAAAAAAAB+QAAAAAAAAAAAAAAAAAAAAAAABAAAAAAAAAAAAAAAAAAAAAQAAAAAAAAAAAAAAAAAAQAAAAAEQAAABEAAAAAAAJGVkdHMAAAAcZWxzdAAAAAAAAAABAAAfkAAABAAAAQAAAAALCm1kaWEAAAAgbWRoZAAAAAAAAAAAAAAAAAAAMgAAAZQAVcQAAAAAAC1oZGxyAAAAAAAAAAB2aWRlAAAAAAAAAAAAAAAAVmlkZW9IYW5kbGVyAAAACrVtaW5mAAAAFHZtaGQAAAABAAAAAAAAAAAAAAAkZGluZgAAABxkcmVmAAAAAAAAAAEAAAAMdXJsIAAAAAEAAAp1c3RibAAAAJVzdHNkAAAAAAAAAAEAAACFYXZjMQAAAAAAAAABAAAAAAAAAAAAAAAAAAAAAAEQARAASAAAAEgAAAAAAAAAAQAAAAAAAAAAAAAAAAAAAAAAAAAAAAAAAAAAAAAAAAAAABj//wAAAC9hdmNDAfQADf/hABdn9AANkZsoIhHQgAAAAwCAAAAZB4oUywEABWjr48RIAAAAGHN0dHMAAAAAAAAAAQAAAMoAAAIAAAAAFHN0c3MAAAAAAAAAAQAAAAEAAAZAY3R0cwAAAAAAAADGAAAAAQAABAAAAAABAAAKAAAAAAEAAAQAAAAAAQAAAAAAAAABAAACAAAAAAIAAAQAAAAAAQAABgAAAAABAAACAAAAAAIAAAQAAAAAAQAABgAAAAABAAACAAAAAAMAAAQAAAAAAQAABgAAAAABAAACAAAAAAEAAAYAAAAAAQAAAgAAAAABAAAKAAAAAAEAAAQAAAAAAQAAAAAAAAABAAACAAAAAAEAAAoAAAAAAQAABAAAAAABAAAAAAAAAAEAAAIAAAAAAQAACgAAAAABAAAEAAAAAAEAAAAAAAAAAQAAAgAAAAABAAAKAAAAAAEAAAQAAAAAAQAAAAAAAAABAAACAAAAAAEAAAoAAAAAAQAABAAAAAABAAAAAAAAAAEAAAIAAAAAAQAACgAAAAABAAAEAAAAAAEAAAAAAAAAAQAAAgAAAAABAAAKAAAAAAEAAAQAAAAAAQAAAAAAAAABAAACAAAAAAEAAAoAAAAAAQAABAAAAAABAAAAAAAAAAEAAAIAAAAAAQAACgAAAAABAAAEAAAAAAEAAAAAAAAAAQAAAgAAAAABAAAKAAAAAAEAAAQAAAAAAQAAAAAAAAABAAACAAAAAAEAAAoAAAAAAQAABAAAAAABAAAAAAAAAAEAAAIAAAAAAQAACgAAAAABAAAEAAAAAAEAAAAAAAAAAQAAAgAAAAABAAAKAAAAAAEAAAQAAAAAAQAAAAAAAAABAAACAAAAAAEAAAoAAAAAAQAABAAAAAABAAAAAAAAAAEAAAIAAAAAAQAACgAAAAABAAAEAAAAAAEAAAAAAAAAAQAAAgAAAAABAAAKAAAAAAEAAAQAAAAAAQAAAAAAAAABAAACAAAAAAEAAAoAAAAAAQAABAAAAAABAAAAAAAAAAEAAAIAAAAAAQAACgAAAAABAAAEAAAAAAEAAAAAAAAAAQAAAgAAAAABAAAKAAAAAAEAAAQAAAAAAQAAAAAAAAABAAACAAAAAAEAAAoAAAAAAQAABAAAAAABAAAAAAAAAAEAAAIAAAAAAQAACgAAAAABAAAEAAAAAAEAAAAAAAAAAQAAAgAAAAABAAAKAAAAAAEAAAQAAAAAAQAAAAAAAAABAAACAAAAAAEAAAoAAAAAAQAABAAAAAABAAAAAAAAAAEAAAIAAAAAAQAACgAAAAABAAAEAAAAAAEAAAAAAAAAAQAAAgAAAAABAAAKAAAAAAEAAAQAAAAAAQAAAAAAAAABAAACAAAAAAEAAAoAAAAAAQAABAAAAAABAAAAAAAAAAEAAAIAAAAAAQAACgAAAAABAAAEAAAAAAEAAAAAAAAAAQAAAgAAAAABAAAKAAAAAAEAAAQAAAAAAQAAAAAAAAABAAACAAAAAAEAAAoAAAAAAQAABAAAAAABAAAAAAAAAAEAAAIAAAAAAQAACgAAAAABAAAEAAAAAAEAAAAAAAAAAQAAAgAAAAABAAAKAAAAAAEAAAQAAAAAAQAAAAAAAAABAAACAAAAAAEAAAoAAAAAAQAABAAAAAABAAAAAAAAAAEAAAIAAAAAAQAACgAAAAABAAAEAAAAAAEAAAAAAAAAAQAAAgAAAAABAAAKAAAAAAEAAAQAAAAAAQAAAAAAAAABAAACAAAAAAEAAAoAAAAAAQAABAAAAAABAAAAAAAAAAEAAAIAAAAAAQAACgAAAAABAAAEAAAAAAEAAAAAAAAAAQAAAgAAAAABAAAKAAAAAAEAAAQAAAAAAQAAAAAAAAABAAACAAAAAAEAAAoAAAAAAQAABAAAAAABAAAAAAAAAAEAAAIAAAAAAQAACgAAAAABAAAEAAAAAAEAAAAAAAAAAQAAAgAAAAABAAAKAAAAAAEAAAQAAAAAAQAAAAAAAAABAAACAAAAAAEAAAoAAAAAAQAABAAAAAABAAAAAAAAAAEAAAIAAAAAAQAACgAAAAABAAAEAAAAAAEAAAAAAAAAAQAAAgAAAAABAAAKAAAAAAEAAAQAAAAAAQAAAAAAAAABAAACAAAAAAEAAAoAAAAAAQAABAAAAAABAAAAAAAAAAEAAAIAAAAAAQAACgAAAAABAAAEAAAAAAEAAAAAAAAAAQAAAgAAAAABAAAGAAAAAAEAAAIAAAAAHHN0c2MAAAAAAAAAAQAAAAEAAADKAAAAAQAAAzxzdHN6AAAAAAAAAAAAAADKAAAFigAAACgAAAAfAAAAFAAAABMAAAAdAAAAHQAAACMAAAATAAAAHwAAAB0AAAAiAAAAEwAAAB4AAAAeAAAAHQAAACEAAAATAAAAIAAAABQAAAAWAAAAFwAAABQAAAAUAAAAFwAAABQAAAAUAAAAFAAAABcAAAAUAAAAFAAAABQAAAAXAAAAFAAAABQAAAAUAAAAFwAAABQAAAAUAAAAFAAAABcAAAAUAAAAFAAAABQAAAAXAAAAFAAAABQAAAAUAAAAFwAAABQAAAAUAAAAFAAAABcAAAAUAAAAFAAAABQAAAAXAAAAFAAAABQAAAAUAAAAFwAAABQAAAAUAAAAFAAAABcAAAAUAAAAFAAAABQAAAAXAAAAFAAAABQAAAAUAAAAFwAAABQAAAAUAAAAFAAAABcAAAAUAAAAFAAAABQAAAAXAAAAFAAAABQAAAAUAAAAFwAAABQAAAAUAAAAFAAAABcAAAAUAAAAFAAAABQAAAAXAAAAFAAAABQAAAAUAAAAFwAAABQAAAAUAAAAFAAAABcAAAAUAAAAFAAAABQAAAAXAAAAFAAAABQAAAAUAAAAFwAAABQAAAAUAAAAFAAAABcAAAAUAAAAFAAAABQAAAAXAAAAFAAAABQAAAAUAAAAFwAAABQAAAAUAAAAFAAAABcAAAAUAAAAFAAAABQAAAAXAAAAFAAAABQAAAAUAAAAFwAAABQAAAAUAAAAFAAAABcAAAAUAAAAFAAAABQAAAAXAAAAFAAAABQAAAAUAAAAFwAAABQAAAAUAAAAFAAAABcAAAAUAAAAFAAAABQAAAAXAAAAFAAAABQAAAAUAAAAFwAAABQAAAAUAAAAFAAAABcAAAAUAAAAFAAAABQAAAAXAAAAFAAAABQAAAAUAAAAFwAAABQAAAAUAAAAFAAAABcAAAAUAAAAFAAAABQAAAAXAAAAFAAAABQAAAAUAAAAFwAAABQAAAAUAAAAFAAAABcAAAAUAAAAFAAAABQAAAAWAAAAFAAAABQAAAAUAAAAFgAAABQAAAAUAAAAFAAAABYAAAAUAAAAFAAAABQAAAAfAAAAKAAAABRzdGNvAAAAAAAAAAEAAAAwAAAAYnVkdGEAAABabWV0YQAAAAAAAAAhaGRscgAAAAAAAAAAbWRpcmFwcGwAAAAAAAAAAAAAAAAtaWxzdAAAACWpdG9vAAAAHWRhdGEAAAABAAAAAExhdmY1Ny44My4xMDA=\" type=\"video/mp4\" />\n",
              "             </video>"
            ],
            "text/plain": [
              "<IPython.core.display.HTML object>"
            ]
          },
          "metadata": {
            "tags": []
          },
          "execution_count": 17
        }
      ]
    },
    {
      "metadata": {
        "id": "dwzBQgxl-XI-",
        "colab_type": "text"
      },
      "cell_type": "markdown",
      "source": [
        "\n",
        "The temperature increases the density of reward pixel and therefore improves perfomance of the model (less sparse reward). However, we note that the rat doesn't explore the game and tends to oscillate inside a square."
      ]
    },
    {
      "metadata": {
        "id": "6HRt-cAv-XI-",
        "colab_type": "text"
      },
      "cell_type": "markdown",
      "source": [
        "***\n",
        "\n",
        "The algorithm tends to not explore the map which can be an issue. We propose two ideas in order to encourage exploration:\n",
        "1. Incorporating a decreasing $\\epsilon$-greedy exploration. You can use the method ```set_epsilon```\n",
        "2. Append via the environment a new state that describes if a cell has been visited or not\n",
        "\n",
        "***\n",
        "__Question 10__ Design a new ```train_explore``` function and environment class ```EnvironmentExploring``` to tackle the issue of exploration.\n",
        "\n"
      ]
    },
    {
      "metadata": {
        "id": "ouVCv9jD-XI_",
        "colab_type": "code",
        "colab": {}
      },
      "cell_type": "code",
      "source": [
        "def train_explore(agent,env,epoch,prefix=''):\n",
        "    # Number of won games\n",
        "    score = 0\n",
        "    loss = 0\n",
        "    epsilon_start = 1.0\n",
        "    epsilon_end = 0.1\n",
        "    \n",
        "    # The epsilon decay schedule\n",
        "    epsilons = np.linspace(epsilon_start, epsilon_end, epoch)\n",
        "\n",
        "    for e in range(epoch):\n",
        "        # At each epoch, we restart to a fresh game and get the initial state\n",
        "        state = env.reset()\n",
        "        # This assumes that the games will terminate\n",
        "        game_over = False\n",
        "        \n",
        "        agent.set_epsilon(epsilons[e])\n",
        "        \n",
        "        win = 0\n",
        "        lose = 0\n",
        "\n",
        "        while not game_over:\n",
        "            # The agent performs an action\n",
        "            action = agent.act(state)\n",
        "\n",
        "            # Apply an action to the environment, get the next state, the reward\n",
        "            # and if the games end\n",
        "            prev_state = state\n",
        "            state, reward, game_over = env.act(action, train=True)\n",
        "\n",
        "            # Update the counters\n",
        "            if reward > 0:\n",
        "                win = win + reward\n",
        "            if reward < 0:\n",
        "                lose = lose -reward\n",
        "\n",
        "            # Apply the reinforcement strategy\n",
        "            loss = agent.reinforce(prev_state, state,  action, reward, game_over)\n",
        "\n",
        "        # Save as a mp4\n",
        "        if e % 10 == 0:\n",
        "            env.draw(prefix+str(e))\n",
        "\n",
        "        # Update stats\n",
        "        score += win-lose\n",
        "\n",
        "        print(\"Epoch {:03d}/{:03d} | Loss {:.4f} | Win/lose count {}/{} ({})\"\n",
        "              .format(e, epoch, loss, win, lose, win-lose))\n",
        "        agent.save(name_weights=prefix+'model.h5',name_model=prefix+'model.json')\n",
        "        \n",
        "class EnvironmentExploring(object):\n",
        "    def __init__(self, grid_size=10, max_time=500, temperature=0.1):\n",
        "        grid_size = grid_size+4\n",
        "        self.grid_size = grid_size\n",
        "        self.max_time = max_time\n",
        "        self.temperature = temperature\n",
        "\n",
        "        #board on which one plays\n",
        "        self.board = np.zeros((grid_size,grid_size))\n",
        "        self.position = np.zeros((grid_size,grid_size))\n",
        "        \n",
        "        #NEW\n",
        "        self.malus_position = np.zeros((grid_size,grid_size))\n",
        "\n",
        "        # coordinate of the cat\n",
        "        self.x = 0\n",
        "        self.y = 1\n",
        "\n",
        "        # self time\n",
        "        self.t = 0\n",
        "\n",
        "        self.scale=16\n",
        "\n",
        "        self.to_draw = np.zeros((max_time+2, grid_size*self.scale, grid_size*self.scale, 3))\n",
        "\n",
        "\n",
        "    def draw(self,e):\n",
        "        skvideo.io.vwrite(str(e) + '.mp4', self.to_draw)\n",
        "\n",
        "    def get_frame(self,t):\n",
        "        b = np.zeros((self.grid_size,self.grid_size,3))+128\n",
        "        b[self.board>0,0] = 256\n",
        "        b[self.board < 0, 2] = 256\n",
        "        b[self.x,self.y,:]=256\n",
        "        b[-2:,:,:]=0\n",
        "        b[:,-2:,:]=0\n",
        "        b[:2,:,:]=0\n",
        "        b[:,:2,:]=0\n",
        "        \n",
        "        b =  cv2.resize(b, None, fx=self.scale, fy=self.scale, interpolation=cv2.INTER_NEAREST)\n",
        "\n",
        "        self.to_draw[t,:,:,:]=b\n",
        "\n",
        "\n",
        "    def act(self, action, train=False):\n",
        "        \"\"\"This function returns the new state, reward and decides if the\n",
        "        game ends.\"\"\"\n",
        "\n",
        "        self.get_frame(int(self.t))\n",
        "\n",
        "        self.position = np.zeros((self.grid_size, self.grid_size))\n",
        "\n",
        "        self.position[0:2,:]= -1\n",
        "        self.position[:,0:2] = -1\n",
        "        self.position[-2:, :] = -1\n",
        "        self.position[:, -2:] = -1\n",
        "\n",
        "        self.position[self.x, self.y] = 1\n",
        "        if action == 0:\n",
        "            if self.x == self.grid_size-3:\n",
        "                self.x = self.x-1\n",
        "            else:\n",
        "                self.x = self.x + 1\n",
        "        elif action == 1:\n",
        "            if self.x == 2:\n",
        "                self.x = self.x+1\n",
        "            else:\n",
        "                self.x = self.x-1\n",
        "        elif action == 2:\n",
        "            if self.y == self.grid_size - 3:\n",
        "                self.y = self.y - 1\n",
        "            else:\n",
        "                self.y = self.y + 1\n",
        "        elif action == 3:\n",
        "            if self.y == 2:\n",
        "                self.y = self.y + 1\n",
        "            else:\n",
        "                self.y = self.y - 1\n",
        "        else:\n",
        "            RuntimeError('Error: action not recognized')\n",
        "\n",
        "        self.t = self.t + 1\n",
        "        \n",
        "        #new\n",
        "        reward = 0\n",
        "        if train:\n",
        "            reward = -self.malus_position[self.x, self.y]\n",
        "        self.malus_position[self.x, self.y] += 0.1\n",
        "        reward = reward + self.board[self.x, self.y]   \n",
        "        \n",
        "        \n",
        "        self.board[self.x, self.y] = 0\n",
        "        game_over = self.t > self.max_time \n",
        "        state = np.concatenate((self.malus_position.reshape(self.grid_size, self.grid_size,1),\n",
        "                                self.board.reshape(self.grid_size, self.grid_size,1),\n",
        "                                self.position.reshape(self.grid_size, self.grid_size,1)),axis=2)\n",
        "        state = state[self.x-2:self.x+3,self.y-2:self.y+3,:]\n",
        "\n",
        "        return state, reward, game_over\n",
        "\n",
        "    def reset(self):\n",
        "        \"\"\"This function resets the game and returns the initial state\"\"\"\n",
        "\n",
        "        self.x = np.random.randint(3, self.grid_size-3, size=1)[0]\n",
        "        self.y = np.random.randint(3, self.grid_size-3, size=1)[0]\n",
        "\n",
        "        \n",
        "        bonus = 0.5*np.random.binomial(1,self.temperature,size=self.grid_size**2)\n",
        "        bonus = bonus.reshape(self.grid_size,self.grid_size)\n",
        "\n",
        "        malus = -1.0*np.random.binomial(1,self.temperature,size=self.grid_size**2)\n",
        "        malus = malus.reshape(self.grid_size, self.grid_size)\n",
        "\n",
        "        self.to_draw = np.zeros((self.max_time+2, self.grid_size*self.scale, self.grid_size*self.scale, 3))\n",
        "\n",
        "\n",
        "        malus[bonus>0]=0 \n",
        "        \n",
        "        self.board = bonus + malus \n",
        "        \n",
        "        self.board[:2,:] = 0\n",
        "        self.board[-2:,:] = 0\n",
        "        self.board[:, :2] = 0\n",
        "        self.board[:, -2:] = 0\n",
        "\n",
        "        self.position = np.zeros((self.grid_size, self.grid_size))\n",
        "        self.position[0:2,:]= -1\n",
        "        self.position[:,0:2] = -1\n",
        "        self.position[-2:, :] = -1 # error, 2 times same line\n",
        "        self.position[:, -2:] = -1\n",
        "        self.board[self.x,self.y] = 0\n",
        "        self.t = 0\n",
        "        \n",
        "        self.malus_position = np.zeros((self.grid_size, self.grid_size))\n",
        "\n",
        "        state = np.concatenate((self.malus_position.reshape(self.grid_size, self.grid_size,1),\n",
        "                                self.board.reshape(self.grid_size, self.grid_size,1),\n",
        "                                self.position.reshape(self.grid_size, self.grid_size,1)),axis=2)\n",
        "\n",
        "        state = state[self.x - 2:self.x + 3, self.y - 2:self.y + 3, :]\n",
        "        return state\n"
      ],
      "execution_count": 0,
      "outputs": []
    },
    {
      "metadata": {
        "id": "qOiD1GAa-XJB",
        "colab_type": "code",
        "outputId": "ee8b5b76-74a3-422d-c45c-2c423d256f86",
        "colab": {
          "base_uri": "https://localhost:8080/",
          "height": 1905
        }
      },
      "cell_type": "code",
      "source": [
        "# Training\n",
        "env = EnvironmentExploring(grid_size=size, max_time=T, temperature=0.3)\n",
        "agent = DQN_CNN(size, lr=.1, epsilon = 0.1, memory_size=2000, batch_size = 32,n_state=3)\n",
        "train_explore(agent, env, epochs_train, prefix='cnn_train_explore')\n",
        "HTML(display_videos('cnn_train_explore0.mp4'))"
      ],
      "execution_count": 19,
      "outputs": [
        {
          "output_type": "stream",
          "text": [
            "Epoch 000/100 | Loss 0.0408 | Win/lose count 12.0/48.60000000000005 (-36.60000000000005)\n",
            "Epoch 001/100 | Loss 0.0317 | Win/lose count 11.5/46.599999999999994 (-35.099999999999994)\n",
            "Epoch 002/100 | Loss 0.0285 | Win/lose count 10.5/48.70000000000007 (-38.20000000000007)\n",
            "Epoch 003/100 | Loss 0.0936 | Win/lose count 13.5/49.60000000000004 (-36.10000000000004)\n",
            "Epoch 004/100 | Loss 0.0250 | Win/lose count 15.5/49.90000000000002 (-34.40000000000002)\n",
            "Epoch 005/100 | Loss 0.0301 | Win/lose count 11.5/56.00000000000002 (-44.50000000000002)\n",
            "Epoch 006/100 | Loss 0.0328 | Win/lose count 12.5/50.40000000000005 (-37.90000000000005)\n",
            "Epoch 007/100 | Loss 0.0187 | Win/lose count 12.5/42.20000000000006 (-29.70000000000006)\n",
            "Epoch 008/100 | Loss 0.0270 | Win/lose count 7.5/48.60000000000002 (-41.10000000000002)\n",
            "Epoch 009/100 | Loss 0.0891 | Win/lose count 11.0/46.70000000000004 (-35.70000000000004)\n",
            "Epoch 010/100 | Loss 0.0332 | Win/lose count 16.5/34.300000000000026 (-17.800000000000026)\n",
            "Epoch 011/100 | Loss 0.0299 | Win/lose count 8.5/43.80000000000002 (-35.30000000000002)\n",
            "Epoch 012/100 | Loss 0.0314 | Win/lose count 9.5/52.00000000000001 (-42.50000000000001)\n",
            "Epoch 013/100 | Loss 0.0302 | Win/lose count 13.5/42.60000000000005 (-29.10000000000005)\n",
            "Epoch 014/100 | Loss 0.0344 | Win/lose count 11.0/52.50000000000003 (-41.50000000000003)\n",
            "Epoch 015/100 | Loss 0.0298 | Win/lose count 13.0/37.80000000000003 (-24.800000000000033)\n",
            "Epoch 016/100 | Loss 0.0325 | Win/lose count 11.5/42.40000000000004 (-30.90000000000004)\n",
            "Epoch 017/100 | Loss 0.0329 | Win/lose count 14.5/36.700000000000024 (-22.200000000000024)\n",
            "Epoch 018/100 | Loss 0.0390 | Win/lose count 12.0/42.600000000000016 (-30.600000000000016)\n",
            "Epoch 019/100 | Loss 0.0482 | Win/lose count 15.0/40.60000000000004 (-25.600000000000037)\n",
            "Epoch 020/100 | Loss 0.0471 | Win/lose count 11.0/43.20000000000006 (-32.20000000000006)\n",
            "Epoch 021/100 | Loss 0.0732 | Win/lose count 16.0/31.50000000000002 (-15.500000000000021)\n",
            "Epoch 022/100 | Loss 0.0359 | Win/lose count 10.0/46.700000000000045 (-36.700000000000045)\n",
            "Epoch 023/100 | Loss 0.0339 | Win/lose count 15.5/38.00000000000003 (-22.50000000000003)\n",
            "Epoch 024/100 | Loss 0.0417 | Win/lose count 6.5/42.500000000000014 (-36.000000000000014)\n",
            "Epoch 025/100 | Loss 0.0315 | Win/lose count 15.0/36.100000000000016 (-21.100000000000016)\n",
            "Epoch 026/100 | Loss 0.0370 | Win/lose count 15.5/42.70000000000007 (-27.200000000000067)\n",
            "Epoch 027/100 | Loss 0.0326 | Win/lose count 15.0/33.20000000000001 (-18.20000000000001)\n",
            "Epoch 028/100 | Loss 0.0395 | Win/lose count 15.5/37.300000000000026 (-21.800000000000026)\n",
            "Epoch 029/100 | Loss 0.0418 | Win/lose count 18.0/32.80000000000005 (-14.800000000000047)\n",
            "Epoch 030/100 | Loss 0.0238 | Win/lose count 17.5/32.90000000000003 (-15.400000000000027)\n",
            "Epoch 031/100 | Loss 0.0403 | Win/lose count 18.0/32.50000000000001 (-14.500000000000007)\n",
            "Epoch 032/100 | Loss 0.0421 | Win/lose count 19.0/40.3 (-21.299999999999997)\n",
            "Epoch 033/100 | Loss 0.0546 | Win/lose count 18.5/42.40000000000003 (-23.900000000000027)\n",
            "Epoch 034/100 | Loss 0.0500 | Win/lose count 17.0/34.10000000000004 (-17.100000000000037)\n",
            "Epoch 035/100 | Loss 0.0414 | Win/lose count 21.0/27.30000000000002 (-6.3000000000000185)\n",
            "Epoch 036/100 | Loss 0.0407 | Win/lose count 18.0/33.90000000000004 (-15.900000000000041)\n",
            "Epoch 037/100 | Loss 0.0441 | Win/lose count 16.5/35.300000000000026 (-18.800000000000026)\n",
            "Epoch 038/100 | Loss 0.0406 | Win/lose count 17.0/30.50000000000001 (-13.50000000000001)\n",
            "Epoch 039/100 | Loss 0.0600 | Win/lose count 15.0/30.40000000000002 (-15.40000000000002)\n",
            "Epoch 040/100 | Loss 0.0512 | Win/lose count 15.5/29.900000000000016 (-14.400000000000016)\n",
            "Epoch 041/100 | Loss 0.0626 | Win/lose count 18.5/28.600000000000005 (-10.100000000000005)\n",
            "Epoch 042/100 | Loss 0.0645 | Win/lose count 15.0/33.80000000000001 (-18.80000000000001)\n",
            "Epoch 043/100 | Loss 0.0411 | Win/lose count 9.0/78.19999999999999 (-69.19999999999999)\n",
            "Epoch 044/100 | Loss 0.0435 | Win/lose count 10.0/44.80000000000001 (-34.80000000000001)\n",
            "Epoch 045/100 | Loss 0.0573 | Win/lose count 16.0/36.70000000000001 (-20.70000000000001)\n",
            "Epoch 046/100 | Loss 0.0591 | Win/lose count 15.5/32.50000000000001 (-17.000000000000007)\n",
            "Epoch 047/100 | Loss 0.0521 | Win/lose count 13.0/41.00000000000001 (-28.000000000000007)\n",
            "Epoch 048/100 | Loss 0.0736 | Win/lose count 16.5/31.500000000000036 (-15.000000000000036)\n",
            "Epoch 049/100 | Loss 0.0536 | Win/lose count 16.0/36.80000000000006 (-20.80000000000006)\n",
            "Epoch 050/100 | Loss 0.0849 | Win/lose count 18.0/31.200000000000024 (-13.200000000000024)\n",
            "Epoch 051/100 | Loss 0.0688 | Win/lose count 15.5/31.400000000000023 (-15.900000000000023)\n",
            "Epoch 052/100 | Loss 0.0645 | Win/lose count 16.5/35.90000000000002 (-19.40000000000002)\n",
            "Epoch 053/100 | Loss 0.0772 | Win/lose count 15.5/35.90000000000002 (-20.40000000000002)\n",
            "Epoch 054/100 | Loss 0.0613 | Win/lose count 14.5/36.40000000000003 (-21.900000000000027)\n",
            "Epoch 055/100 | Loss 0.0557 | Win/lose count 17.0/24.400000000000006 (-7.400000000000006)\n",
            "Epoch 056/100 | Loss 0.0719 | Win/lose count 18.5/27.000000000000018 (-8.500000000000018)\n",
            "Epoch 057/100 | Loss 0.0644 | Win/lose count 14.0/39.100000000000016 (-25.100000000000016)\n",
            "Epoch 058/100 | Loss 0.0578 | Win/lose count 17.0/25.100000000000012 (-8.100000000000012)\n",
            "Epoch 059/100 | Loss 0.0609 | Win/lose count 21.0/25.700000000000017 (-4.700000000000017)\n",
            "Epoch 060/100 | Loss 0.0529 | Win/lose count 17.5/34.600000000000044 (-17.100000000000044)\n",
            "Epoch 061/100 | Loss 0.0501 | Win/lose count 18.0/31.800000000000015 (-13.800000000000015)\n",
            "Epoch 062/100 | Loss 0.0486 | Win/lose count 25.5/19.300000000000004 (6.199999999999996)\n",
            "Epoch 063/100 | Loss 0.0834 | Win/lose count 25.0/27.300000000000015 (-2.300000000000015)\n",
            "Epoch 064/100 | Loss 0.0626 | Win/lose count 25.0/21.400000000000002 (3.599999999999998)\n",
            "Epoch 065/100 | Loss 0.0439 | Win/lose count 27.0/23.799999999999994 (3.2000000000000064)\n",
            "Epoch 066/100 | Loss 0.0386 | Win/lose count 15.5/27.7 (-12.2)\n",
            "Epoch 067/100 | Loss 0.0657 | Win/lose count 23.5/26.90000000000001 (-3.4000000000000092)\n",
            "Epoch 068/100 | Loss 0.0414 | Win/lose count 26.0/22.300000000000008 (3.699999999999992)\n",
            "Epoch 069/100 | Loss 0.0529 | Win/lose count 24.0/29.4 (-5.399999999999999)\n",
            "Epoch 070/100 | Loss 0.0422 | Win/lose count 22.5/27.400000000000016 (-4.900000000000016)\n",
            "Epoch 071/100 | Loss 0.0419 | Win/lose count 19.5/27.400000000000013 (-7.900000000000013)\n",
            "Epoch 072/100 | Loss 0.0277 | Win/lose count 20.0/25.800000000000026 (-5.800000000000026)\n",
            "Epoch 073/100 | Loss 0.0462 | Win/lose count 26.0/16.899999999999984 (9.100000000000016)\n",
            "Epoch 074/100 | Loss 0.0551 | Win/lose count 17.5/30.00000000000002 (-12.500000000000021)\n",
            "Epoch 075/100 | Loss 0.0394 | Win/lose count 17.0/36.4 (-19.4)\n",
            "Epoch 076/100 | Loss 0.0352 | Win/lose count 19.5/24.20000000000003 (-4.700000000000031)\n",
            "Epoch 077/100 | Loss 0.0389 | Win/lose count 26.0/21.199999999999985 (4.800000000000015)\n",
            "Epoch 078/100 | Loss 0.0452 | Win/lose count 22.0/29.200000000000024 (-7.200000000000024)\n",
            "Epoch 079/100 | Loss 0.0785 | Win/lose count 22.5/23.300000000000026 (-0.8000000000000256)\n",
            "Epoch 080/100 | Loss 0.0418 | Win/lose count 23.0/21.7 (1.3000000000000007)\n",
            "Epoch 081/100 | Loss 0.0550 | Win/lose count 23.5/23.79999999999999 (-0.29999999999999005)\n",
            "Epoch 082/100 | Loss 0.0466 | Win/lose count 24.5/23.200000000000003 (1.2999999999999972)\n",
            "Epoch 083/100 | Loss 0.0746 | Win/lose count 27.5/17.199999999999985 (10.300000000000015)\n",
            "Epoch 084/100 | Loss 0.0565 | Win/lose count 18.0/21.099999999999994 (-3.0999999999999943)\n",
            "Epoch 085/100 | Loss 0.0592 | Win/lose count 22.0/23.10000000000001 (-1.1000000000000085)\n",
            "Epoch 086/100 | Loss 0.0640 | Win/lose count 23.0/23.500000000000004 (-0.5000000000000036)\n",
            "Epoch 087/100 | Loss 0.0497 | Win/lose count 28.5/14.699999999999985 (13.800000000000015)\n",
            "Epoch 088/100 | Loss 0.0396 | Win/lose count 20.5/28.39999999999999 (-7.8999999999999915)\n",
            "Epoch 089/100 | Loss 0.0347 | Win/lose count 29.0/22.600000000000005 (6.399999999999995)\n",
            "Epoch 090/100 | Loss 0.0419 | Win/lose count 21.5/26.900000000000038 (-5.400000000000038)\n",
            "Epoch 091/100 | Loss 0.0475 | Win/lose count 20.0/21.09999999999999 (-1.0999999999999908)\n",
            "Epoch 092/100 | Loss 0.0328 | Win/lose count 18.5/28.600000000000012 (-10.100000000000012)\n",
            "Epoch 093/100 | Loss 0.0608 | Win/lose count 24.5/15.999999999999979 (8.500000000000021)\n",
            "Epoch 094/100 | Loss 0.0482 | Win/lose count 26.5/18.89999999999999 (7.6000000000000085)\n",
            "Epoch 095/100 | Loss 0.0473 | Win/lose count 24.5/16.599999999999987 (7.900000000000013)\n",
            "Epoch 096/100 | Loss 0.0481 | Win/lose count 21.0/24.199999999999992 (-3.199999999999992)\n",
            "Epoch 097/100 | Loss 0.0372 | Win/lose count 27.0/18.800000000000004 (8.199999999999996)\n",
            "Epoch 098/100 | Loss 0.0434 | Win/lose count 23.5/17.800000000000004 (5.699999999999996)\n",
            "Epoch 099/100 | Loss 0.0495 | Win/lose count 22.5/22.00000000000002 (0.4999999999999787)\n"
          ],
          "name": "stdout"
        },
        {
          "output_type": "execute_result",
          "data": {
            "text/html": [
              "<video alt=\"test\" controls>\n",
              "                <source src=\"data:video/mp4;base64,AAAAIGZ0eXBpc29tAAACAGlzb21pc28yYXZjMW1wNDEAAAAIZnJlZQAAGNltZGF0AAACrQYF//+p3EXpvebZSLeWLNgg2SPu73gyNjQgLSBjb3JlIDE1MiByMjg1NCBlOWE1OTAzIC0gSC4yNjQvTVBFRy00IEFWQyBjb2RlYyAtIENvcHlsZWZ0IDIwMDMtMjAxNyAtIGh0dHA6Ly93d3cudmlkZW9sYW4ub3JnL3gyNjQuaHRtbCAtIG9wdGlvbnM6IGNhYmFjPTEgcmVmPTMgZGVibG9jaz0xOjA6MCBhbmFseXNlPTB4MToweDExMSBtZT1oZXggc3VibWU9NyBwc3k9MSBwc3lfcmQ9MS4wMDowLjAwIG1peGVkX3JlZj0xIG1lX3JhbmdlPTE2IGNocm9tYV9tZT0xIHRyZWxsaXM9MSA4eDhkY3Q9MCBjcW09MCBkZWFkem9uZT0yMSwxMSBmYXN0X3Bza2lwPTEgY2hyb21hX3FwX29mZnNldD00IHRocmVhZHM9MyBsb29rYWhlYWRfdGhyZWFkcz0xIHNsaWNlZF90aHJlYWRzPTAgbnI9MCBkZWNpbWF0ZT0xIGludGVybGFjZWQ9MCBibHVyYXlfY29tcGF0PTAgY29uc3RyYWluZWRfaW50cmE9MCBiZnJhbWVzPTMgYl9weXJhbWlkPTIgYl9hZGFwdD0xIGJfYmlhcz0wIGRpcmVjdD0xIHdlaWdodGI9MSBvcGVuX2dvcD0wIHdlaWdodHA9MiBrZXlpbnQ9MjUwIGtleWludF9taW49MjUgc2NlbmVjdXQ9NDAgaW50cmFfcmVmcmVzaD0wIHJjX2xvb2thaGVhZD00MCByYz1jcmYgbWJ0cmVlPTEgY3JmPTIzLjAgcWNvbXA9MC42MCBxcG1pbj0wIHFwbWF4PTY5IHFwc3RlcD00IGlwX3JhdGlvPTEuNDAgYXE9MToxLjAwAIAAAAMEZYiEADf//vaH+BTZWBP+Wb/9DX/cj9uPrP1xYyEE31qvIejAGS+1H+b/rFFs6Z6UB/fgCJQAc24ZwpHZJ3jjhJSYReqPgUuAn34FNJkRcB7bUn4Utkjk+f+5HL7daZmbCy/vvri9QWpKEFYF9lLN6hBUvQh1LT4h6OztNTAvUDvXFa4KLLe2D1HUhOjpMvp5fHPueK0BCfH0tsyqifjuZ0bKwRPn54LOkI65jandUazZGa0UW9lIXan4xsBvmsEBJ+iIyKFI01sQDHZwFzI7glOzXSLDfhIMrCbHqv5StsnW/Bp4oxgsfzx4M7ZNC5nKyNrxsJ5RFGkJTFBUWID+FAPkW0eyQaqYQQ2c9vVIbEh0Txsu5qzi4Izc1yqX5XuxBevhkeuY8NiuiET3P2/BiFWAA7mvFXmKm6FoQ4Q2GHTpqO8VBsjBIux1s/XHt14fFkCZh+OGwbvRkRSy4rh2kUcOwYajIOMAArz6MfCU5qyjU8oiafpMUpszJBrskHYoArsrYR26LJzRl1UASoQ6/8IaSDSTeccoDhCrKeYisR93xdrgIYKrSWdPSi590AGS/GxAGoygBwrez6JBb74Ox5TM1RFwggiKGpmWgY/yHQG+tUzHBZwaT5B9v2YOy0hmxNyxrA0NSrP7XhPOCWQG/9Dyul3tILG1Rngz9e/mDyhU6kYzD6a0tLOB5DHbAh9488Nrsj2stzq4xcAy2hxONQYzOFzGt56WBOVn6mqh24sL0ix7sdkAsZiMuNNiVHDGCd/YSJN50RBc/X9X3zhH5+jrGwnH1CMsfRhNfXft8fhMOEL5OirBOk379WAx8E7n4ketXICHRcvV4IKAFIUnyvprCDU9oDU703QRRpTM1Lad0uppI76XK8aN4lnrehSiYOOe4wgaaM+dSyWYGFFaRx+d1fniAbEUZ2s93oRSc5ywpQQuGxYl4si7ParpKeraFQXJik+YWdaPcRniWgrnsXzwY8EaJO88YaQGEQWu1uXTH3FRZyPylRk/iY5zNRqEAABKwQAAABZBmiNsQ3/+p4QBJfjp7vNz3uQpz0nAAAAAD0GeQXiFfwDtAwDJKKyHeQAAABABnmJqQr8A54RM030kHFDwAAAAHUGaZUmoQWiZTBTw3/6nhADD+wfzaXUDw4shTnt7AAAAEAGehGpCvwCfUo3mmKtpBsEAAAARQZqJSeEKUmUwIZ/+nhAABH0AAAAMQZ6nRTRML/8AALKBAAAAEAGexnRCvwBpnk3R23wq3oAAAAAQAZ7IakK/AJ9G13WQw5IJgAAAABpBmspJqEFomUwIb//+p4QAfsHhTrOn3W3egQAAABhBmutJ4QpSZTAhv/6nhACCj5jyMT/LbXkAAAAYQZsPSeEOiZTAhn/+nhAB+0I9s1ks3Y4OAAAAEEGfLUURPC//AE+ZYJ8brMEAAAAQAZ9MdEK/AGwAPik2yVT0gQAAAA8Bn05qQr8ARV5ompKb6YEAAAAaQZtQSahBaJlMCG///qeEAH7OM/1W+Y/EM+AAAAAaQZtxSeEKUmUwIb/+p4QAgo+Y8jKIcH8tteQAAAAUQZuTSeEOiZTBTRMO//6plgAAlYEAAAAPAZ+yakK/AGwsWBdf39ugAAAAGUGbt0nhDyZTAh3//qmWAEIX7tROjB02bvQAAAAQQZ/VRRE8L/8AT5lgnxuswQAAABABn/R0Qr8AbAA+KTbJVPSAAAAADwGf9mpCvwBpkrYwrNq8QQAAAB1Bm/tJqEFomUwIb//+p4QAVH3U+7zdffWzFCP05QAAABBBnhlFESwv/wAySpN/Nmn4AAAADwGeOHRCvwBDbQgMkuWtgQAAABABnjpqQr8AQ2T5zrQwvJ+AAAAAHEGaPkmoQWyZTAhv//6nhABRvRP9VvmPwzZb2LkAAAASQZ5cRRUsK/8AQXZ4EJGP3CKBAAAADgGefWpCvwBBdnrp+pkUAAAAHUGaYEmoQWyZTBRMM//+nhAB7/XI3Y4aW+vvtuHgAAAAEAGen2pCvwBpnVPJgevbxYEAAAAYQZqBSeEKUmUwIb/+p4QAgo+Y8jE/y215AAAAGkGao0nhDomUwU0TDP/+nhAB+0I9s1ks3Y4PAAAAEAGewmpCvwBsCW/gPr+A1xAAAAAZQZrESeEPJlMCG//+p4QAVH3U/UcaEhxQQQAAAB5BmuZJ4Q8mUwURPDf//qeEADd+wfzaXUDw4shToRcAAAAQAZ8FakK/AC10o3mmKtptYQAAABlBmwdJ4Q8mUwIb//6nhAAj3x0+o40JDl3BAAAAG0GbKknhDyZTAhv//qeEABdfdT7vNzsDIU6VMAAAABJBn0hFETwr/wAS2T5zrJ8nmYAAAAAOAZ9pakK/ABLg0LveppsAAAAcQZttSahBaJlMCGf//p4QADo+vv02vUU4+uDPgAAAABJBn4tFESwr/wAMQR251k+UCYAAAAAOAZ+sakK/AAxFiF3vVA8AAAAZQZuuSahBbJlMCG///qeEAAm3x0x/h9W4AwAAABhBm89J4QpSZTAhv/6nhAAJd8dMf4fVuA0AAAAYQZvySeEOiZTAhv/+p4QACTfRzQVrMpvnAAAAEkGeEEURPCv/AAdsGAQCmAdW4AAAAA4BnjFqQr8AB26/SPdA3wAAABlBmjRJqEFomUwU8N/+p4QABdfj9Anf8x/gAAAAEAGeU2pCvwAHLWAb2ePuWYAAAAAZQZpVSeEKUmUwIb/+p4QACSj5jkncbMF5MQAAAB9BmndJ4Q6JlMFNEw3//qeEAA54PDixqh/vpdAhP16qAAAAEAGelmpCvwAL87Utw2bVkIEAAAAZQZqaSeEPJlMCG//+p4QADo+wf4Tgt0KiQQAAABJBnrhFETwr/wASXp13eBTUkYAAAAAOAZ7ZakK/ABJZXXgNseMAAAAaQZrdSahBaJlMCG///qeEAAl3x0+o40JD2UAAAAAPQZ77RREsK/8AB5gf837hAAAADQGfHGpCvwAHmsCga6cAAAAcQZseSahBbJlMCHf//qmWAAMZ7agH9/O6QphSeAAAABxBmyJJ4QpSZTAhv/6nhAAJagEzW4FvkcDc+2jAAAAAFEGfQEU0TC//AAWugQVLiR0+YRxBAAAAEAGff3RCvwAE+6Ac7Y40+mAAAAAQAZ9hakK/AAeZmDyYHr5ZgQAAABpBm2VJqEFomUwIb//+p4QADnnGf6rfMfi44AAAABJBn4NFESwr/wAL87UCEjH74EEAAAAOAZ+kakK/AAvztV0/VgMAAAAZQZuoSahBbJlMCG///qeEAA6PsHr2Z8EW5wAAAA9Bn8ZFFSwr/wAL8RoHBsEAAAAQAZ/nakK/AAuFtbsVo+4nwAAAAB5Bm+tJqEFsmUwIb//+p4QADjfAYNn8ij8TQW6Q96AAAAASQZ4JRRUsK/8AC6NfOdZPlBKBAAAAEAGeKmpCvwALW3IYfQEg7SgAAAAaQZosSahBbJlMCHf//qmWAASn48/fsg3FXuAAAAAcQZpQSeEKUmUwIb/+p4QACWpe0gzLfRP0F82HyQAAABFBnm5FNEwv/wAFroEFKFEPSQAAAA8Bno10Qr8ABNbRi4D88GEAAAAQAZ6PakK/AAeZmDyYHr5ZgAAAABJBmpRJqEFomUwIb//+p4QAAScAAAAMQZ6yRREsL/8AALKBAAAADwGe0XRCvwAHxJ4NcYpL4AAAAA8BntNqQr8AB4VDdhnq0IkAAAAaQZrVSahBbJlMCG///qeEAA55xn+q3zH4uOEAAAAcQZr3SeEKUmUwUVLDf/6nhAAOj7B/nKiLp7S7wAAAABABnxZqQr8AC/EdudaGF+HBAAAAGUGbGEnhDomUwId//qmWAASn48/fsg3FXuEAAAAZQZs7SeEPJlMCHf/+qZYAAxUFlcZpf2xGwAAAABJBn1lFETwr/wAE+sK9hYL9ZIEAAAAOAZ96akK/AAT6xMecFaQAAAAeQZt/SahBaJlMCG///qeEAAZP2VgQn8z753MJ7OV3AAAAEEGfnUURLC//AAO1953V49cAAAAPAZ+8dEK/AAUe0d55xpSAAAAAEAGfvmpCvwAE+bkMPoCQfZgAAAAZQZujSahBbJlMCG///qeEAAYe1B7e6n7a1QAAABBBn8FFFSwv/wADoJ1G9hB4AAAADwGf4HRCvwAFH6AdCcm4wQAAABABn+JqQr8ABR1GiZE0rT1AAAAAHUGb5UmoQWyZTBRMN//+p4QABifYP85Trwo1uZf5AAAAEAGeBGpCvwAE+a+c60MMMMEAAAAYQZoGSeEKUmUwIb/+p4QAA8/sHr2Z8EaHAAAAEUGaKknhDomUwIZ//p4QAAR9AAAADEGeSEURPC//AACygAAAABABnmd0Qr8AAwecnEdl2j6AAAAAEAGeaWpCvwAEtta7rIYdHYEAAAAZQZprSahBaJlMCGf//p4QABauDHP4c5vs0wAAABhBmoxJ4QpSZTAhv/6nhAAF191OP8Pq3GsAAAAcQZquSeEOiZTBTRMM//6eEAAiqc45eL0owh/GkwAAABABns1qQr8AB0GYPJgevmKBAAAAGEGaz0nhDyZTAhv//qeEAAko+Y8jE/y4FQAAAB1BmvFJ4Q8mUwURPDf//qeEAA54PDixqh/vjp40zAAAABABnxBqQr8AC/OqeTA9fDmAAAAAGUGbEknhDyZTAhv//qeEABavRP9VvmPxScEAAAAdQZs0SeEPJlMFETw3//6nhAAWz3U+7y6f2C4CFDAAAAAPAZ9TakK/ABJZMpm2ZG1eAAAAHEGbWEnhDyZTAhv//qeEABWvdT7vN199bMUI/jsAAAAQQZ92RRE8L/8ADOKmhpdNMgAAAA8Bn5V0Qr8AEVtGLgPzEMEAAAAQAZ+XakK/ABFZPnOtDC+EwQAAABpBm5lJqEFomUwIb//+p4QADY+wf4Tgt0KpwAAAABFBm71J4QpSZTAhn/6eEAAEfQAAAAxBn9tFNEwv/wAAsoAAAAAQAZ/6dEK/AAcBQ3suq/hswQAAABABn/xqQr8ACxRtd1kMOZLBAAAAGkGb/kmoQWiZTAhv//6nhAAIt8dPqONCQ+BAAAAAGEGaH0nhClJlMCG//qeEAAWz3U4/w+rccwAAABtBmiNJ4Q6JlMCG//6nhAAIKPmqazbmvHT7ZVkAAAAQQZ5BRRE8L/8ABPmWKhBx4AAAABABnmB0Qr8ABsJNCJ8WYpvpAAAADwGeYmpCvwAGwsWBdf41oAAAABpBmmRJqEFomUwIb//+p4QADN0if6rfMfi/wQAAABlBmodJ4QpSZTAhv/6nhAAM777Mf4fVt7CBAAAAD0GepUU0TCv/AAqDW4cSwQAAABABnsZqQr8ACh2Ud7PH3GeBAAAAGUGayEmoQWiZTAhv//6nhAAMn7B69mfBFxsAAAAdQZrsSeEKUmUwIZ/+nhAAcQp2t/hzm+rK7l8RT1gAAAARQZ8KRTRML/8AEVz7prUuXy8AAAAPAZ8pdEK/AAn0YxcB+aIgAAAAEAGfK2pCvwAX52o5X9uIGkAAAAAaQZstSahBaJlMCG///qeEAC1eif6rfMfiScEAAAAbQZtOSeEKUmUwIb/+p4QARVAFm22gMAmv7qxxAAAAIEGbcknhDomUwIb//qeEAGn9g/zyaJ/o1LmZYJq+P/FRAAAAFUGfkEURPC//AD4n3+ixXby0mgLJsAAAABABn690Qr8AVnNEifFmKOLwAAAAEAGfsWpCvwBWW3Iq8AT+8IEAAAAZQZuzSahBaJlMCG///qeEACx+6nH+H1bcGwAAABlBm9RJ4QpSZTAh3/6plgAV331ZVZm2YFFAAAAAK0Gb+EnhDomUwId//qmWABVPfV9y/N13oZ8Cmuk5rgUojtcCma4LLK5VQTkAAAAVQZ4WRRE8L/8AGSEUjn03p9n6RidgAAAAEAGeNXRCvwAhrsxwH5QAAOEAAAAQAZ43akK/AA7bMHkuZ8m5gQAAABdBmjxJqEFomUwId//+qZYADk+0v6unwAAAABVBnlpFESwv/wARWPnTOKM54FF4KsEAAAAQAZ55dEK/ABfpFlXgRXeZgAAAABABnntqQr8AF+I7c60ML2XBAAAAHEGaYEmoQWyZTAh3//6plgAJT8efzNCoFopiHOsAAAAQQZ6eRRUsL/8ACxMsVCC9MAAAABABnr10Qr8ADzNga2mUPXRAAAAADwGev2pCvwAJ9ygeTBIvgQAAABxBmqRJqEFsmUwIb//+p4QAE1HzNTZtxm91PjMEAAAAEkGewkUVLC//AAulBtJu85TM+QAAABABnuF0Qr8ADtxmRHYsxSeYAAAAEAGe42pCvwAPizB5LmfJsYEAAAAdQZroSahBbJlMCG///qeEABP/jT8dt4iZmpt0h0EAAAAQQZ8GRRUsL/8AC/B9YVeHLwAAAA8BnyV0Qr8AD+Nga6+L24EAAAAQAZ8nakK/AA+IRM030kHTmAAAABlBmylJqEFsmUwIb//+p4QADO+wevZnwRcTAAAAGUGbTEnhClJlMCG//qeEAAyfsH+E4LdCsUEAAAASQZ9qRTRMK/8ACjtfOdZPlCqAAAAADgGfi2pCvwAKPyhd71SGAAAAGUGbjUmoQWiZTAhv//6nhAAH99g9ezPgi+cAAAAfQZuxSeEKUmUwIZ/+nhAAHn9ffpte211S3pgbYLk7gQAAABVBn89FNEwv/wAEtnrVXYN9M3QV45kAAAAQAZ/udEK/AAZwAAMkt/s9QAAAABABn/BqQr8ABBc0bzTFW5tAAAAAGkGb8kmoQWiZTAhv//6nhAAFG9E/1W+Y/JJBAAAAHEGaFEnhClJlMFESwz/+nhAAHaWijn9I6+/pzcAAAAAQAZ4zakK/AAZwFjXvNK0oQAAAABhBmjVJ4Q6JlMCG//6nhAAHn9g9ezPgi/cAAAAZQZpWSeEPJlMCG//+p4QAC5+if6rfMfjHwAAAABlBmndJ4Q8mUwId//6plgAJAiw3RiEc+x3hAAAAHEGam0nhDyZTAh3//qmWABW/kWagD0l9dnffIYEAAAAQQZ65RRE8L/8AGcVaOdij9AAAAA8Bnth0Qr8AFr6AdCcmFCEAAAAQAZ7aakK/ACK7PHK/tw//QAAAABxBmt9JqEFomUwIb//+p4QAK17qfutLM1Nui2QZAAAAEEGe/UURLC//ABnBHGdyrmEAAAAQAZ8cdEK/ACO7jvK2UPT9gAAAAA8Bnx5qQr8AI7a13fd7/MAAAAAcQZsDSahBbJlMCG///qeEAC1YrVMf6t2+wfrldQAAABBBnyFFFSwv/wAbBV3f5vwwAAAADwGfQHRCvwAjwgDoTkv8wQAAAA8Bn0JqQr8AJLsR5MD17pcAAAASQZtHSahBbJlMCGf//p4QAAR9AAAADEGfZUUVLC//AACygQAAAA8Bn4R0Qr8AJbuO6O2+FjcAAAAQAZ+GakK/ADimoc/zLeARwQAAABtBm4lLqEIQWyRGCCgH8gH9h4BRMK/+OEAAEXAAAAAmAZ+oakK/Aq9j7UHE3arDSSblqoYHLLW7zsAT4fb0RWCswdBlszAAAAvYbW9vdgAAAGxtdmhkAAAAAAAAAAAAAAAAAAAD6AAAH5AAAQAAAQAAAAAAAAAAAAAAAAEAAAAAAAAAAAAAAAAAAAABAAAAAAAAAAAAAAAAAABAAAAAAAAAAAAAAAAAAAAAAAAAAAAAAAAAAAAAAAAAAgAACwJ0cmFrAAAAXHRraGQAAAADAAAAAAAAAAAAAAABAAAAAAAAH5AAAAAAAAAAAAAAAAAAAAAAAAEAAAAAAAAAAAAAAAAAAAABAAAAAAAAAAAAAAAAAABAAAAAARAAAAEQAAAAAAAkZWR0cwAAABxlbHN0AAAAAAAAAAEAAB+QAAAEAAABAAAAAAp6bWRpYQAAACBtZGhkAAAAAAAAAAAAAAAAAAAyAAABlABVxAAAAAAALWhkbHIAAAAAAAAAAHZpZGUAAAAAAAAAAAAAAABWaWRlb0hhbmRsZXIAAAAKJW1pbmYAAAAUdm1oZAAAAAEAAAAAAAAAAAAAACRkaW5mAAAAHGRyZWYAAAAAAAAAAQAAAAx1cmwgAAAAAQAACeVzdGJsAAAAlXN0c2QAAAAAAAAAAQAAAIVhdmMxAAAAAAAAAAEAAAAAAAAAAAAAAAAAAAAAARABEABIAAAASAAAAAAAAAABAAAAAAAAAAAAAAAAAAAAAAAAAAAAAAAAAAAAAAAAAAAAGP//AAAAL2F2Y0MB9AAN/+EAF2f0AA2RmygiEdCAAAADAIAAABkHihTLAQAFaOvjxEgAAAAYc3R0cwAAAAAAAAABAAAAygAAAgAAAAAUc3RzcwAAAAAAAAABAAAAAQAABbBjdHRzAAAAAAAAALQAAAABAAAEAAAAAAEAAAgAAAAAAgAAAgAAAAABAAAGAAAAAAEAAAIAAAAAAQAACgAAAAABAAAEAAAAAAEAAAAAAAAAAQAAAgAAAAACAAAEAAAAAAEAAAoAAAAAAQAABAAAAAABAAAAAAAAAAEAAAIAAAAAAgAABAAAAAABAAAGAAAAAAEAAAIAAAAAAQAACgAAAAABAAAEAAAAAAEAAAAAAAAAAQAAAgAAAAABAAAKAAAAAAEAAAQAAAAAAQAAAAAAAAABAAACAAAAAAEAAAgAAAAAAgAAAgAAAAABAAAGAAAAAAEAAAIAAAAAAQAABAAAAAABAAAGAAAAAAEAAAIAAAAAAQAABAAAAAABAAAGAAAAAAEAAAIAAAAAAQAABAAAAAABAAAIAAAAAAIAAAIAAAAAAQAACAAAAAACAAACAAAAAAIAAAQAAAAAAQAACAAAAAACAAACAAAAAAEAAAYAAAAAAQAAAgAAAAABAAAEAAAAAAEAAAYAAAAAAQAAAgAAAAABAAAIAAAAAAIAAAIAAAAAAQAACAAAAAACAAACAAAAAAEAAAQAAAAAAQAACgAAAAABAAAEAAAAAAEAAAAAAAAAAQAAAgAAAAABAAAIAAAAAAIAAAIAAAAAAQAACAAAAAACAAACAAAAAAEAAAgAAAAAAgAAAgAAAAABAAAEAAAAAAEAAAoAAAAAAQAABAAAAAABAAAAAAAAAAEAAAIAAAAAAQAACgAAAAABAAAEAAAAAAEAAAAAAAAAAQAAAgAAAAABAAAEAAAAAAEAAAYAAAAAAQAAAgAAAAABAAAEAAAAAAEAAAgAAAAAAgAAAgAAAAABAAAKAAAAAAEAAAQAAAAAAQAAAAAAAAABAAACAAAAAAEAAAoAAAAAAQAABAAAAAABAAAAAAAAAAEAAAIAAAAAAQAABgAAAAABAAACAAAAAAEAAAQAAAAAAQAACgAAAAABAAAEAAAAAAEAAAAAAAAAAQAAAgAAAAACAAAEAAAAAAEAAAYAAAAAAQAAAgAAAAABAAAEAAAAAAEAAAYAAAAAAQAAAgAAAAABAAAEAAAAAAEAAAYAAAAAAQAAAgAAAAABAAAKAAAAAAEAAAQAAAAAAQAAAAAAAAABAAACAAAAAAEAAAQAAAAAAQAACgAAAAABAAAEAAAAAAEAAAAAAAAAAQAAAgAAAAACAAAEAAAAAAEAAAoAAAAAAQAABAAAAAABAAAAAAAAAAEAAAIAAAAAAQAABAAAAAABAAAIAAAAAAIAAAIAAAAAAQAABAAAAAABAAAKAAAAAAEAAAQAAAAAAQAAAAAAAAABAAACAAAAAAIAAAQAAAAAAQAACgAAAAABAAAEAAAAAAEAAAAAAAAAAQAAAgAAAAACAAAEAAAAAAEAAAoAAAAAAQAABAAAAAABAAAAAAAAAAEAAAIAAAAAAQAACgAAAAABAAAEAAAAAAEAAAAAAAAAAQAAAgAAAAABAAAKAAAAAAEAAAQAAAAAAQAAAAAAAAABAAACAAAAAAEAAAoAAAAAAQAABAAAAAABAAAAAAAAAAEAAAIAAAAAAQAACgAAAAABAAAEAAAAAAEAAAAAAAAAAQAAAgAAAAABAAAEAAAAAAEAAAgAAAAAAgAAAgAAAAABAAAEAAAAAAEAAAoAAAAAAQAABAAAAAABAAAAAAAAAAEAAAIAAAAAAQAABAAAAAABAAAGAAAAAAEAAAIAAAAAAwAABAAAAAABAAAKAAAAAAEAAAQAAAAAAQAAAAAAAAABAAACAAAAAAEAAAoAAAAAAQAABAAAAAABAAAAAAAAAAEAAAIAAAAAAQAACgAAAAABAAAEAAAAAAEAAAAAAAAAAQAAAgAAAAABAAAKAAAAAAEAAAQAAAAAAQAAAAAAAAABAAACAAAAAAEAAAYAAAAAAQAAAgAAAAAcc3RzYwAAAAAAAAABAAAAAQAAAMoAAAABAAADPHN0c3oAAAAAAAAAAAAAAMoAAAW5AAAAGgAAABMAAAAUAAAAIQAAABQAAAAVAAAAEAAAABQAAAAUAAAAHgAAABwAAAAcAAAAFAAAABQAAAATAAAAHgAAAB4AAAAYAAAAEwAAAB0AAAAUAAAAFAAAABMAAAAhAAAAFAAAABMAAAAUAAAAIAAAABYAAAASAAAAIQAAABQAAAAcAAAAHgAAABQAAAAdAAAAIgAAABQAAAAdAAAAHwAAABYAAAASAAAAIAAAABYAAAASAAAAHQAAABwAAAAcAAAAFgAAABIAAAAdAAAAFAAAAB0AAAAjAAAAFAAAAB0AAAAWAAAAEgAAAB4AAAATAAAAEQAAACAAAAAgAAAAGAAAABQAAAAUAAAAHgAAABYAAAASAAAAHQAAABMAAAAUAAAAIgAAABYAAAAUAAAAHgAAACAAAAAVAAAAEwAAABQAAAAWAAAAEAAAABMAAAATAAAAHgAAACAAAAAUAAAAHQAAAB0AAAAWAAAAEgAAACIAAAAUAAAAEwAAABQAAAAdAAAAFAAAABMAAAAUAAAAIQAAABQAAAAcAAAAFQAAABAAAAAUAAAAFAAAAB0AAAAcAAAAIAAAABQAAAAcAAAAIQAAABQAAAAdAAAAIQAAABMAAAAgAAAAFAAAABMAAAAUAAAAHgAAABUAAAAQAAAAFAAAABQAAAAeAAAAHAAAAB8AAAAUAAAAFAAAABMAAAAeAAAAHQAAABMAAAAUAAAAHQAAACEAAAAVAAAAEwAAABQAAAAeAAAAHwAAACQAAAAZAAAAFAAAABQAAAAdAAAAHQAAAC8AAAAZAAAAFAAAABQAAAAbAAAAGQAAABQAAAAUAAAAIAAAABQAAAAUAAAAEwAAACAAAAAWAAAAFAAAABQAAAAhAAAAFAAAABMAAAAUAAAAHQAAAB0AAAAWAAAAEgAAAB0AAAAjAAAAGQAAABQAAAAUAAAAHgAAACAAAAAUAAAAHAAAAB0AAAAdAAAAIAAAABQAAAATAAAAFAAAACAAAAAUAAAAFAAAABMAAAAgAAAAFAAAABMAAAATAAAAFgAAABAAAAATAAAAFAAAAB8AAAAqAAAAFHN0Y28AAAAAAAAAAQAAADAAAABidWR0YQAAAFptZXRhAAAAAAAAACFoZGxyAAAAAAAAAABtZGlyYXBwbAAAAAAAAAAAAAAAAC1pbHN0AAAAJal0b28AAAAdZGF0YQAAAAEAAAAATGF2ZjU3LjgzLjEwMA==\" type=\"video/mp4\" />\n",
              "             </video>"
            ],
            "text/plain": [
              "<IPython.core.display.HTML object>"
            ]
          },
          "metadata": {
            "tags": []
          },
          "execution_count": 19
        }
      ]
    },
    {
      "metadata": {
        "id": "TvCXlEs--XJD",
        "colab_type": "code",
        "colab": {}
      },
      "cell_type": "code",
      "source": [
        "# Evaluation\n",
        "test(agent,env,epochs_test,prefix='cnn_test_explore')\n",
        "HTML(display_videos('cnn_test_explore0.mp4'))"
      ],
      "execution_count": 0,
      "outputs": []
    },
    {
      "metadata": {
        "id": "ro47_94Z-XJG",
        "colab_type": "text"
      },
      "cell_type": "markdown",
      "source": [
        "***\n",
        "***\n",
        "__BONUS question__ Use the expert DQN from the previous question to generate some winning games. Train a model that mimicks its behavior. Compare the performances."
      ]
    },
    {
      "metadata": {
        "id": "rwWT07Km-XJG",
        "colab_type": "text"
      },
      "cell_type": "markdown",
      "source": [
        "We can see that the new classifier network learns very fast to mimick the expert DQN and its performance is better. However we should keep in mind that its performances is limited by it's unability to explore and learn new states. "
      ]
    },
    {
      "metadata": {
        "id": "4o8yhrfU-XJH",
        "colab_type": "text"
      },
      "cell_type": "markdown",
      "source": [
        "***"
      ]
    },
    {
      "metadata": {
        "id": "qFnORhYvUnxS",
        "colab_type": "code",
        "colab": {}
      },
      "cell_type": "code",
      "source": [
        "class Classifier(DQN):\n",
        "    def __init__(self, *args,lr=0.1,**kwargs):\n",
        "        super(Classifier, self).__init__(*args,**kwargs)\n",
        "        \n",
        "        model = Sequential()\n",
        "        model.add(Conv2D(50,2,input_shape=(5,5,self.n_state,),activation='relu'))\n",
        "        model.add(Flatten())\n",
        "        model.add(Dense(4))\n",
        "        model.compile(sgd(lr=lr, decay=1e-4, momentum=0.0), \"mse\")\n",
        "        self.model = model\n",
        "        \n",
        "    def learn(self, s_, a_):\n",
        "\n",
        "        input_states = np.zeros((1, 5,5,self.n_state))\n",
        "        target_q = np.zeros((1, 4))\n",
        "        \n",
        "        target_q[0, a_] = 1\n",
        "        input_states[0] = s_\n",
        "            \n",
        "\n",
        "        l = self.model.train_on_batch(input_states, target_q)\n",
        "\n",
        "        return l\n",
        "\n",
        "def train_behavior(agent_ref, classifier,env,epoch,epsilon=0.1, decay=0.99, prefix=''):\n",
        "    # Number of won games\n",
        "    score = 0\n",
        "    loss = 0\n",
        "\n",
        "    for e in range(epoch):\n",
        "        # At each epoch, we restart to a fresh game and get the initial state\n",
        "        state = env.reset()\n",
        "        # This assumes that the games will terminate\n",
        "        game_over = False\n",
        "\n",
        "        win = 0\n",
        "        lose = 0\n",
        "\n",
        "        while not game_over:\n",
        "            # The agent performs an action\n",
        "            action = agent_ref.act(state, train=False)\n",
        "\n",
        "            \n",
        "            # Apply an action to the environment, get the next state, the reward\n",
        "            # and if the games end\n",
        "            prev_state = state\n",
        "            state, reward, game_over = env.act(action, train=True)\n",
        "\n",
        "            # Update the counters\n",
        "            if reward > 0:\n",
        "                win = win + reward\n",
        "            if reward < 0:\n",
        "                lose = lose -reward\n",
        "                \n",
        "            # Learn classifier\n",
        "            loss = classifier.learn(prev_state,  action)\n",
        "\n",
        "        # Save as a mp4\n",
        "        if e % 10 == 0:\n",
        "            env.draw(prefix+str(e))\n",
        "\n",
        "        # Update stats\n",
        "        score += win-lose\n",
        "\n",
        "        print(\"Epoch {:03d}/{:03d} | Loss {:.4f} | Win/lose count {}/{} ({})\"\n",
        "              .format(e, epoch, loss, win, lose, win-lose))\n",
        "        agent.save(name_weights=prefix+'model.h5',name_model=prefix+'model.json')"
      ],
      "execution_count": 0,
      "outputs": []
    },
    {
      "metadata": {
        "id": "mz9UyaKsd68s",
        "colab_type": "code",
        "outputId": "d981a8f5-e871-4033-b1e6-851919e116b2",
        "colab": {
          "base_uri": "https://localhost:8080/",
          "height": 2167
        }
      },
      "cell_type": "code",
      "source": [
        "classifier = Classifier(size, lr=.1, epsilon = 0.1, memory_size=2000, batch_size = 32,n_state=3)\n",
        "env = EnvironmentExploring(grid_size=size, max_time=T, temperature=0.3)\n",
        "train_behavior(agent, classifier, env, 20, prefix='cnn_train_behavior_clone')\n",
        "\n",
        "# Evaluation\n",
        "test(classifier,env,epochs_test,prefix='cnn_test_behavior_clone')"
      ],
      "execution_count": 22,
      "outputs": [
        {
          "output_type": "stream",
          "text": [
            "Epoch 000/020 | Loss 0.2050 | Win/lose count 27.0/17.499999999999986 (9.500000000000014)\n",
            "Epoch 001/020 | Loss 0.1559 | Win/lose count 24.5/13.499999999999977 (11.000000000000023)\n",
            "Epoch 002/020 | Loss 0.0477 | Win/lose count 25.0/19.500000000000007 (5.499999999999993)\n",
            "Epoch 003/020 | Loss 0.0925 | Win/lose count 20.5/21.599999999999998 (-1.0999999999999979)\n",
            "Epoch 004/020 | Loss 0.1590 | Win/lose count 34.0/13.799999999999978 (20.200000000000024)\n",
            "Epoch 005/020 | Loss 0.2340 | Win/lose count 22.5/14.29999999999998 (8.20000000000002)\n",
            "Epoch 006/020 | Loss 0.1776 | Win/lose count 27.0/13.899999999999979 (13.100000000000021)\n",
            "Epoch 007/020 | Loss 0.1345 | Win/lose count 25.5/19.79999999999999 (5.70000000000001)\n",
            "Epoch 008/020 | Loss 0.1431 | Win/lose count 25.0/23.500000000000004 (1.4999999999999964)\n",
            "Epoch 009/020 | Loss 0.1201 | Win/lose count 19.5/21.5 (-2.0)\n",
            "Epoch 010/020 | Loss 0.1270 | Win/lose count 25.5/16.199999999999985 (9.300000000000015)\n",
            "Epoch 011/020 | Loss 0.1895 | Win/lose count 22.5/15.399999999999975 (7.1000000000000245)\n",
            "Epoch 012/020 | Loss 0.2455 | Win/lose count 27.0/18.4 (8.600000000000001)\n",
            "Epoch 013/020 | Loss 0.0614 | Win/lose count 24.5/15.899999999999975 (8.600000000000025)\n",
            "Epoch 014/020 | Loss 0.1459 | Win/lose count 28.0/14.499999999999986 (13.500000000000014)\n",
            "Epoch 015/020 | Loss 0.0758 | Win/lose count 19.5/22.399999999999995 (-2.899999999999995)\n",
            "Epoch 016/020 | Loss 0.1467 | Win/lose count 29.5/11.899999999999986 (17.600000000000016)\n",
            "Epoch 017/020 | Loss 0.1900 | Win/lose count 23.0/17.899999999999984 (5.100000000000016)\n",
            "Epoch 018/020 | Loss 0.0141 | Win/lose count 20.0/17.599999999999998 (2.400000000000002)\n",
            "Epoch 019/020 | Loss 0.0436 | Win/lose count 29.5/13.199999999999982 (16.30000000000002)\n",
            "Win/lose count 17.5/3.0. Average score (14.5)\n",
            "Win/lose count 20.0/9.0. Average score (12.75)\n",
            "Win/lose count 22.0/7.0. Average score (13.5)\n",
            "Win/lose count 28.0/2.0. Average score (16.625)\n",
            "Win/lose count 27.0/6.0. Average score (17.5)\n",
            "Win/lose count 21.0/5.0. Average score (17.25)\n",
            "Win/lose count 25.5/7.0. Average score (17.428571428571427)\n",
            "Win/lose count 24.0/3.0. Average score (17.875)\n",
            "Win/lose count 29.0/2.0. Average score (18.88888888888889)\n",
            "Win/lose count 26.0/3.0. Average score (19.3)\n",
            "Final score: 19.3\n",
            "Epoch 000/020 | Loss 0.2050 | Win/lose count 27.0/17.499999999999986 (9.500000000000014)\n",
            "Epoch 001/020 | Loss 0.1559 | Win/lose count 24.5/13.499999999999977 (11.000000000000023)\n",
            "Epoch 002/020 | Loss 0.0477 | Win/lose count 25.0/19.500000000000007 (5.499999999999993)\n",
            "Epoch 003/020 | Loss 0.0925 | Win/lose count 20.5/21.599999999999998 (-1.0999999999999979)\n",
            "Epoch 004/020 | Loss 0.1590 | Win/lose count 34.0/13.799999999999978 (20.200000000000024)\n",
            "Epoch 005/020 | Loss 0.2340 | Win/lose count 22.5/14.29999999999998 (8.20000000000002)\n",
            "Epoch 006/020 | Loss 0.1776 | Win/lose count 27.0/13.899999999999979 (13.100000000000021)\n",
            "Epoch 007/020 | Loss 0.1345 | Win/lose count 25.5/19.79999999999999 (5.70000000000001)\n",
            "Epoch 008/020 | Loss 0.1431 | Win/lose count 25.0/23.500000000000004 (1.4999999999999964)\n",
            "Epoch 009/020 | Loss 0.1201 | Win/lose count 19.5/21.5 (-2.0)\n",
            "Epoch 010/020 | Loss 0.1270 | Win/lose count 25.5/16.199999999999985 (9.300000000000015)\n",
            "Epoch 011/020 | Loss 0.1895 | Win/lose count 22.5/15.399999999999975 (7.1000000000000245)\n",
            "Epoch 012/020 | Loss 0.2455 | Win/lose count 27.0/18.4 (8.600000000000001)\n",
            "Epoch 013/020 | Loss 0.0614 | Win/lose count 24.5/15.899999999999975 (8.600000000000025)\n",
            "Epoch 014/020 | Loss 0.1459 | Win/lose count 28.0/14.499999999999986 (13.500000000000014)\n",
            "Epoch 015/020 | Loss 0.0758 | Win/lose count 19.5/22.399999999999995 (-2.899999999999995)\n",
            "Epoch 016/020 | Loss 0.1467 | Win/lose count 29.5/11.899999999999986 (17.600000000000016)\n",
            "Epoch 017/020 | Loss 0.1900 | Win/lose count 23.0/17.899999999999984 (5.100000000000016)\n",
            "Epoch 018/020 | Loss 0.0141 | Win/lose count 20.0/17.599999999999998 (2.400000000000002)\n",
            "Epoch 019/020 | Loss 0.0436 | Win/lose count 29.5/13.199999999999982 (16.30000000000002)\n",
            "Win/lose count 17.5/3.0. Average score (14.5)\n",
            "Win/lose count 20.0/9.0. Average score (12.75)\n",
            "Win/lose count 22.0/7.0. Average score (13.5)\n",
            "Win/lose count 28.0/2.0. Average score (16.625)\n",
            "Win/lose count 27.0/6.0. Average score (17.5)\n",
            "Win/lose count 21.0/5.0. Average score (17.25)\n",
            "Win/lose count 25.5/7.0. Average score (17.428571428571427)\n",
            "Win/lose count 24.0/3.0. Average score (17.875)\n",
            "Win/lose count 29.0/2.0. Average score (18.88888888888889)\n",
            "Win/lose count 26.0/3.0. Average score (19.3)\n",
            "Final score: 19.3\n",
            "Epoch 000/020 | Loss 0.2050 | Win/lose count 27.0/17.499999999999986 (9.500000000000014)\n",
            "Epoch 001/020 | Loss 0.1559 | Win/lose count 24.5/13.499999999999977 (11.000000000000023)\n",
            "Epoch 002/020 | Loss 0.0477 | Win/lose count 25.0/19.500000000000007 (5.499999999999993)\n",
            "Epoch 003/020 | Loss 0.0925 | Win/lose count 20.5/21.599999999999998 (-1.0999999999999979)\n",
            "Epoch 004/020 | Loss 0.1590 | Win/lose count 34.0/13.799999999999978 (20.200000000000024)\n",
            "Epoch 005/020 | Loss 0.2340 | Win/lose count 22.5/14.29999999999998 (8.20000000000002)\n",
            "Epoch 006/020 | Loss 0.1776 | Win/lose count 27.0/13.899999999999979 (13.100000000000021)\n",
            "Epoch 007/020 | Loss 0.1345 | Win/lose count 25.5/19.79999999999999 (5.70000000000001)\n",
            "Epoch 008/020 | Loss 0.1431 | Win/lose count 25.0/23.500000000000004 (1.4999999999999964)\n",
            "Epoch 009/020 | Loss 0.1201 | Win/lose count 19.5/21.5 (-2.0)\n",
            "Epoch 010/020 | Loss 0.1270 | Win/lose count 25.5/16.199999999999985 (9.300000000000015)\n",
            "Epoch 011/020 | Loss 0.1895 | Win/lose count 22.5/15.399999999999975 (7.1000000000000245)\n",
            "Epoch 012/020 | Loss 0.2455 | Win/lose count 27.0/18.4 (8.600000000000001)\n",
            "Epoch 013/020 | Loss 0.0614 | Win/lose count 24.5/15.899999999999975 (8.600000000000025)\n",
            "Epoch 014/020 | Loss 0.1459 | Win/lose count 28.0/14.499999999999986 (13.500000000000014)\n",
            "Epoch 015/020 | Loss 0.0758 | Win/lose count 19.5/22.399999999999995 (-2.899999999999995)\n",
            "Epoch 016/020 | Loss 0.1467 | Win/lose count 29.5/11.899999999999986 (17.600000000000016)\n",
            "Epoch 017/020 | Loss 0.1900 | Win/lose count 23.0/17.899999999999984 (5.100000000000016)\n",
            "Epoch 018/020 | Loss 0.0141 | Win/lose count 20.0/17.599999999999998 (2.400000000000002)\n",
            "Epoch 019/020 | Loss 0.0436 | Win/lose count 29.5/13.199999999999982 (16.30000000000002)\n",
            "Win/lose count 17.5/3.0. Average score (14.5)\n",
            "Win/lose count 20.0/9.0. Average score (12.75)\n",
            "Win/lose count 22.0/7.0. Average score (13.5)\n",
            "Win/lose count 28.0/2.0. Average score (16.625)\n",
            "Win/lose count 27.0/6.0. Average score (17.5)\n",
            "Win/lose count 21.0/5.0. Average score (17.25)\n",
            "Win/lose count 25.5/7.0. Average score (17.428571428571427)\n",
            "Win/lose count 24.0/3.0. Average score (17.875)\n",
            "Win/lose count 29.0/2.0. Average score (18.88888888888889)\n",
            "Win/lose count 26.0/3.0. Average score (19.3)\n",
            "Final score: 19.3\n",
            "Epoch 000/020 | Loss 0.2050 | Win/lose count 27.0/17.499999999999986 (9.500000000000014)\n",
            "Epoch 001/020 | Loss 0.1559 | Win/lose count 24.5/13.499999999999977 (11.000000000000023)\n",
            "Epoch 002/020 | Loss 0.0477 | Win/lose count 25.0/19.500000000000007 (5.499999999999993)\n",
            "Epoch 003/020 | Loss 0.0925 | Win/lose count 20.5/21.599999999999998 (-1.0999999999999979)\n",
            "Epoch 004/020 | Loss 0.1590 | Win/lose count 34.0/13.799999999999978 (20.200000000000024)\n",
            "Epoch 005/020 | Loss 0.2340 | Win/lose count 22.5/14.29999999999998 (8.20000000000002)\n",
            "Epoch 006/020 | Loss 0.1776 | Win/lose count 27.0/13.899999999999979 (13.100000000000021)\n",
            "Epoch 007/020 | Loss 0.1345 | Win/lose count 25.5/19.79999999999999 (5.70000000000001)\n",
            "Epoch 008/020 | Loss 0.1431 | Win/lose count 25.0/23.500000000000004 (1.4999999999999964)\n",
            "Epoch 009/020 | Loss 0.1201 | Win/lose count 19.5/21.5 (-2.0)\n",
            "Epoch 010/020 | Loss 0.1270 | Win/lose count 25.5/16.199999999999985 (9.300000000000015)\n",
            "Epoch 011/020 | Loss 0.1895 | Win/lose count 22.5/15.399999999999975 (7.1000000000000245)\n",
            "Epoch 012/020 | Loss 0.2455 | Win/lose count 27.0/18.4 (8.600000000000001)\n",
            "Epoch 013/020 | Loss 0.0614 | Win/lose count 24.5/15.899999999999975 (8.600000000000025)\n",
            "Epoch 014/020 | Loss 0.1459 | Win/lose count 28.0/14.499999999999986 (13.500000000000014)\n",
            "Epoch 015/020 | Loss 0.0758 | Win/lose count 19.5/22.399999999999995 (-2.899999999999995)\n",
            "Epoch 016/020 | Loss 0.1467 | Win/lose count 29.5/11.899999999999986 (17.600000000000016)\n",
            "Epoch 017/020 | Loss 0.1900 | Win/lose count 23.0/17.899999999999984 (5.100000000000016)\n",
            "Epoch 018/020 | Loss 0.0141 | Win/lose count 20.0/17.599999999999998 (2.400000000000002)\n",
            "Epoch 019/020 | Loss 0.0436 | Win/lose count 29.5/13.199999999999982 (16.30000000000002)\n",
            "Win/lose count 17.5/3.0. Average score (14.5)\n",
            "Win/lose count 20.0/9.0. Average score (12.75)\n",
            "Win/lose count 22.0/7.0. Average score (13.5)\n",
            "Win/lose count 28.0/2.0. Average score (16.625)\n",
            "Win/lose count 27.0/6.0. Average score (17.5)\n",
            "Win/lose count 21.0/5.0. Average score (17.25)\n",
            "Win/lose count 25.5/7.0. Average score (17.428571428571427)\n",
            "Win/lose count 24.0/3.0. Average score (17.875)\n",
            "Win/lose count 29.0/2.0. Average score (18.88888888888889)\n",
            "Win/lose count 26.0/3.0. Average score (19.3)\n",
            "Final score: 19.3\n"
          ],
          "name": "stdout"
        }
      ]
    },
    {
      "metadata": {
        "id": "RrWcA99hevK9",
        "colab_type": "text"
      },
      "cell_type": "markdown",
      "source": [
        ""
      ]
    }
  ]
}