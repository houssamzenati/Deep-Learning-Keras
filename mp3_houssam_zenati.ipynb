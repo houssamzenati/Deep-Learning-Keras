{
  "nbformat": 4,
  "nbformat_minor": 0,
  "metadata": {
    "colab": {
      "name": "DQN_project_MVA.ipynb",
      "version": "0.3.2",
      "provenance": [],
      "collapsed_sections": []
    },
    "kernelspec": {
      "name": "python3",
      "display_name": "Python 3"
    },
    "accelerator": "GPU"
  },
  "cells": [
    {
      "metadata": {
        "id": "Gm-lKcnT-XHS",
        "colab_type": "text"
      },
      "cell_type": "markdown",
      "source": [
        "**You may need to install [OpenCV](https://pypi.python.org/pypi/opencv-python) and [scikit-video](http://www.scikit-video.org/stable/).**"
      ]
    },
    {
      "metadata": {
        "id": "aGWLF4OI-XHY",
        "colab_type": "code",
        "outputId": "822a1e5e-9fe5-4c95-ba9b-06c2d57546ac",
        "colab": {
          "base_uri": "https://localhost:8080/",
          "height": 156
        }
      },
      "cell_type": "code",
      "source": [
        "import keras\n",
        "import numpy as np\n",
        "import io\n",
        "import base64\n",
        "from IPython.display import HTML\n",
        "!pip install sk-video \n",
        "import skvideo.io\n",
        "import cv2\n",
        "import json\n",
        "import os \n",
        "\n",
        "from keras.models import Sequential,model_from_json\n",
        "from keras.layers.core import Dense\n",
        "from keras.optimizers import sgd\n",
        "from keras.layers import Conv2D, MaxPooling2D, Activation, AveragePooling2D,Reshape,BatchNormalization"
      ],
      "execution_count": 0,
      "outputs": [
        {
          "output_type": "stream",
          "text": [
            "Using TensorFlow backend.\n"
          ],
          "name": "stderr"
        },
        {
          "output_type": "stream",
          "text": [
            "Collecting sk-video\n",
            "\u001b[?25l  Downloading https://files.pythonhosted.org/packages/dd/3f/ce848b8b2062ad1ccf1449094a740c775f6c761339f411e44f1e090f23a7/sk_video-1.1.10-py2.py3-none-any.whl (2.3MB)\n",
            "\u001b[K    100% |████████████████████████████████| 2.3MB 7.5MB/s \n",
            "\u001b[?25hRequirement already satisfied: scipy in /usr/local/lib/python3.6/dist-packages (from sk-video) (1.1.0)\n",
            "Requirement already satisfied: numpy in /usr/local/lib/python3.6/dist-packages (from sk-video) (1.14.6)\n",
            "Installing collected packages: sk-video\n",
            "Successfully installed sk-video-1.1.10\n"
          ],
          "name": "stdout"
        }
      ]
    },
    {
      "metadata": {
        "id": "D4qjSWR0-XHj",
        "colab_type": "text"
      },
      "cell_type": "markdown",
      "source": [
        "# MiniProject #3: Deep Reinforcement Learning"
      ]
    },
    {
      "metadata": {
        "id": "3asfEM6z-XHl",
        "colab_type": "text"
      },
      "cell_type": "markdown",
      "source": [
        "__Notations__: $E_p$ is the expectation under probability $p$. Please justify each of your answer and widely comment your code."
      ]
    },
    {
      "metadata": {
        "id": "ETU6ea1N-XHm",
        "colab_type": "text"
      },
      "cell_type": "markdown",
      "source": [
        "# Context"
      ]
    },
    {
      "metadata": {
        "id": "8kNup7cG-XHo",
        "colab_type": "text"
      },
      "cell_type": "markdown",
      "source": [
        "In a reinforcement learning algorithm, we modelize each step $t$ as an action $a_t$ obtained from a state $s_t$, i.e. $\\{(a_{t},s_{t})_{t\\leq T}\\}$ having the Markov property. We consider a discount factor $\\gamma \\in [0,1]$ that ensures convergence. The goal is to find among all the policies $\\pi$, one that maximizes the expected reward:\n",
        "\n",
        "\\begin{equation*}\n",
        "R(\\pi)=\\sum_{t\\leq T}E_{p^{\\pi}}[\\gamma^t r(s_{t},a_{t})] \\> ,\n",
        "\\end{equation*}\n",
        "\n",
        "where: \n",
        "\\begin{equation*}p^{\\pi}(a_{0},a_{1},s_{1},...,a_{T},s_{T})=p(a_{0})\\prod_{t=1}^{T}\\pi(a_{t}|s_{t})p(s_{t+1}|s_{t},a_{t}) \\> .\n",
        "\\end{equation*}\n",
        "\n",
        "We note the $Q$-function:\n",
        "\n",
        "\\begin{equation*}Q^\\pi(s,a)=E_{p^{\\pi}}[\\sum_{t\\leq T}\\gamma^{t}r(s_{t},a_{t})|s_{0}=s,a_{0}=a] \\> .\n",
        "\\end{equation*}\n",
        "\n",
        "Thus, the optimal Q function is:\n",
        "\\begin{equation*}\n",
        "Q^*(s,a)=\\max_{\\pi}Q^\\pi(s,a) \\> .\n",
        "\\end{equation*}\n",
        "\n",
        "In this project, we will apply the deep reinforcement learning techniques to a simple game: an agent will have to learn from scratch a policy that will permit it maximizing a reward."
      ]
    },
    {
      "metadata": {
        "id": "FI8SfsnA-XHq",
        "colab_type": "text"
      },
      "cell_type": "markdown",
      "source": [
        "## The environment, the agent and the game"
      ]
    },
    {
      "metadata": {
        "id": "aSQrgg94-XHr",
        "colab_type": "text"
      },
      "cell_type": "markdown",
      "source": [
        "### The environment"
      ]
    },
    {
      "metadata": {
        "id": "sALfzrTz-XHt",
        "colab_type": "text"
      },
      "cell_type": "markdown",
      "source": [
        "```Environment``` is an abstract class that represents the states, rewards, and actions to obtain the new state."
      ]
    },
    {
      "metadata": {
        "id": "ih7eFHAc-XHu",
        "colab_type": "code",
        "colab": {}
      },
      "cell_type": "code",
      "source": [
        "class Environment(object):\n",
        "    def __init__(self):\n",
        "        pass\n",
        "\n",
        "    def act(self, act):\n",
        "        \"\"\"\n",
        "        One can act on the environment and obtain its reaction:\n",
        "        - the new state\n",
        "        - the reward of the new state\n",
        "        - should we continue the game?\n",
        "\n",
        "        :return: state, reward, game_over\n",
        "        \"\"\"\n",
        "        pass\n",
        "\n",
        "\n",
        "    def reset(self):\n",
        "        \"\"\"\n",
        "        Reinitialize the environment to a random state and returns\n",
        "        the original state\n",
        "\n",
        "        :return: state\n",
        "        \"\"\"\n",
        "        pass\n",
        "    \n",
        "    def draw(self):\n",
        "        \"\"\"\n",
        "        Visualize in the console or graphically the current state\n",
        "        \"\"\"\n",
        "        pass"
      ],
      "execution_count": 0,
      "outputs": []
    },
    {
      "metadata": {
        "id": "rHYZdlq1-XHy",
        "colab_type": "text"
      },
      "cell_type": "markdown",
      "source": [
        "The method ```act``` allows to act on the environment at a given state $s_t$ (stored internally), via action $a_t$. The method will return the new state $s_{t+1}$, the reward $r(s_{t},a_{t})$ and determines if $t\\leq T$ (*game_over*).\n",
        "\n",
        "The method ```reset``` simply reinitializes the environment to a random state $s_0$.\n",
        "\n",
        "The method ```draw``` displays the current state $s_t$ (this is useful to check the behavior of the Agent).\n",
        "\n",
        "We modelize $s_t$ as a tensor, while $a_t$ is an integer."
      ]
    },
    {
      "metadata": {
        "id": "GGxJNrSS-XHz",
        "colab_type": "text"
      },
      "cell_type": "markdown",
      "source": [
        "### The Agent"
      ]
    },
    {
      "metadata": {
        "id": "j1UFM1tk-XH0",
        "colab_type": "text"
      },
      "cell_type": "markdown",
      "source": [
        "The goal of the ```Agent``` is to interact with the ```Environment``` by proposing actions $a_t$ obtained from a given state $s_t$ to attempt to maximize its __reward__ $r(s_t,a_t)$. We propose the following abstract class:"
      ]
    },
    {
      "metadata": {
        "id": "XB-1NtUa-XH1",
        "colab_type": "code",
        "colab": {}
      },
      "cell_type": "code",
      "source": [
        "class Agent(object):\n",
        "    def __init__(self, epsilon=0.1, n_action=4):\n",
        "        self.epsilon = epsilon\n",
        "        self.n_action = n_action\n",
        "    \n",
        "    def set_epsilon(self,e):\n",
        "        self.epsilon = e\n",
        "\n",
        "    def act(self,s,train=True):\n",
        "        \"\"\" This function should return the next action to do:\n",
        "        an integer between 0 and 4 (not included) with a random exploration of epsilon\"\"\"\n",
        "        if train:\n",
        "            if np.random.rand() <= self.epsilon:\n",
        "                a = np.random.randint(0, self.n_action, size=1)[0]\n",
        "            else:\n",
        "                a = self.learned_act(s)\n",
        "        else: # in some cases, this can improve the performance.. remove it if poor performances\n",
        "            a = self.learned_act(s)\n",
        "\n",
        "        return a\n",
        "\n",
        "    def learned_act(self,s):\n",
        "        \"\"\" Act via the policy of the agent, from a given state s\n",
        "        it proposes an action a\"\"\"\n",
        "        pass\n",
        "\n",
        "    def reinforce(self, s, n_s, a, r, game_over_):\n",
        "        \"\"\" This function is the core of the learning algorithm. \n",
        "        It takes as an input the current state s_, the next state n_s_\n",
        "        the action a_ used to move from s_ to n_s_ and the reward r_.\n",
        "        \n",
        "        Its goal is to learn a policy.\n",
        "        \"\"\"\n",
        "        pass\n",
        "\n",
        "    def save(self):\n",
        "        \"\"\" This function returns basic stats if applicable: the\n",
        "        loss and/or the model\"\"\"\n",
        "        pass\n",
        "\n",
        "    def load(self):\n",
        "        \"\"\" This function allows to restore a model\"\"\"\n",
        "        pass"
      ],
      "execution_count": 0,
      "outputs": []
    },
    {
      "metadata": {
        "id": "gTLjPACV-XH6",
        "colab_type": "text"
      },
      "cell_type": "markdown",
      "source": [
        "***\n",
        "__Question 1__:\n",
        "Explain the function act. Why is ```epsilon``` essential?"
      ]
    },
    {
      "metadata": {
        "id": "JGtur9XT-XH7",
        "colab_type": "text"
      },
      "cell_type": "markdown",
      "source": [
        "The function act predicts action to be taken at time $t+1$ in a given state $s$ at a time $t$ and chooses between exploration (with a probability epsilon) and exploitation (with a probability 1-epsilon). \n",
        "\n",
        "More specifically, during the training, the action can be chosen at random for exploration or can be chosen according to the knowledge of the network. The epsilon is essential for the exploration part of the RL. During the test however, only the exploration phase is chosen."
      ]
    },
    {
      "metadata": {
        "id": "WpSctsvr-XH9",
        "colab_type": "text"
      },
      "cell_type": "markdown",
      "source": [
        "***\n",
        "### The Game"
      ]
    },
    {
      "metadata": {
        "id": "w88YjqVp-XH-",
        "colab_type": "text"
      },
      "cell_type": "markdown",
      "source": [
        "The ```Agent``` and the ```Environment``` work in an interlaced way as in the following (take some time to understand this code as it is the core of the project)\n",
        "\n",
        "```python\n",
        "\n",
        "epoch = 300\n",
        "env = Environment()\n",
        "agent = Agent()\n",
        "\n",
        "\n",
        "# Number of won games\n",
        "score = 0\n",
        "loss = 0\n",
        "\n",
        "\n",
        "for e in range(epoch):\n",
        "    # At each epoch, we restart to a fresh game and get the initial state\n",
        "    state = env.reset()\n",
        "    # This assumes that the games will end\n",
        "    game_over = False\n",
        "\n",
        "    win = 0\n",
        "    lose = 0\n",
        "    \n",
        "    while not game_over:\n",
        "        # The agent performs an action\n",
        "        action = agent.act(state)\n",
        "\n",
        "        # Apply an action to the environment, get the next state, the reward\n",
        "        # and if the games end\n",
        "        prev_state = state\n",
        "        state, reward, game_over = env.act(action)\n",
        "\n",
        "        # Update the counters\n",
        "        if reward > 0:\n",
        "            win = win + reward\n",
        "        if reward < 0:\n",
        "            lose = lose -reward\n",
        "\n",
        "        # Apply the reinforcement strategy\n",
        "        loss = agent.reinforce(prev_state, state,  action, reward, game_over)\n",
        "\n",
        "    # Save as a mp4\n",
        "    if e % 10 == 0:\n",
        "        env.draw(e)\n",
        "\n",
        "    # Update stats\n",
        "    score += win-lose\n",
        "\n",
        "    print(\"Epoch {:03d}/{:03d} | Loss {:.4f} | Win/lose count {}/{} ({})\"\n",
        "          .format(e, epoch, loss, win, lose, win-lose))\n",
        "    agent.save()\n",
        "```"
      ]
    },
    {
      "metadata": {
        "id": "F1wqEB79-XH_",
        "colab_type": "text"
      },
      "cell_type": "markdown",
      "source": [
        "# The game, *eat cheese*"
      ]
    },
    {
      "metadata": {
        "id": "9wiD4AuA-XIA",
        "colab_type": "text"
      },
      "cell_type": "markdown",
      "source": [
        "A rat runs on an island and tries to eat as much as possible. The island is subdivided into $N\\times N$ cells, in which there are cheese (+0.5) and poisonous cells (-1). The rat has a visibility of 2 cells (thus it can see $5^2$ cells). The rat is given a time $T$ to accumulate as much food as possible. It can perform 4 actions: going up, down, left, right. \n",
        "\n",
        "The goal is to code an agent to solve this task that will learn by trial and error. We propose the following environment:"
      ]
    },
    {
      "metadata": {
        "id": "-zN1BHpI-XIB",
        "colab_type": "code",
        "colab": {}
      },
      "cell_type": "code",
      "source": [
        "class Environment(object):\n",
        "    def __init__(self, grid_size=10, max_time=500, temperature=0.1):\n",
        "        grid_size = grid_size+4\n",
        "        self.grid_size = grid_size\n",
        "        self.max_time = max_time\n",
        "        self.temperature = temperature\n",
        "\n",
        "        #board on which one plays\n",
        "        self.board = np.zeros((grid_size,grid_size))\n",
        "        self.position = np.zeros((grid_size,grid_size))\n",
        "\n",
        "        # coordinate of the cat\n",
        "        self.x = 0\n",
        "        self.y = 1\n",
        "\n",
        "        # self time\n",
        "        self.t = 0\n",
        "\n",
        "        self.scale=16\n",
        "\n",
        "        self.to_draw = np.zeros((max_time+2, grid_size*self.scale, grid_size*self.scale, 3))\n",
        "\n",
        "\n",
        "    def draw(self,e):\n",
        "        skvideo.io.vwrite(str(e) + '.mp4', self.to_draw)\n",
        "\n",
        "    def get_frame(self,t):\n",
        "        b = np.zeros((self.grid_size,self.grid_size,3))+128\n",
        "        b[self.board>0,0] = 256\n",
        "        b[self.board < 0, 2] = 256\n",
        "        b[self.x,self.y,:]=256\n",
        "        b[-2:,:,:]=0\n",
        "        b[:,-2:,:]=0\n",
        "        b[:2,:,:]=0\n",
        "        b[:,:2,:]=0\n",
        "        \n",
        "        b =  cv2.resize(b, None, fx=self.scale, fy=self.scale, interpolation=cv2.INTER_NEAREST)\n",
        "\n",
        "        self.to_draw[t,:,:,:]=b\n",
        "\n",
        "\n",
        "    def act(self, action):\n",
        "        \"\"\"This function returns the new state, reward and decides if the\n",
        "        game ends.\"\"\"\n",
        "\n",
        "        self.get_frame(int(self.t))\n",
        "\n",
        "        self.position = np.zeros((self.grid_size, self.grid_size))\n",
        "\n",
        "        self.position[0:2,:]= -1\n",
        "        self.position[:,0:2] = -1\n",
        "        self.position[-2:, :] = -1\n",
        "        self.position[-2:, :] = -1\n",
        "\n",
        "        self.position[self.x, self.y] = 1\n",
        "        if action == 0:\n",
        "            if self.x == self.grid_size-3:\n",
        "                self.x = self.x-1\n",
        "            else:\n",
        "                self.x = self.x + 1\n",
        "        elif action == 1:\n",
        "            if self.x == 2:\n",
        "                self.x = self.x+1\n",
        "            else:\n",
        "                self.x = self.x-1\n",
        "        elif action == 2:\n",
        "            if self.y == self.grid_size - 3:\n",
        "                self.y = self.y - 1\n",
        "            else:\n",
        "                self.y = self.y + 1\n",
        "        elif action == 3:\n",
        "            if self.y == 2:\n",
        "                self.y = self.y + 1\n",
        "            else:\n",
        "                self.y = self.y - 1\n",
        "        else:\n",
        "            RuntimeError('Error: action not recognized')\n",
        "\n",
        "        self.t = self.t + 1\n",
        "        reward = self.board[self.x, self.y]\n",
        "        self.board[self.x, self.y] = 0\n",
        "        game_over = self.t > self.max_time\n",
        "        state = np.concatenate((self.board.reshape(self.grid_size, self.grid_size,1),\n",
        "                        self.position.reshape(self.grid_size, self.grid_size,1)),axis=2)\n",
        "        state = state[self.x-2:self.x+3,self.y-2:self.y+3,:]\n",
        "\n",
        "        return state, reward, game_over\n",
        "\n",
        "    def reset(self):\n",
        "        \"\"\"This function resets the game and returns the initial state\"\"\"\n",
        "\n",
        "        self.x = np.random.randint(3, self.grid_size-3, size=1)[0]\n",
        "        self.y = np.random.randint(3, self.grid_size-3, size=1)[0]\n",
        "\n",
        "\n",
        "        bonus = 0.5*np.random.binomial(1,self.temperature,size=self.grid_size**2)\n",
        "        bonus = bonus.reshape(self.grid_size,self.grid_size)\n",
        "\n",
        "        malus = -1.0*np.random.binomial(1,self.temperature,size=self.grid_size**2)\n",
        "        malus = malus.reshape(self.grid_size, self.grid_size)\n",
        "\n",
        "        self.to_draw = np.zeros((self.max_time+2, self.grid_size*self.scale, self.grid_size*self.scale, 3))\n",
        "\n",
        "\n",
        "        malus[bonus>0]=0\n",
        "\n",
        "        self.board = bonus + malus\n",
        "\n",
        "        self.position = np.zeros((self.grid_size, self.grid_size))\n",
        "        self.position[0:2,:]= -1\n",
        "        self.position[:,0:2] = -1\n",
        "        self.position[-2:, :] = -1\n",
        "        self.position[-2:, :] = -1\n",
        "        self.board[self.x,self.y] = 0\n",
        "        self.t = 0\n",
        "\n",
        "        state = np.concatenate((\n",
        "                               self.board.reshape(self.grid_size, self.grid_size,1),\n",
        "                        self.position.reshape(self.grid_size, self.grid_size,1)),axis=2)\n",
        "\n",
        "        state = state[self.x - 2:self.x + 3, self.y - 2:self.y + 3, :]\n",
        "        return state"
      ],
      "execution_count": 0,
      "outputs": []
    },
    {
      "metadata": {
        "id": "S4M_KccG-XIG",
        "colab_type": "text"
      },
      "cell_type": "markdown",
      "source": [
        "The following elements are important because they correspond to the hyper parameters for this project:"
      ]
    },
    {
      "metadata": {
        "id": "iI8MBy0t-XIH",
        "colab_type": "code",
        "colab": {}
      },
      "cell_type": "code",
      "source": [
        "# parameters\n",
        "size = 13\n",
        "T=200\n",
        "temperature=0.3\n",
        "epochs_train=100 # set small when debugging\n",
        "epochs_test=10 # set small when debugging\n",
        "\n",
        "# display videos\n",
        "def display_videos(name):\n",
        "    directory = os.path.join(os.getcwd(), name)\n",
        "    if not os.path.exists(directory):\n",
        "        os.makedirs(directory)\n",
        "    video = io.open(name, 'r+b').read()\n",
        "    encoded = base64.b64encode(video)\n",
        "    return '''<video alt=\"test\" controls>\n",
        "                <source src=\"data:video/mp4;base64,{0}\" type=\"video/mp4\" />\n",
        "             </video>'''.format(encoded.decode('ascii'))"
      ],
      "execution_count": 0,
      "outputs": []
    },
    {
      "metadata": {
        "id": "PVO85-3c4Arv",
        "colab_type": "text"
      },
      "cell_type": "markdown",
      "source": [
        ""
      ]
    },
    {
      "metadata": {
        "id": "Qw9Hx8Ek-XIL",
        "colab_type": "text"
      },
      "cell_type": "markdown",
      "source": [
        "__Question 2__ Explain the use of the arrays ```position``` and ```board```."
      ]
    },
    {
      "metadata": {
        "id": "VIumjAvP-XIM",
        "colab_type": "text"
      },
      "cell_type": "markdown",
      "source": [
        "The array position localizes the rat with a white pixel (value of 1), the background of the grid with black pixel (value of -1) and the rewards in the grid (value of 0.5 for food and -1 for poison). Therefore, the array encodes information about positions of rewards and the rat with  pixel's color. \n",
        "\n",
        "The array board has the reward associated to each position. Once a position is visited the reward is set to zero for this position.\n",
        "\n",
        "Both arrays have the same squarred shape of size grid_size."
      ]
    },
    {
      "metadata": {
        "id": "CyjiQCH4-XIM",
        "colab_type": "text"
      },
      "cell_type": "markdown",
      "source": [
        "## Random Agent"
      ]
    },
    {
      "metadata": {
        "id": "u5RNhMV7-XIO",
        "colab_type": "text"
      },
      "cell_type": "markdown",
      "source": [
        "***\n",
        "__Question 3__ Implement a random Agent (only ```learned_act``` needs to be implemented):"
      ]
    },
    {
      "metadata": {
        "id": "BQi0Rh9k-XIO",
        "colab_type": "code",
        "colab": {}
      },
      "cell_type": "code",
      "source": [
        "class RandomAgent(Agent):\n",
        "    def __init__(self):\n",
        "        super(RandomAgent, self).__init__()\n",
        "        pass\n",
        "\n",
        "    def learned_act(self, s):\n",
        "        return np.random.randint(self.n_action)"
      ],
      "execution_count": 0,
      "outputs": []
    },
    {
      "metadata": {
        "id": "7KKt-TPM-XIR",
        "colab_type": "text"
      },
      "cell_type": "markdown",
      "source": [
        "***\n",
        "***\n",
        "__Question 4__ Visualize the game moves. You need to fill in the following function for the evaluation:"
      ]
    },
    {
      "metadata": {
        "id": "i5WNK773-XIS",
        "colab_type": "code",
        "colab": {}
      },
      "cell_type": "code",
      "source": [
        "def test(agent,env,epochs,prefix=''):\n",
        "    # Number of won games\n",
        "    score = 0\n",
        " \n",
        "    for e in range(epochs):\n",
        "        \n",
        "        win = 0\n",
        "        lose = 0\n",
        "        # At each epoch, we restart to a fresh game and get the initial state\n",
        "        state = env.reset()\n",
        "        \n",
        "        game_over = False\n",
        "\n",
        "        while not game_over:\n",
        "            # The agent performs an action\n",
        "            action = agent.act(state, train=False)\n",
        "\n",
        "            # Apply an action to the environment, get the next state, the reward\n",
        "            # and if the games end\n",
        "            prev_state = state\n",
        "            state, reward, game_over = env.act(action)\n",
        "\n",
        "            # Update the counters\n",
        "            if reward > 0:\n",
        "                win = win + reward\n",
        "            if reward < 0:\n",
        "                lose = lose -reward\n",
        "        \n",
        "        # Save as a mp4\n",
        "        env.draw(prefix+str(e))\n",
        "\n",
        "        # Update stats\n",
        "        score = score + win-lose\n",
        "\n",
        "        print(\"Win/lose count {}/{}. Average score ({})\"\n",
        "              .format(win, lose, score/(1+e)))\n",
        "    print('Final score: '+str(score/epochs))"
      ],
      "execution_count": 0,
      "outputs": []
    },
    {
      "metadata": {
        "id": "2SvSnbTI-XIV",
        "colab_type": "code",
        "outputId": "4cf2df51-2fdf-440b-da46-342e6bb0fd65",
        "colab": {
          "base_uri": "https://localhost:8080/",
          "height": 362
        }
      },
      "cell_type": "code",
      "source": [
        "# Initialize the game\n",
        "env = Environment(grid_size=size, max_time=T,temperature=temperature)\n",
        "\n",
        "# Initialize the agent!\n",
        "agent = RandomAgent()\n",
        "\n",
        "test(agent,env,epochs_test,prefix='random')\n",
        "HTML(display_videos('random0.mp4'))"
      ],
      "execution_count": 0,
      "outputs": [
        {
          "output_type": "stream",
          "text": [
            "Win/lose count 9.5/15.0. Average score (-5.5)\n",
            "Win/lose count 9.5/13.0. Average score (-4.5)\n",
            "Win/lose count 10.5/18.0. Average score (-5.5)\n",
            "Win/lose count 9.5/8.0. Average score (-3.75)\n",
            "Win/lose count 10.5/25.0. Average score (-5.9)\n",
            "Win/lose count 13.5/14.0. Average score (-5.0)\n",
            "Win/lose count 7.5/5.0. Average score (-3.9285714285714284)\n",
            "Win/lose count 13.0/16.0. Average score (-3.8125)\n",
            "Win/lose count 7.5/14.0. Average score (-4.111111111111111)\n",
            "Win/lose count 11.5/7.0. Average score (-3.25)\n",
            "Final score: -3.25\n"
          ],
          "name": "stdout"
        },
        {
          "output_type": "execute_result",
          "data": {
            "text/html": [
              "<video alt=\"test\" controls>\n",
              "                <source src=\"data:video/mp4;base64,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\" type=\"video/mp4\" />\n",
              "             </video>"
            ],
            "text/plain": [
              "<IPython.core.display.HTML object>"
            ]
          },
          "metadata": {
            "tags": []
          },
          "execution_count": 8
        }
      ]
    },
    {
      "metadata": {
        "id": "O5NypkQ3-XIa",
        "colab_type": "text"
      },
      "cell_type": "markdown",
      "source": [
        "***\n",
        "## DQN"
      ]
    },
    {
      "metadata": {
        "id": "xefjDTsp-XIb",
        "colab_type": "text"
      },
      "cell_type": "markdown",
      "source": [
        "Let us assume here that $T=\\infty$.\n",
        "\n",
        "***\n",
        "__Question 5__ Let $\\pi$ be a policy, show that:\n",
        "\n",
        "\\begin{equation*}\n",
        "Q^{\\pi}(s,a)=E_{(s',a')\\sim p(.|s,a)}[r(s,a)+\\gamma Q^{\\pi}(s',a')]\n",
        "\\end{equation*}\n",
        "\n",
        "Then, show that for the optimal policy $\\pi^*$ (we assume its existence), the following holds: \n",
        "\n",
        "\\begin{equation*}\n",
        "Q^{*}(s,a)=E_{s'\\sim \\pi^*(.|s,a)}[r(s,a)+\\gamma\\max_{a'}Q^{*}(s',a')].\n",
        "\\end{equation*}\n",
        "Finally, deduce that a plausible objective is:\n",
        "\n",
        "\\begin{equation*}\n",
        "\\mathcal{L}(\\theta)=E_{s' \\sim \\pi^*(.|s,a)}\\Vert r+\\gamma\\max\\max_{a'}Q(s',a',\\theta)-Q(s,a,\\theta)\\Vert^{2}.\n",
        "\\end{equation*}\n",
        "\n",
        "\n"
      ]
    },
    {
      "metadata": {
        "id": "gEpbUhCQ-XIb",
        "colab_type": "text"
      },
      "cell_type": "markdown",
      "source": [
        "**Answer**\n",
        "\n",
        "a) By definition, $Q^{\\pi}(s,a) = E_{\\pi}[R_t |s_t = s, a_t = a]$. Therefore, we can get the following:\n",
        "\n",
        "\\begin{align}\n",
        " Q^{\\pi}(s,a) &=E_\\pi[\\sum_{k=0}^{\\infty} \\gamma^k r_{t+k}|s_t = s, a_t = a] \\\\ &= E_\\pi[ r(s,a) + \\sum_{k=1}^{\\infty} \\gamma^k r_{t+k}|s_t = s, a_t = a] \\\\ &= E_\\pi[r(s,a) + \\gamma \\sum_{p=0}^{\\infty} \\gamma^{p} r_{t+1+p}|s_t = s, a_t = a]\n",
        " \\\\ &= E_\\pi[r(s,a) + \\gamma R_{t+1}|s_t = s, a_t = a]\n",
        "\\end{align}\n",
        "\n",
        "\n",
        "Using the conditional expectation property $\\mathbb E[X]=\\mathbb E[\\mathbb E[X|Y]]$ we then have : \n",
        "\n",
        "\\begin{align}\n",
        "  Q^{\\pi}(s,a) &= E_\\pi[r(s,a) + \\gamma Q^{\\pi}(s_{t+1},a_{t+1}) |s_t = s, a_t = a] \\\\ \n",
        "  &=E_{(s',a')\\sim p(.|s,a)}[r(s,a)+\\gamma Q^{\\pi}(s',a')]\n",
        "\\end{align}\n",
        "\n",
        "b) By definition, we have:\n",
        "\n",
        "\\begin{align} \n",
        "Q^*(s,a) = \\max_{\\pi} Q^{\\pi}(s, a) \n",
        "\\end{align}\n",
        "\n",
        "and by definition of policy we have $\\pi(.) = \\pi^*(. |s)$, hence: \n",
        "\n",
        "\\begin{align} \n",
        "Q^*(s,a) &=E_{\\pi^*(. |s)}[r(s,a)+\\gamma \\max_{\\pi} Q^{\\pi}(s',a')] \\\\\n",
        "&=E_{\\pi^*(. |s)}[r(s,a)+\\gamma \\max_{a'} Q^{\\pi^*}(s',a')] \n",
        "\\end{align}\n",
        "\n",
        "c) A plausible objective could be based on MSE:\n",
        "\n",
        "\\begin{align} \n",
        "\\mathcal{L}(\\theta) = E_{\\pi^*(. |s)}[\\Vert Q^*(s,a)- Q(s, a; \\theta)\\Vert^2] \n",
        "\\end{align}\n",
        "\n",
        "Using the answer at b), we get \n",
        "\n",
        "\\begin{align} \n",
        "\\mathcal{L}(\\theta) = E_{\\pi^*(. |s)}[\\Vert r(s,a) +\\gamma\\max_{a'}Q(s',a',\\theta)- Q(s, a; \\theta)\\Vert^2] \n",
        "\\end{align}\n"
      ]
    },
    {
      "metadata": {
        "id": "yxhfJNe7-XIc",
        "colab_type": "text"
      },
      "cell_type": "markdown",
      "source": [
        "***\n",
        "The DQN-learning algorithm relies on these derivations to train the parameters $\\theta$ of a Deep Neural Network:\n",
        "\n",
        "1. At the state $s_t$, select the action $a_t$ with best reward using $Q_t$ and store the results;\n",
        "\n",
        "2. Obtain the new state $s_{t+1}$ from the environment $p$;\n",
        "\n",
        "3. Store $(s_t,a_t,s_{t+1})$;\n",
        "\n",
        "4. Obtain $Q_{t+1}$ by minimizing  $\\mathcal{L}$ from a recovered batch from the previously stored results.\n",
        "\n",
        "***\n",
        "__Question 6__ Implement the class ```Memory``` that stores moves (in a replay buffer) via ```remember``` and provides a ```random_access``` to these. Specify a maximum memory size to avoid side effects. You can for example use a ```list()``` and set by default ```max_memory=100```."
      ]
    },
    {
      "metadata": {
        "id": "pS3dZkBT-XIf",
        "colab_type": "code",
        "colab": {}
      },
      "cell_type": "code",
      "source": [
        "import random\n",
        "\n",
        "class Memory(object):\n",
        "    def __init__(self, max_memory=100):\n",
        "        self.max_memory = max_memory\n",
        "        self.memory = list()\n",
        "\n",
        "    def remember(self, m):\n",
        "        if len(self.memory) >= self.max_memory:\n",
        "            self.memory.pop(0)\n",
        "        self.memory.append(m)\n",
        "\n",
        "    def random_access(self):\n",
        "        return random.choice(self.memory)"
      ],
      "execution_count": 0,
      "outputs": []
    },
    {
      "metadata": {
        "id": "ZgWGUab4-XIh",
        "colab_type": "text"
      },
      "cell_type": "markdown",
      "source": [
        "***\n",
        "The pipeline we will use for training is given below:"
      ]
    },
    {
      "metadata": {
        "id": "nSDCbuei-XIi",
        "colab_type": "code",
        "colab": {}
      },
      "cell_type": "code",
      "source": [
        "def train(agent,env,epoch,prefix=''):\n",
        "    # Number of won games\n",
        "    score = 0\n",
        "    loss = 0\n",
        "\n",
        "    for e in range(epoch):\n",
        "        # At each epoch, we restart to a fresh game and get the initial state\n",
        "        state = env.reset()\n",
        "        # This assumes that the games will terminate\n",
        "        game_over = False\n",
        "\n",
        "        win = 0\n",
        "        lose = 0\n",
        "\n",
        "        while not game_over:\n",
        "            # The agent performs an action\n",
        "            action = agent.act(state)\n",
        "\n",
        "            # Apply an action to the environment, get the next state, the reward\n",
        "            # and if the games end\n",
        "            prev_state = state\n",
        "            state, reward, game_over = env.act(action)\n",
        "\n",
        "            # Update the counters\n",
        "            if reward > 0:\n",
        "                win = win + reward\n",
        "            if reward < 0:\n",
        "                lose = lose -reward\n",
        "\n",
        "            # Apply the reinforcement strategy\n",
        "            loss = agent.reinforce(prev_state, state,  action, reward, game_over)\n",
        "\n",
        "        # Save as a mp4\n",
        "        if e % 10 == 0:\n",
        "            env.draw(prefix+str(e))\n",
        "\n",
        "        # Update stats\n",
        "        score += win-lose\n",
        "\n",
        "        print(\"Epoch {:03d}/{:03d} | Loss {:.4f} | Win/lose count {}/{} ({})\"\n",
        "              .format(e, epoch, loss, win, lose, win-lose))\n",
        "        agent.save(name_weights=prefix+'model.h5',name_model=prefix+'model.json')"
      ],
      "execution_count": 0,
      "outputs": []
    },
    {
      "metadata": {
        "id": "_SYFUuaD-XIn",
        "colab_type": "text"
      },
      "cell_type": "markdown",
      "source": [
        "***\n",
        "__Question 7__ Implement the DQN training algorithm using a cascade of fully connected layers. You can use different learning rate, batch size or memory size parameters. In particular, the loss might oscillate while the player will start to win the games. You have to find a good criterium."
      ]
    },
    {
      "metadata": {
        "id": "rw3QGODF-XIn",
        "colab_type": "code",
        "colab": {}
      },
      "cell_type": "code",
      "source": [
        "from keras.models import Sequential\n",
        "from keras.layers import Dense, Flatten\n",
        "\n",
        "class DQN(Agent):\n",
        "    def __init__(self, grid_size,  epsilon = 0.1, memory_size=100, batch_size = 16,n_state=2):\n",
        "        super(DQN, self).__init__(epsilon = epsilon)\n",
        "\n",
        "        # Discount for Q learning\n",
        "        self.discount = 0.99\n",
        "        \n",
        "        self.grid_size = grid_size\n",
        "        \n",
        "        # number of state\n",
        "        self.n_state = n_state\n",
        "\n",
        "        # Memory\n",
        "        self.memory = Memory(memory_size)\n",
        "        \n",
        "        # Batch size when learning\n",
        "        self.batch_size = batch_size\n",
        "\n",
        "    def learned_act(self, s):\n",
        "        return np.argmax(self.model.predict(np.expand_dims(s, axis=0)), axis=1).astype(int)\n",
        "\n",
        "    def reinforce(self, s_, n_s_, a_, r_, game_over_):\n",
        "        # Two steps: first memorize the states, second learn from the pool\n",
        "\n",
        "        self.memory.remember([s_, n_s_, a_, r_, game_over_])\n",
        "        \n",
        "        input_states = np.zeros((self.batch_size, 5,5,self.n_state))\n",
        "        target_q = np.zeros((self.batch_size, 4))\n",
        "        \n",
        "        for i in range(self.batch_size):\n",
        "            # Sample a minibatch from the replay memory\n",
        "            s_, n_s_, a_, r_, game_over_ = self.memory.random_access()\n",
        "            input_states[i] = s_\n",
        "            target_q[i]  = self.model.predict(np.expand_dims(n_s_, axis=0))\n",
        "         \n",
        "            if game_over_:\n",
        "                target_q[i,a_] = r_ \n",
        "            else:\n",
        "                target_q[i,a_] = r_ + self.discount * np.amax(self.model.predict(np.expand_dims(n_s_, axis=0)), axis=1)\n",
        "              \n",
        "\n",
        "        # HINT: Clip the target to avoid exploiding gradients.. -- clipping is a bit tighter\n",
        "        target_q = np.clip(target_q, -3, 3)\n",
        "        \n",
        "        l = self.model.train_on_batch(input_states, target_q)\n",
        "\n",
        "\n",
        "        return l\n",
        "\n",
        "    def save(self,name_weights='model.h5',name_model='model.json'):\n",
        "        self.model.save_weights(name_weights, overwrite=True)\n",
        "        with open(name_model, \"w\") as outfile:\n",
        "            json.dump(self.model.to_json(), outfile)\n",
        "            \n",
        "    def load(self,name_weights='model.h5',name_model='model.json'):\n",
        "        with open(name_model, \"r\") as jfile:\n",
        "            model = model_from_json(json.load(jfile))\n",
        "        model.load_weights(name_weights)\n",
        "        model.compile(\"sgd\", \"mse\")\n",
        "        self.model = model\n",
        "\n",
        "            \n",
        "class DQN_FC(DQN):\n",
        "    def __init__(self, *args, lr=0.1,**kwargs):\n",
        "        super(DQN_FC, self).__init__( *args,**kwargs)\n",
        "        \n",
        "        # NN Model\n",
        "        \n",
        "        model = Sequential()\n",
        "        model.add(Flatten())\n",
        "        model.add(Dense(64, activation='relu', input_dim=5*5*self.n_state))\n",
        "        model.add(Dense(32, activation='relu',))\n",
        "        model.add(Dense(4))\n",
        "        model.compile(sgd(lr=lr, decay=1e-4, momentum=0.0), \"mse\")\n",
        "        self.model = model\n",
        "        "
      ],
      "execution_count": 0,
      "outputs": []
    },
    {
      "metadata": {
        "id": "lseA1BD0-XIq",
        "colab_type": "code",
        "outputId": "e930a916-919b-4d6f-ebb9-82f79d6c7754",
        "colab": {
          "base_uri": "https://localhost:8080/",
          "height": 2032
        }
      },
      "cell_type": "code",
      "source": [
        "env = Environment(grid_size=size, max_time=T, temperature=0.3)\n",
        "agent = DQN_FC(size, lr=.1, epsilon = 0.1, memory_size=2000, batch_size = 32)\n",
        "train(agent, env, epochs_train, prefix='fc_train')\n",
        "HTML(display_videos('fc_train0.mp4'))"
      ],
      "execution_count": 0,
      "outputs": [
        {
          "output_type": "stream",
          "text": [
            "WARNING:tensorflow:From /usr/local/lib/python3.6/dist-packages/tensorflow/python/framework/op_def_library.py:263: colocate_with (from tensorflow.python.framework.ops) is deprecated and will be removed in a future version.\n",
            "Instructions for updating:\n",
            "Colocations handled automatically by placer.\n",
            "WARNING:tensorflow:From /usr/local/lib/python3.6/dist-packages/tensorflow/python/ops/math_ops.py:3066: to_int32 (from tensorflow.python.ops.math_ops) is deprecated and will be removed in a future version.\n",
            "Instructions for updating:\n",
            "Use tf.cast instead.\n",
            "Epoch 000/100 | Loss 0.0134 | Win/lose count 1.5/4.0 (-2.5)\n",
            "Epoch 001/100 | Loss 0.0054 | Win/lose count 1.5/5.0 (-3.5)\n",
            "Epoch 002/100 | Loss 0.0145 | Win/lose count 4.0/6.0 (-2.0)\n",
            "Epoch 003/100 | Loss 0.0231 | Win/lose count 5.5/3.0 (2.5)\n",
            "Epoch 004/100 | Loss 0.0072 | Win/lose count 1.0/2.0 (-1.0)\n",
            "Epoch 005/100 | Loss 0.0031 | Win/lose count 3.0/4.0 (-1.0)\n",
            "Epoch 006/100 | Loss 0.0137 | Win/lose count 6.5/5.0 (1.5)\n",
            "Epoch 007/100 | Loss 0.0168 | Win/lose count 8.5/4.0 (4.5)\n",
            "Epoch 008/100 | Loss 0.0144 | Win/lose count 0.5/3.0 (-2.5)\n",
            "Epoch 009/100 | Loss 0.0134 | Win/lose count 10.0/1.0 (9.0)\n",
            "Epoch 010/100 | Loss 0.0156 | Win/lose count 2.5/1.0 (1.5)\n",
            "Epoch 011/100 | Loss 0.0169 | Win/lose count 3.5/8.0 (-4.5)\n",
            "Epoch 012/100 | Loss 0.0139 | Win/lose count 5.5/6.0 (-0.5)\n",
            "Epoch 013/100 | Loss 0.0137 | Win/lose count 1.5/1.0 (0.5)\n",
            "Epoch 014/100 | Loss 0.0112 | Win/lose count 1.5/0 (1.5)\n",
            "Epoch 015/100 | Loss 0.0208 | Win/lose count 4.0/4.0 (0.0)\n",
            "Epoch 016/100 | Loss 0.0041 | Win/lose count 3.0/2.0 (1.0)\n",
            "Epoch 017/100 | Loss 0.0059 | Win/lose count 4.0/5.0 (-1.0)\n",
            "Epoch 018/100 | Loss 0.0056 | Win/lose count 5.0/5.0 (0.0)\n",
            "Epoch 019/100 | Loss 0.0118 | Win/lose count 5.0/4.0 (1.0)\n",
            "Epoch 020/100 | Loss 0.0077 | Win/lose count 12.0/5.0 (7.0)\n",
            "Epoch 021/100 | Loss 0.0053 | Win/lose count 5.0/2.0 (3.0)\n",
            "Epoch 022/100 | Loss 0.0096 | Win/lose count 4.5/3.0 (1.5)\n",
            "Epoch 023/100 | Loss 0.0040 | Win/lose count 6.0/6.0 (0.0)\n",
            "Epoch 024/100 | Loss 0.0090 | Win/lose count 5.0/4.0 (1.0)\n",
            "Epoch 025/100 | Loss 0.0065 | Win/lose count 2.5/5.0 (-2.5)\n",
            "Epoch 026/100 | Loss 0.0087 | Win/lose count 1.0/7.0 (-6.0)\n",
            "Epoch 027/100 | Loss 0.0066 | Win/lose count 10.0/12.0 (-2.0)\n",
            "Epoch 028/100 | Loss 0.0157 | Win/lose count 5.0/11.0 (-6.0)\n",
            "Epoch 029/100 | Loss 0.0187 | Win/lose count 6.5/13.0 (-6.5)\n",
            "Epoch 030/100 | Loss 0.0117 | Win/lose count 4.0/3.0 (1.0)\n",
            "Epoch 031/100 | Loss 0.0039 | Win/lose count 4.5/2.0 (2.5)\n",
            "Epoch 032/100 | Loss 0.0303 | Win/lose count 3.0/2.0 (1.0)\n",
            "Epoch 033/100 | Loss 0.0115 | Win/lose count 3.5/5.0 (-1.5)\n",
            "Epoch 034/100 | Loss 0.0102 | Win/lose count 5.5/4.0 (1.5)\n",
            "Epoch 035/100 | Loss 0.0193 | Win/lose count 4.0/3.0 (1.0)\n",
            "Epoch 036/100 | Loss 0.0131 | Win/lose count 7.5/3.0 (4.5)\n",
            "Epoch 037/100 | Loss 0.0068 | Win/lose count 7.5/4.0 (3.5)\n",
            "Epoch 038/100 | Loss 0.0494 | Win/lose count 8.5/7.0 (1.5)\n",
            "Epoch 039/100 | Loss 0.0094 | Win/lose count 4.5/1.0 (3.5)\n",
            "Epoch 040/100 | Loss 0.0144 | Win/lose count 9.5/5.0 (4.5)\n",
            "Epoch 041/100 | Loss 0.0022 | Win/lose count 4.5/3.0 (1.5)\n",
            "Epoch 042/100 | Loss 0.0205 | Win/lose count 5.5/2.0 (3.5)\n",
            "Epoch 043/100 | Loss 0.0263 | Win/lose count 7.5/4.0 (3.5)\n",
            "Epoch 044/100 | Loss 0.0161 | Win/lose count 5.5/1.0 (4.5)\n",
            "Epoch 045/100 | Loss 0.0041 | Win/lose count 7.0/5.0 (2.0)\n",
            "Epoch 046/100 | Loss 0.0050 | Win/lose count 4.5/3.0 (1.5)\n",
            "Epoch 047/100 | Loss 0.0586 | Win/lose count 3.0/3.0 (0.0)\n",
            "Epoch 048/100 | Loss 0.0493 | Win/lose count 11.0/8.0 (3.0)\n",
            "Epoch 049/100 | Loss 0.0088 | Win/lose count 9.0/8.0 (1.0)\n",
            "Epoch 050/100 | Loss 0.0057 | Win/lose count 3.5/3.0 (0.5)\n",
            "Epoch 051/100 | Loss 0.0168 | Win/lose count 2.0/4.0 (-2.0)\n",
            "Epoch 052/100 | Loss 0.0069 | Win/lose count 6.0/1.0 (5.0)\n",
            "Epoch 053/100 | Loss 0.0084 | Win/lose count 4.0/5.0 (-1.0)\n",
            "Epoch 054/100 | Loss 0.0043 | Win/lose count 6.0/4.0 (2.0)\n",
            "Epoch 055/100 | Loss 0.0033 | Win/lose count 2.5/2.0 (0.5)\n",
            "Epoch 056/100 | Loss 0.0164 | Win/lose count 4.0/9.0 (-5.0)\n",
            "Epoch 057/100 | Loss 0.0179 | Win/lose count 6.5/3.0 (3.5)\n",
            "Epoch 058/100 | Loss 0.0071 | Win/lose count 6.5/0 (6.5)\n",
            "Epoch 059/100 | Loss 0.0040 | Win/lose count 10.0/4.0 (6.0)\n",
            "Epoch 060/100 | Loss 0.0145 | Win/lose count 9.5/3.0 (6.5)\n",
            "Epoch 061/100 | Loss 0.0052 | Win/lose count 12.0/3.0 (9.0)\n",
            "Epoch 062/100 | Loss 0.0051 | Win/lose count 10.0/7.0 (3.0)\n",
            "Epoch 063/100 | Loss 0.0054 | Win/lose count 10.0/3.0 (7.0)\n",
            "Epoch 064/100 | Loss 0.0097 | Win/lose count 7.0/4.0 (3.0)\n",
            "Epoch 065/100 | Loss 0.0030 | Win/lose count 5.0/4.0 (1.0)\n",
            "Epoch 066/100 | Loss 0.0096 | Win/lose count 6.5/3.0 (3.5)\n",
            "Epoch 067/100 | Loss 0.0135 | Win/lose count 4.0/2.0 (2.0)\n",
            "Epoch 068/100 | Loss 0.0580 | Win/lose count 7.5/2.0 (5.5)\n",
            "Epoch 069/100 | Loss 0.0044 | Win/lose count 7.5/1.0 (6.5)\n",
            "Epoch 070/100 | Loss 0.0056 | Win/lose count 4.0/3.0 (1.0)\n",
            "Epoch 071/100 | Loss 0.0078 | Win/lose count 5.5/1.0 (4.5)\n",
            "Epoch 072/100 | Loss 0.0128 | Win/lose count 8.0/5.0 (3.0)\n",
            "Epoch 073/100 | Loss 0.0552 | Win/lose count 5.0/1.0 (4.0)\n",
            "Epoch 074/100 | Loss 0.0031 | Win/lose count 4.0/3.0 (1.0)\n",
            "Epoch 075/100 | Loss 0.0060 | Win/lose count 0.5/1.0 (-0.5)\n",
            "Epoch 076/100 | Loss 0.0117 | Win/lose count 6.0/3.0 (3.0)\n",
            "Epoch 077/100 | Loss 0.0126 | Win/lose count 5.5/5.0 (0.5)\n",
            "Epoch 078/100 | Loss 0.0016 | Win/lose count 3.0/2.0 (1.0)\n",
            "Epoch 079/100 | Loss 0.0031 | Win/lose count 5.0/4.0 (1.0)\n",
            "Epoch 080/100 | Loss 0.0625 | Win/lose count 5.0/4.0 (1.0)\n",
            "Epoch 081/100 | Loss 0.0116 | Win/lose count 6.5/3.0 (3.5)\n",
            "Epoch 082/100 | Loss 0.0035 | Win/lose count 4.0/6.0 (-2.0)\n",
            "Epoch 083/100 | Loss 0.0075 | Win/lose count 2.0/2.0 (0.0)\n",
            "Epoch 084/100 | Loss 0.0027 | Win/lose count 4.0/2.0 (2.0)\n",
            "Epoch 085/100 | Loss 0.0070 | Win/lose count 2.5/4.0 (-1.5)\n",
            "Epoch 086/100 | Loss 0.0024 | Win/lose count 9.0/5.0 (4.0)\n",
            "Epoch 087/100 | Loss 0.0084 | Win/lose count 7.5/4.0 (3.5)\n",
            "Epoch 088/100 | Loss 0.0659 | Win/lose count 7.0/4.0 (3.0)\n",
            "Epoch 089/100 | Loss 0.0461 | Win/lose count 6.0/3.0 (3.0)\n",
            "Epoch 090/100 | Loss 0.0022 | Win/lose count 11.0/3.0 (8.0)\n",
            "Epoch 091/100 | Loss 0.0016 | Win/lose count 6.5/2.0 (4.5)\n",
            "Epoch 092/100 | Loss 0.0033 | Win/lose count 9.5/4.0 (5.5)\n",
            "Epoch 093/100 | Loss 0.0085 | Win/lose count 7.5/3.0 (4.5)\n",
            "Epoch 094/100 | Loss 0.0611 | Win/lose count 2.5/3.0 (-0.5)\n",
            "Epoch 095/100 | Loss 0.0098 | Win/lose count 10.5/2.0 (8.5)\n",
            "Epoch 096/100 | Loss 0.0124 | Win/lose count 10.5/6.0 (4.5)\n",
            "Epoch 097/100 | Loss 0.0156 | Win/lose count 12.0/4.0 (8.0)\n",
            "Epoch 098/100 | Loss 0.0062 | Win/lose count 8.5/5.0 (3.5)\n",
            "Epoch 099/100 | Loss 0.0026 | Win/lose count 4.5/5.0 (-0.5)\n"
          ],
          "name": "stdout"
        },
        {
          "output_type": "execute_result",
          "data": {
            "text/html": [
              "<video alt=\"test\" controls>\n",
              "                <source src=\"data:video/mp4;base64,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\" type=\"video/mp4\" />\n",
              "             </video>"
            ],
            "text/plain": [
              "<IPython.core.display.HTML object>"
            ]
          },
          "metadata": {
            "tags": []
          },
          "execution_count": 12
        }
      ]
    },
    {
      "metadata": {
        "id": "y5_KuvfH-XIs",
        "colab_type": "text"
      },
      "cell_type": "markdown",
      "source": [
        "***\n",
        "***\n",
        "__Question 8__ Implement the DQN training algorithm using a CNN (for example, 2 convolutional layers and one final fully connected layer)."
      ]
    },
    {
      "metadata": {
        "id": "KcErOQHh-XIt",
        "colab_type": "code",
        "colab": {}
      },
      "cell_type": "code",
      "source": [
        "from keras.layers import Conv2D\n",
        "\n",
        "class DQN_CNN(DQN):\n",
        "    def __init__(self, *args,lr=0.1,**kwargs):\n",
        "        super(DQN_CNN, self).__init__(*args,**kwargs)\n",
        "        \n",
        "        ###### NN Model\n",
        "        model = Sequential()\n",
        "        model.add(Conv2D(32, 2, activation='relu', input_shape=(5,5,self.n_state)))\n",
        "        model.add(Conv2D(32, 2, activation='relu'))\n",
        "        model.add(Flatten())\n",
        "        model.add(Dense(4))\n",
        "        model.compile(sgd(lr=lr, decay=1e-4, momentum=0.0), \"mse\")\n",
        "        self.model = model"
      ],
      "execution_count": 0,
      "outputs": []
    },
    {
      "metadata": {
        "id": "I_5Zs_o_-XIv",
        "colab_type": "code",
        "outputId": "c49f2ecc-5378-4113-830e-4e183441bd15",
        "colab": {
          "base_uri": "https://localhost:8080/",
          "height": 1908
        }
      },
      "cell_type": "code",
      "source": [
        "env = Environment(grid_size=size, max_time=T, temperature=0.3)\n",
        "agent = DQN_CNN(size, lr=.1, epsilon = 0.1, memory_size=2000, batch_size = 32)\n",
        "train(agent,env,epochs_train,prefix='cnn_train')\n",
        "HTML(display_videos('cnn_train0.mp4'))"
      ],
      "execution_count": 0,
      "outputs": [
        {
          "output_type": "stream",
          "text": [
            "Epoch 000/100 | Loss 0.0033 | Win/lose count 1.0/4.0 (-3.0)\n",
            "Epoch 001/100 | Loss 0.0040 | Win/lose count 2.5/3.0 (-0.5)\n",
            "Epoch 002/100 | Loss 0.0066 | Win/lose count 3.0/3.0 (0.0)\n",
            "Epoch 003/100 | Loss 0.0137 | Win/lose count 2.5/7.0 (-4.5)\n",
            "Epoch 004/100 | Loss 0.0025 | Win/lose count 6.5/5.0 (1.5)\n",
            "Epoch 005/100 | Loss 0.0122 | Win/lose count 4.5/5.0 (-0.5)\n",
            "Epoch 006/100 | Loss 0.0175 | Win/lose count 8.5/9.0 (-0.5)\n",
            "Epoch 007/100 | Loss 0.0032 | Win/lose count 16.5/8.0 (8.5)\n",
            "Epoch 008/100 | Loss 0.0078 | Win/lose count 9.0/6.0 (3.0)\n",
            "Epoch 009/100 | Loss 0.0091 | Win/lose count 8.5/4.0 (4.5)\n",
            "Epoch 010/100 | Loss 0.0139 | Win/lose count 9.5/1.0 (8.5)\n",
            "Epoch 011/100 | Loss 0.0092 | Win/lose count 8.5/4.0 (4.5)\n",
            "Epoch 012/100 | Loss 0.0081 | Win/lose count 10.0/1.0 (9.0)\n",
            "Epoch 013/100 | Loss 0.0034 | Win/lose count 7.5/8.0 (-0.5)\n",
            "Epoch 014/100 | Loss 0.0020 | Win/lose count 5.5/3.0 (2.5)\n",
            "Epoch 015/100 | Loss 0.0034 | Win/lose count 12.5/3.0 (9.5)\n",
            "Epoch 016/100 | Loss 0.0098 | Win/lose count 9.0/4.0 (5.0)\n",
            "Epoch 017/100 | Loss 0.0159 | Win/lose count 11.5/9.0 (2.5)\n",
            "Epoch 018/100 | Loss 0.0038 | Win/lose count 15.5/4.0 (11.5)\n",
            "Epoch 019/100 | Loss 0.0175 | Win/lose count 12.0/2.0 (10.0)\n",
            "Epoch 020/100 | Loss 0.0116 | Win/lose count 11.5/7.0 (4.5)\n",
            "Epoch 021/100 | Loss 0.0086 | Win/lose count 11.0/5.0 (6.0)\n",
            "Epoch 022/100 | Loss 0.0078 | Win/lose count 20.5/7.0 (13.5)\n",
            "Epoch 023/100 | Loss 0.0023 | Win/lose count 13.0/3.0 (10.0)\n",
            "Epoch 024/100 | Loss 0.0026 | Win/lose count 11.5/7.0 (4.5)\n",
            "Epoch 025/100 | Loss 0.0083 | Win/lose count 10.5/5.0 (5.5)\n",
            "Epoch 026/100 | Loss 0.0099 | Win/lose count 11.0/7.0 (4.0)\n",
            "Epoch 027/100 | Loss 0.0175 | Win/lose count 5.0/6.0 (-1.0)\n",
            "Epoch 028/100 | Loss 0.0032 | Win/lose count 14.0/4.0 (10.0)\n",
            "Epoch 029/100 | Loss 0.0025 | Win/lose count 16.0/8.0 (8.0)\n",
            "Epoch 030/100 | Loss 0.0034 | Win/lose count 11.5/10.0 (1.5)\n",
            "Epoch 031/100 | Loss 0.0082 | Win/lose count 14.0/7.0 (7.0)\n",
            "Epoch 032/100 | Loss 0.0149 | Win/lose count 9.0/0 (9.0)\n",
            "Epoch 033/100 | Loss 0.0097 | Win/lose count 18.0/5.0 (13.0)\n",
            "Epoch 034/100 | Loss 0.0031 | Win/lose count 17.0/6.0 (11.0)\n",
            "Epoch 035/100 | Loss 0.0084 | Win/lose count 6.0/2.0 (4.0)\n",
            "Epoch 036/100 | Loss 0.0095 | Win/lose count 17.0/4.0 (13.0)\n",
            "Epoch 037/100 | Loss 0.0076 | Win/lose count 9.0/3.0 (6.0)\n",
            "Epoch 038/100 | Loss 0.0029 | Win/lose count 8.0/2.0 (6.0)\n",
            "Epoch 039/100 | Loss 0.0025 | Win/lose count 15.0/2.0 (13.0)\n",
            "Epoch 040/100 | Loss 0.0019 | Win/lose count 16.5/2.0 (14.5)\n",
            "Epoch 041/100 | Loss 0.0180 | Win/lose count 13.0/3.0 (10.0)\n",
            "Epoch 042/100 | Loss 0.0020 | Win/lose count 8.0/5.0 (3.0)\n",
            "Epoch 043/100 | Loss 0.0018 | Win/lose count 9.5/1.0 (8.5)\n",
            "Epoch 044/100 | Loss 0.0019 | Win/lose count 18.0/1.0 (17.0)\n",
            "Epoch 045/100 | Loss 0.0018 | Win/lose count 9.5/3.0 (6.5)\n",
            "Epoch 046/100 | Loss 0.0021 | Win/lose count 11.5/4.0 (7.5)\n",
            "Epoch 047/100 | Loss 0.0026 | Win/lose count 18.5/8.0 (10.5)\n",
            "Epoch 048/100 | Loss 0.0021 | Win/lose count 4.0/4.0 (0.0)\n",
            "Epoch 049/100 | Loss 0.0027 | Win/lose count 15.5/6.0 (9.5)\n",
            "Epoch 050/100 | Loss 0.0096 | Win/lose count 20.5/2.0 (18.5)\n",
            "Epoch 051/100 | Loss 0.0158 | Win/lose count 15.0/3.0 (12.0)\n",
            "Epoch 052/100 | Loss 0.0026 | Win/lose count 12.5/7.0 (5.5)\n",
            "Epoch 053/100 | Loss 0.0557 | Win/lose count 5.0/9.0 (-4.0)\n",
            "Epoch 054/100 | Loss 0.0028 | Win/lose count 6.5/1.0 (5.5)\n",
            "Epoch 055/100 | Loss 0.0080 | Win/lose count 9.5/2.0 (7.5)\n",
            "Epoch 056/100 | Loss 0.0596 | Win/lose count 15.0/8.0 (7.0)\n",
            "Epoch 057/100 | Loss 0.1018 | Win/lose count 17.5/6.0 (11.5)\n",
            "Epoch 058/100 | Loss 0.1113 | Win/lose count 21.5/6.0 (15.5)\n",
            "Epoch 059/100 | Loss 0.0101 | Win/lose count 19.5/5.0 (14.5)\n",
            "Epoch 060/100 | Loss 0.0180 | Win/lose count 14.5/4.0 (10.5)\n",
            "Epoch 061/100 | Loss 0.0050 | Win/lose count 21.5/2.0 (19.5)\n",
            "Epoch 062/100 | Loss 0.0679 | Win/lose count 19.0/6.0 (13.0)\n",
            "Epoch 063/100 | Loss 0.0632 | Win/lose count 11.5/3.0 (8.5)\n",
            "Epoch 064/100 | Loss 0.0095 | Win/lose count 12.5/8.0 (4.5)\n",
            "Epoch 065/100 | Loss 0.0092 | Win/lose count 13.5/5.0 (8.5)\n",
            "Epoch 066/100 | Loss 0.0106 | Win/lose count 6.5/3.0 (3.5)\n",
            "Epoch 067/100 | Loss 0.0026 | Win/lose count 8.5/2.0 (6.5)\n",
            "Epoch 068/100 | Loss 0.0027 | Win/lose count 9.5/2.0 (7.5)\n",
            "Epoch 069/100 | Loss 0.0025 | Win/lose count 18.0/7.0 (11.0)\n",
            "Epoch 070/100 | Loss 0.0079 | Win/lose count 12.5/4.0 (8.5)\n",
            "Epoch 071/100 | Loss 0.0029 | Win/lose count 3.0/3.0 (0.0)\n",
            "Epoch 072/100 | Loss 0.0037 | Win/lose count 8.0/4.0 (4.0)\n",
            "Epoch 073/100 | Loss 0.0046 | Win/lose count 8.5/0 (8.5)\n",
            "Epoch 074/100 | Loss 0.0051 | Win/lose count 16.0/3.0 (13.0)\n",
            "Epoch 075/100 | Loss 0.0550 | Win/lose count 21.5/7.0 (14.5)\n",
            "Epoch 076/100 | Loss 0.0034 | Win/lose count 10.5/4.0 (6.5)\n",
            "Epoch 077/100 | Loss 0.0085 | Win/lose count 14.5/1.0 (13.5)\n",
            "Epoch 078/100 | Loss 0.0085 | Win/lose count 15.0/5.0 (10.0)\n",
            "Epoch 079/100 | Loss 0.0022 | Win/lose count 18.5/3.0 (15.5)\n",
            "Epoch 080/100 | Loss 0.0021 | Win/lose count 12.5/2.0 (10.5)\n",
            "Epoch 081/100 | Loss 0.0171 | Win/lose count 16.5/2.0 (14.5)\n",
            "Epoch 082/100 | Loss 0.0047 | Win/lose count 16.0/4.0 (12.0)\n",
            "Epoch 083/100 | Loss 0.0024 | Win/lose count 17.0/2.0 (15.0)\n",
            "Epoch 084/100 | Loss 0.0016 | Win/lose count 18.0/4.0 (14.0)\n",
            "Epoch 085/100 | Loss 0.0018 | Win/lose count 15.0/3.0 (12.0)\n",
            "Epoch 086/100 | Loss 0.0088 | Win/lose count 6.5/2.0 (4.5)\n",
            "Epoch 087/100 | Loss 0.0096 | Win/lose count 12.0/5.0 (7.0)\n",
            "Epoch 088/100 | Loss 0.0092 | Win/lose count 16.0/5.0 (11.0)\n",
            "Epoch 089/100 | Loss 0.0029 | Win/lose count 15.5/3.0 (12.5)\n",
            "Epoch 090/100 | Loss 0.0023 | Win/lose count 20.5/6.0 (14.5)\n",
            "Epoch 091/100 | Loss 0.0238 | Win/lose count 15.0/5.0 (10.0)\n",
            "Epoch 092/100 | Loss 0.0028 | Win/lose count 8.5/6.0 (2.5)\n",
            "Epoch 093/100 | Loss 0.0669 | Win/lose count 14.5/2.0 (12.5)\n",
            "Epoch 094/100 | Loss 0.0105 | Win/lose count 15.5/5.0 (10.5)\n",
            "Epoch 095/100 | Loss 0.0023 | Win/lose count 15.0/5.0 (10.0)\n",
            "Epoch 096/100 | Loss 0.0082 | Win/lose count 10.5/5.0 (5.5)\n",
            "Epoch 097/100 | Loss 0.0040 | Win/lose count 11.0/3.0 (8.0)\n",
            "Epoch 098/100 | Loss 0.0096 | Win/lose count 13.0/4.0 (9.0)\n",
            "Epoch 099/100 | Loss 0.0102 | Win/lose count 14.5/5.0 (9.5)\n"
          ],
          "name": "stdout"
        },
        {
          "output_type": "execute_result",
          "data": {
            "text/html": [
              "<video alt=\"test\" controls>\n",
              "                <source src=\"data:video/mp4;base64,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\" type=\"video/mp4\" />\n",
              "             </video>"
            ],
            "text/plain": [
              "<IPython.core.display.HTML object>"
            ]
          },
          "metadata": {
            "tags": []
          },
          "execution_count": 14
        }
      ]
    },
    {
      "metadata": {
        "id": "tKFRdHEA-XIy",
        "colab_type": "text"
      },
      "cell_type": "markdown",
      "source": [
        "***\n",
        "***\n",
        "__Question 9__ Test both algorithms and compare their performances. Which issue(s) do you observe? Observe also different behaviors by changing the temperature."
      ]
    },
    {
      "metadata": {
        "id": "CPJ8Jm0O-XIy",
        "colab_type": "code",
        "outputId": "79bf6dc9-f166-4a45-cd61-1fd6ff355cdd",
        "colab": {
          "base_uri": "https://localhost:8080/",
          "height": 434
        }
      },
      "cell_type": "code",
      "source": [
        "env = Environment(grid_size=size, max_time=T,temperature=0.3)\n",
        "agent_cnn = DQN_CNN(size, lr=.1, epsilon = 0.1, memory_size=2000, batch_size = 32)\n",
        "agent_cnn.load(name_weights='cnn_trainmodel.h5',name_model='cnn_trainmodel.json')\n",
        "\n",
        "agent_fc = DQN_FC(size, lr=.1, epsilon = 0.1, memory_size=2000, batch_size = 32)\n",
        "agent_cnn.load(name_weights='fc_trainmodel.h5',name_model='fc_trainmodel.json')\n",
        "print('Test of the CNN')\n",
        "test(agent_cnn,env,epochs_test,prefix='cnn_test')\n",
        "print('Test of the FC')\n",
        "test(agent_fc,env,epochs_test,prefix='fc_test')"
      ],
      "execution_count": 0,
      "outputs": [
        {
          "output_type": "stream",
          "text": [
            "Test of the CNN\n",
            "Win/lose count 1.0/1.0. Average score (0.0)\n",
            "Win/lose count 7.5/2.0. Average score (2.75)\n",
            "Win/lose count 4.0/0. Average score (3.1666666666666665)\n",
            "Win/lose count 5.5/0. Average score (3.75)\n",
            "Win/lose count 2.0/0. Average score (3.4)\n",
            "Win/lose count 2.5/0. Average score (3.25)\n",
            "Win/lose count 1.5/0. Average score (3.0)\n",
            "Win/lose count 1.5/0. Average score (2.8125)\n",
            "Win/lose count 0.5/0. Average score (2.5555555555555554)\n",
            "Win/lose count 0.5/0. Average score (2.35)\n",
            "Final score: 2.35\n",
            "Test of the FC\n",
            "Win/lose count 1.0/7.0. Average score (-6.0)\n",
            "Win/lose count 1.5/0. Average score (-2.25)\n",
            "Win/lose count 0/2.0. Average score (-2.1666666666666665)\n",
            "Win/lose count 0/1.0. Average score (-1.875)\n",
            "Win/lose count 0.5/0. Average score (-1.4)\n",
            "Win/lose count 2.0/1.0. Average score (-1.0)\n",
            "Win/lose count 0/2.0. Average score (-1.1428571428571428)\n",
            "Win/lose count 0/0. Average score (-1.0)\n",
            "Win/lose count 1.5/2.0. Average score (-0.9444444444444444)\n",
            "Win/lose count 1.0/0. Average score (-0.75)\n",
            "Final score: -0.75\n"
          ],
          "name": "stdout"
        }
      ]
    },
    {
      "metadata": {
        "id": "OgudbyxI-XI4",
        "colab_type": "code",
        "outputId": "f6721db0-9f4e-4871-acdd-06a29eb45fcb",
        "colab": {
          "base_uri": "https://localhost:8080/",
          "height": 293
        }
      },
      "cell_type": "code",
      "source": [
        "HTML(display_videos('cnn_test0.mp4'))"
      ],
      "execution_count": 0,
      "outputs": [
        {
          "output_type": "execute_result",
          "data": {
            "text/html": [
              "<video alt=\"test\" controls>\n",
              "                <source src=\"data:video/mp4;base64,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\" type=\"video/mp4\" />\n",
              "             </video>"
            ],
            "text/plain": [
              "<IPython.core.display.HTML object>"
            ]
          },
          "metadata": {
            "tags": []
          },
          "execution_count": 16
        }
      ]
    },
    {
      "metadata": {
        "id": "d6WLe6sf-XI6",
        "colab_type": "code",
        "outputId": "5e84b086-f819-45b1-daa5-889c11cb9042",
        "colab": {
          "base_uri": "https://localhost:8080/",
          "height": 293
        }
      },
      "cell_type": "code",
      "source": [
        "HTML(display_videos('fc_test0.mp4'))"
      ],
      "execution_count": 0,
      "outputs": [
        {
          "output_type": "execute_result",
          "data": {
            "text/html": [
              "<video alt=\"test\" controls>\n",
              "                <source src=\"data:video/mp4;base64,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\" type=\"video/mp4\" />\n",
              "             </video>"
            ],
            "text/plain": [
              "<IPython.core.display.HTML object>"
            ]
          },
          "metadata": {
            "tags": []
          },
          "execution_count": 17
        }
      ]
    },
    {
      "metadata": {
        "id": "dwzBQgxl-XI-",
        "colab_type": "text"
      },
      "cell_type": "markdown",
      "source": [
        "\n",
        "The temperature increases the density of reward pixel and therefore improves perfomance of the model (less sparse reward). However, we note that the rat doesn't explore the game and tends to oscillate inside a square."
      ]
    },
    {
      "metadata": {
        "id": "6HRt-cAv-XI-",
        "colab_type": "text"
      },
      "cell_type": "markdown",
      "source": [
        "***\n",
        "\n",
        "The algorithm tends to not explore the map which can be an issue. We propose two ideas in order to encourage exploration:\n",
        "1. Incorporating a decreasing $\\epsilon$-greedy exploration. You can use the method ```set_epsilon```\n",
        "2. Append via the environment a new state that describes if a cell has been visited or not\n",
        "\n",
        "***\n",
        "__Question 10__ Design a new ```train_explore``` function and environment class ```EnvironmentExploring``` to tackle the issue of exploration.\n",
        "\n"
      ]
    },
    {
      "metadata": {
        "id": "ouVCv9jD-XI_",
        "colab_type": "code",
        "colab": {}
      },
      "cell_type": "code",
      "source": [
        "def train_explore(agent,env,epoch,prefix=''):\n",
        "    # Number of won games\n",
        "    score = 0\n",
        "    loss = 0\n",
        "    epsilon_start = 1.0\n",
        "    epsilon_end = 0.1\n",
        "    \n",
        "    # The epsilon decay schedule\n",
        "    epsilons = np.linspace(epsilon_start, epsilon_end, epoch)\n",
        "\n",
        "    for e in range(epoch):\n",
        "        # At each epoch, we restart to a fresh game and get the initial state\n",
        "        state = env.reset()\n",
        "        # This assumes that the games will terminate\n",
        "        game_over = False\n",
        "        \n",
        "        agent.set_epsilon(epsilons[e])\n",
        "        \n",
        "        win = 0\n",
        "        lose = 0\n",
        "\n",
        "        while not game_over:\n",
        "            # The agent performs an action\n",
        "            action = agent.act(state)\n",
        "\n",
        "            # Apply an action to the environment, get the next state, the reward\n",
        "            # and if the games end\n",
        "            prev_state = state\n",
        "            state, reward, game_over = env.act(action, train=True)\n",
        "\n",
        "            # Update the counters\n",
        "            if reward > 0:\n",
        "                win = win + reward\n",
        "            if reward < 0:\n",
        "                lose = lose -reward\n",
        "\n",
        "            # Apply the reinforcement strategy\n",
        "            loss = agent.reinforce(prev_state, state,  action, reward, game_over)\n",
        "\n",
        "        # Save as a mp4\n",
        "        if e % 10 == 0:\n",
        "            env.draw(prefix+str(e))\n",
        "\n",
        "        # Update stats\n",
        "        score += win-lose\n",
        "\n",
        "        print(\"Epoch {:03d}/{:03d} | Loss {:.4f} | Win/lose count {}/{} ({})\"\n",
        "              .format(e, epoch, loss, win, lose, win-lose))\n",
        "        agent.save(name_weights=prefix+'model.h5',name_model=prefix+'model.json')\n",
        "        \n",
        "class EnvironmentExploring(object):\n",
        "    def __init__(self, grid_size=10, max_time=500, temperature=0.1):\n",
        "        grid_size = grid_size+4\n",
        "        self.grid_size = grid_size\n",
        "        self.max_time = max_time\n",
        "        self.temperature = temperature\n",
        "\n",
        "        #board on which one plays\n",
        "        self.board = np.zeros((grid_size,grid_size))\n",
        "        self.position = np.zeros((grid_size,grid_size))\n",
        "        \n",
        "        #NEW\n",
        "        self.malus_position = np.zeros((grid_size,grid_size))\n",
        "\n",
        "        # coordinate of the cat\n",
        "        self.x = 0\n",
        "        self.y = 1\n",
        "\n",
        "        # self time\n",
        "        self.t = 0\n",
        "\n",
        "        self.scale=16\n",
        "\n",
        "        self.to_draw = np.zeros((max_time+2, grid_size*self.scale, grid_size*self.scale, 3))\n",
        "\n",
        "\n",
        "    def draw(self,e):\n",
        "        skvideo.io.vwrite(str(e) + '.mp4', self.to_draw)\n",
        "\n",
        "    def get_frame(self,t):\n",
        "        b = np.zeros((self.grid_size,self.grid_size,3))+128\n",
        "        b[self.board>0,0] = 256\n",
        "        b[self.board < 0, 2] = 256\n",
        "        b[self.x,self.y,:]=256\n",
        "        b[-2:,:,:]=0\n",
        "        b[:,-2:,:]=0\n",
        "        b[:2,:,:]=0\n",
        "        b[:,:2,:]=0\n",
        "        \n",
        "        b =  cv2.resize(b, None, fx=self.scale, fy=self.scale, interpolation=cv2.INTER_NEAREST)\n",
        "\n",
        "        self.to_draw[t,:,:,:]=b\n",
        "\n",
        "\n",
        "    def act(self, action, train=False):\n",
        "        \"\"\"This function returns the new state, reward and decides if the\n",
        "        game ends.\"\"\"\n",
        "\n",
        "        self.get_frame(int(self.t))\n",
        "\n",
        "        self.position = np.zeros((self.grid_size, self.grid_size))\n",
        "\n",
        "        self.position[0:2,:]= -1\n",
        "        self.position[:,0:2] = -1\n",
        "        self.position[-2:, :] = -1\n",
        "        self.position[:, -2:] = -1\n",
        "\n",
        "        self.position[self.x, self.y] = 1\n",
        "        if action == 0:\n",
        "            if self.x == self.grid_size-3:\n",
        "                self.x = self.x-1\n",
        "            else:\n",
        "                self.x = self.x + 1\n",
        "        elif action == 1:\n",
        "            if self.x == 2:\n",
        "                self.x = self.x+1\n",
        "            else:\n",
        "                self.x = self.x-1\n",
        "        elif action == 2:\n",
        "            if self.y == self.grid_size - 3:\n",
        "                self.y = self.y - 1\n",
        "            else:\n",
        "                self.y = self.y + 1\n",
        "        elif action == 3:\n",
        "            if self.y == 2:\n",
        "                self.y = self.y + 1\n",
        "            else:\n",
        "                self.y = self.y - 1\n",
        "        else:\n",
        "            RuntimeError('Error: action not recognized')\n",
        "\n",
        "        self.t = self.t + 1\n",
        "        \n",
        "        #new\n",
        "        reward = 0\n",
        "        if train:\n",
        "            reward = -self.malus_position[self.x, self.y]\n",
        "        self.malus_position[self.x, self.y] += 0.1\n",
        "        reward = reward + self.board[self.x, self.y]   \n",
        "        \n",
        "        \n",
        "        self.board[self.x, self.y] = 0\n",
        "        game_over = self.t > self.max_time \n",
        "        state = np.concatenate((self.malus_position.reshape(self.grid_size, self.grid_size,1),\n",
        "                                self.board.reshape(self.grid_size, self.grid_size,1),\n",
        "                                self.position.reshape(self.grid_size, self.grid_size,1)),axis=2)\n",
        "        state = state[self.x-2:self.x+3,self.y-2:self.y+3,:]\n",
        "\n",
        "        return state, reward, game_over\n",
        "\n",
        "    def reset(self):\n",
        "        \"\"\"This function resets the game and returns the initial state\"\"\"\n",
        "\n",
        "        self.x = np.random.randint(3, self.grid_size-3, size=1)[0]\n",
        "        self.y = np.random.randint(3, self.grid_size-3, size=1)[0]\n",
        "\n",
        "        \n",
        "        bonus = 0.5*np.random.binomial(1,self.temperature,size=self.grid_size**2)\n",
        "        bonus = bonus.reshape(self.grid_size,self.grid_size)\n",
        "\n",
        "        malus = -1.0*np.random.binomial(1,self.temperature,size=self.grid_size**2)\n",
        "        malus = malus.reshape(self.grid_size, self.grid_size)\n",
        "\n",
        "        self.to_draw = np.zeros((self.max_time+2, self.grid_size*self.scale, self.grid_size*self.scale, 3))\n",
        "\n",
        "\n",
        "        malus[bonus>0]=0 \n",
        "        \n",
        "        self.board = bonus + malus \n",
        "        \n",
        "        self.board[:2,:] = 0\n",
        "        self.board[-2:,:] = 0\n",
        "        self.board[:, :2] = 0\n",
        "        self.board[:, -2:] = 0\n",
        "\n",
        "        self.position = np.zeros((self.grid_size, self.grid_size))\n",
        "        self.position[0:2,:]= -1\n",
        "        self.position[:,0:2] = -1\n",
        "        self.position[-2:, :] = -1 # error, 2 times same line\n",
        "        self.position[:, -2:] = -1\n",
        "        self.board[self.x,self.y] = 0\n",
        "        self.t = 0\n",
        "        \n",
        "        self.malus_position = np.zeros((self.grid_size, self.grid_size))\n",
        "\n",
        "        state = np.concatenate((self.malus_position.reshape(self.grid_size, self.grid_size,1),\n",
        "                                self.board.reshape(self.grid_size, self.grid_size,1),\n",
        "                                self.position.reshape(self.grid_size, self.grid_size,1)),axis=2)\n",
        "\n",
        "        state = state[self.x - 2:self.x + 3, self.y - 2:self.y + 3, :]\n",
        "        return state\n"
      ],
      "execution_count": 0,
      "outputs": []
    },
    {
      "metadata": {
        "id": "qOiD1GAa-XJB",
        "colab_type": "code",
        "outputId": "9b646235-b98d-4b11-953f-f86397da387e",
        "colab": {
          "base_uri": "https://localhost:8080/",
          "height": 1908
        }
      },
      "cell_type": "code",
      "source": [
        "# Training\n",
        "env = EnvironmentExploring(grid_size=size, max_time=T, temperature=0.3)\n",
        "agent = DQN_CNN(size, lr=.1, epsilon = 0.1, memory_size=2000, batch_size = 32,n_state=3)\n",
        "train_explore(agent, env, epochs_train, prefix='cnn_train_explore')\n",
        "HTML(display_videos('cnn_train_explore0.mp4'))"
      ],
      "execution_count": 0,
      "outputs": [
        {
          "output_type": "stream",
          "text": [
            "Epoch 000/100 | Loss 0.0231 | Win/lose count 7.0/54.40000000000002 (-47.40000000000002)\n",
            "Epoch 001/100 | Loss 0.0266 | Win/lose count 13.5/40.90000000000002 (-27.40000000000002)\n",
            "Epoch 002/100 | Loss 0.0187 | Win/lose count 8.5/57.700000000000045 (-49.200000000000045)\n",
            "Epoch 003/100 | Loss 0.0415 | Win/lose count 10.5/46.70000000000001 (-36.20000000000001)\n",
            "Epoch 004/100 | Loss 0.0179 | Win/lose count 9.5/60.800000000000004 (-51.300000000000004)\n",
            "Epoch 005/100 | Loss 0.0177 | Win/lose count 9.5/43.900000000000006 (-34.400000000000006)\n",
            "Epoch 006/100 | Loss 0.0166 | Win/lose count 7.0/45.80000000000004 (-38.80000000000004)\n",
            "Epoch 007/100 | Loss 0.0240 | Win/lose count 8.0/61.50000000000005 (-53.50000000000005)\n",
            "Epoch 008/100 | Loss 0.0175 | Win/lose count 5.0/54.400000000000006 (-49.400000000000006)\n",
            "Epoch 009/100 | Loss 0.0256 | Win/lose count 11.5/45.40000000000003 (-33.90000000000003)\n",
            "Epoch 010/100 | Loss 0.0146 | Win/lose count 7.5/54.80000000000002 (-47.30000000000002)\n",
            "Epoch 011/100 | Loss 0.0610 | Win/lose count 16.0/38.90000000000004 (-22.90000000000004)\n",
            "Epoch 012/100 | Loss 0.0214 | Win/lose count 14.0/42.90000000000002 (-28.90000000000002)\n",
            "Epoch 013/100 | Loss 0.0160 | Win/lose count 13.5/42.30000000000003 (-28.800000000000033)\n",
            "Epoch 014/100 | Loss 0.0199 | Win/lose count 15.0/50.10000000000004 (-35.10000000000004)\n",
            "Epoch 015/100 | Loss 0.0709 | Win/lose count 11.5/52.600000000000044 (-41.100000000000044)\n",
            "Epoch 016/100 | Loss 0.0255 | Win/lose count 13.5/35.900000000000055 (-22.400000000000055)\n",
            "Epoch 017/100 | Loss 0.0157 | Win/lose count 12.0/39.2 (-27.200000000000003)\n",
            "Epoch 018/100 | Loss 0.0564 | Win/lose count 14.5/33.00000000000002 (-18.50000000000002)\n",
            "Epoch 019/100 | Loss 0.0594 | Win/lose count 7.0/45.30000000000003 (-38.30000000000003)\n",
            "Epoch 020/100 | Loss 0.0286 | Win/lose count 16.0/39.500000000000036 (-23.500000000000036)\n",
            "Epoch 021/100 | Loss 0.0349 | Win/lose count 11.5/40.40000000000001 (-28.900000000000013)\n",
            "Epoch 022/100 | Loss 0.0707 | Win/lose count 15.5/33.2 (-17.700000000000003)\n",
            "Epoch 023/100 | Loss 0.0348 | Win/lose count 11.0/39.8 (-28.799999999999997)\n",
            "Epoch 024/100 | Loss 0.0381 | Win/lose count 15.5/36.80000000000002 (-21.30000000000002)\n",
            "Epoch 025/100 | Loss 0.0349 | Win/lose count 18.5/34.50000000000005 (-16.00000000000005)\n",
            "Epoch 026/100 | Loss 0.0493 | Win/lose count 7.5/47.00000000000005 (-39.50000000000005)\n",
            "Epoch 027/100 | Loss 0.0371 | Win/lose count 14.5/40.4 (-25.9)\n",
            "Epoch 028/100 | Loss 0.0445 | Win/lose count 16.0/37.60000000000006 (-21.60000000000006)\n",
            "Epoch 029/100 | Loss 0.0419 | Win/lose count 17.5/33.5 (-16.0)\n",
            "Epoch 030/100 | Loss 0.0422 | Win/lose count 11.5/57.00000000000003 (-45.50000000000003)\n",
            "Epoch 031/100 | Loss 0.0590 | Win/lose count 19.0/35.500000000000014 (-16.500000000000014)\n",
            "Epoch 032/100 | Loss 0.0510 | Win/lose count 18.5/31.100000000000023 (-12.600000000000023)\n",
            "Epoch 033/100 | Loss 0.0557 | Win/lose count 15.0/38.60000000000004 (-23.600000000000037)\n",
            "Epoch 034/100 | Loss 0.0404 | Win/lose count 11.5/41.9 (-30.4)\n",
            "Epoch 035/100 | Loss 0.0536 | Win/lose count 12.5/33.100000000000016 (-20.600000000000016)\n",
            "Epoch 036/100 | Loss 0.0630 | Win/lose count 16.0/34.30000000000002 (-18.30000000000002)\n",
            "Epoch 037/100 | Loss 0.0497 | Win/lose count 16.0/31.400000000000016 (-15.400000000000016)\n",
            "Epoch 038/100 | Loss 0.0540 | Win/lose count 18.5/31.800000000000033 (-13.300000000000033)\n",
            "Epoch 039/100 | Loss 0.0493 | Win/lose count 12.0/39.50000000000001 (-27.500000000000007)\n",
            "Epoch 040/100 | Loss 0.0485 | Win/lose count 20.0/33.200000000000045 (-13.200000000000045)\n",
            "Epoch 041/100 | Loss 0.0376 | Win/lose count 18.0/31.600000000000016 (-13.600000000000016)\n",
            "Epoch 042/100 | Loss 0.0506 | Win/lose count 21.0/33.80000000000003 (-12.800000000000033)\n",
            "Epoch 043/100 | Loss 0.0701 | Win/lose count 16.5/36.40000000000004 (-19.90000000000004)\n",
            "Epoch 044/100 | Loss 0.0462 | Win/lose count 23.0/27.00000000000001 (-4.000000000000011)\n",
            "Epoch 045/100 | Loss 0.0529 | Win/lose count 14.0/37.70000000000002 (-23.700000000000017)\n",
            "Epoch 046/100 | Loss 0.0534 | Win/lose count 20.5/36.70000000000002 (-16.200000000000017)\n",
            "Epoch 047/100 | Loss 0.0469 | Win/lose count 21.5/24.200000000000024 (-2.700000000000024)\n",
            "Epoch 048/100 | Loss 0.0420 | Win/lose count 16.0/38.500000000000014 (-22.500000000000014)\n",
            "Epoch 049/100 | Loss 0.0639 | Win/lose count 19.0/25.20000000000002 (-6.200000000000021)\n",
            "Epoch 050/100 | Loss 0.0363 | Win/lose count 19.5/35.59999999999999 (-16.099999999999987)\n",
            "Epoch 051/100 | Loss 0.0412 | Win/lose count 16.0/24.60000000000002 (-8.60000000000002)\n",
            "Epoch 052/100 | Loss 0.0578 | Win/lose count 25.0/24.30000000000001 (0.6999999999999886)\n",
            "Epoch 053/100 | Loss 0.0558 | Win/lose count 18.5/33.20000000000001 (-14.70000000000001)\n",
            "Epoch 054/100 | Loss 0.0876 | Win/lose count 19.5/24.099999999999994 (-4.599999999999994)\n",
            "Epoch 055/100 | Loss 0.0605 | Win/lose count 10.0/43.90000000000002 (-33.90000000000002)\n",
            "Epoch 056/100 | Loss 0.0735 | Win/lose count 14.0/36.700000000000024 (-22.700000000000024)\n",
            "Epoch 057/100 | Loss 0.0545 | Win/lose count 21.0/23.600000000000005 (-2.600000000000005)\n",
            "Epoch 058/100 | Loss 0.1031 | Win/lose count 22.0/23.000000000000004 (-1.0000000000000036)\n",
            "Epoch 059/100 | Loss 0.0706 | Win/lose count 24.0/22.000000000000004 (1.9999999999999964)\n",
            "Epoch 060/100 | Loss 0.0922 | Win/lose count 20.0/31.300000000000026 (-11.300000000000026)\n",
            "Epoch 061/100 | Loss 0.0594 | Win/lose count 19.0/30.600000000000033 (-11.600000000000033)\n",
            "Epoch 062/100 | Loss 0.0475 | Win/lose count 17.5/28.900000000000002 (-11.400000000000002)\n",
            "Epoch 063/100 | Loss 0.0581 | Win/lose count 19.0/32.100000000000016 (-13.100000000000016)\n",
            "Epoch 064/100 | Loss 0.0558 | Win/lose count 18.5/26.700000000000017 (-8.200000000000017)\n",
            "Epoch 065/100 | Loss 0.0419 | Win/lose count 18.0/31.400000000000034 (-13.400000000000034)\n",
            "Epoch 066/100 | Loss 0.0805 | Win/lose count 17.0/24.699999999999992 (-7.699999999999992)\n",
            "Epoch 067/100 | Loss 0.0853 | Win/lose count 22.5/23.099999999999994 (-0.5999999999999943)\n",
            "Epoch 068/100 | Loss 0.0817 | Win/lose count 31.0/24.1 (6.899999999999999)\n",
            "Epoch 069/100 | Loss 0.0743 | Win/lose count 19.0/26.999999999999986 (-7.999999999999986)\n",
            "Epoch 070/100 | Loss 0.0358 | Win/lose count 15.5/31.999999999999993 (-16.499999999999993)\n",
            "Epoch 071/100 | Loss 0.0491 | Win/lose count 20.5/27.0 (-6.5)\n",
            "Epoch 072/100 | Loss 0.0781 | Win/lose count 26.5/16.69999999999998 (9.800000000000018)\n",
            "Epoch 073/100 | Loss 0.0538 | Win/lose count 21.5/29.200000000000003 (-7.700000000000003)\n",
            "Epoch 074/100 | Loss 0.0796 | Win/lose count 19.0/26.299999999999997 (-7.299999999999997)\n",
            "Epoch 075/100 | Loss 0.0433 | Win/lose count 16.5/26.80000000000002 (-10.300000000000018)\n",
            "Epoch 076/100 | Loss 0.0482 | Win/lose count 20.0/30.600000000000026 (-10.600000000000026)\n",
            "Epoch 077/100 | Loss 0.0530 | Win/lose count 24.0/26.500000000000036 (-2.5000000000000355)\n",
            "Epoch 078/100 | Loss 0.0919 | Win/lose count 21.0/30.19999999999999 (-9.199999999999989)\n",
            "Epoch 079/100 | Loss 0.0333 | Win/lose count 18.5/24.699999999999985 (-6.199999999999985)\n",
            "Epoch 080/100 | Loss 0.0413 | Win/lose count 22.5/16.699999999999978 (5.800000000000022)\n",
            "Epoch 081/100 | Loss 0.0667 | Win/lose count 22.0/28.900000000000023 (-6.9000000000000234)\n",
            "Epoch 082/100 | Loss 0.0659 | Win/lose count 22.0/26.799999999999997 (-4.799999999999997)\n",
            "Epoch 083/100 | Loss 0.0532 | Win/lose count 25.5/23.20000000000001 (2.29999999999999)\n",
            "Epoch 084/100 | Loss 0.0969 | Win/lose count 23.5/25.10000000000001 (-1.6000000000000085)\n",
            "Epoch 085/100 | Loss 0.0818 | Win/lose count 28.5/23.60000000000002 (4.899999999999981)\n",
            "Epoch 086/100 | Loss 0.0598 | Win/lose count 22.0/21.49999999999999 (0.5000000000000107)\n",
            "Epoch 087/100 | Loss 0.0447 | Win/lose count 21.0/20.499999999999996 (0.5000000000000036)\n",
            "Epoch 088/100 | Loss 0.0571 | Win/lose count 22.0/28.20000000000001 (-6.20000000000001)\n",
            "Epoch 089/100 | Loss 0.0520 | Win/lose count 29.5/16.299999999999986 (13.200000000000014)\n",
            "Epoch 090/100 | Loss 0.0703 | Win/lose count 21.5/24.600000000000016 (-3.1000000000000156)\n",
            "Epoch 091/100 | Loss 0.0602 | Win/lose count 27.5/20.600000000000005 (6.899999999999995)\n",
            "Epoch 092/100 | Loss 0.0827 | Win/lose count 28.5/26.200000000000014 (2.2999999999999865)\n",
            "Epoch 093/100 | Loss 0.0821 | Win/lose count 18.5/29.300000000000008 (-10.800000000000008)\n",
            "Epoch 094/100 | Loss 0.0479 | Win/lose count 18.0/21.20000000000002 (-3.2000000000000206)\n",
            "Epoch 095/100 | Loss 0.0442 | Win/lose count 24.0/27.700000000000003 (-3.700000000000003)\n",
            "Epoch 096/100 | Loss 0.0638 | Win/lose count 23.0/22.800000000000004 (0.19999999999999574)\n",
            "Epoch 097/100 | Loss 0.0679 | Win/lose count 20.5/19.300000000000004 (1.1999999999999957)\n",
            "Epoch 098/100 | Loss 0.0803 | Win/lose count 20.5/22.8 (-2.3000000000000007)\n",
            "Epoch 099/100 | Loss 0.0666 | Win/lose count 22.5/29.600000000000026 (-7.100000000000026)\n"
          ],
          "name": "stdout"
        },
        {
          "output_type": "execute_result",
          "data": {
            "text/html": [
              "<video alt=\"test\" controls>\n",
              "                <source src=\"data:video/mp4;base64,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\" type=\"video/mp4\" />\n",
              "             </video>"
            ],
            "text/plain": [
              "<IPython.core.display.HTML object>"
            ]
          },
          "metadata": {
            "tags": []
          },
          "execution_count": 19
        }
      ]
    },
    {
      "metadata": {
        "id": "TvCXlEs--XJD",
        "colab_type": "code",
        "outputId": "a06e9040-b44d-40c9-d641-178a399c1441",
        "colab": {
          "base_uri": "https://localhost:8080/",
          "height": 362
        }
      },
      "cell_type": "code",
      "source": [
        "# Evaluation\n",
        "test(agent,env,epochs_test,prefix='cnn_test_explore')\n",
        "HTML(display_videos('cnn_test_explore0.mp4'))"
      ],
      "execution_count": 0,
      "outputs": [
        {
          "output_type": "stream",
          "text": [
            "Win/lose count 22.5/9.0. Average score (13.5)\n",
            "Win/lose count 26.0/10.0. Average score (14.75)\n",
            "Win/lose count 22.5/6.0. Average score (15.333333333333334)\n",
            "Win/lose count 21.0/8.0. Average score (14.75)\n",
            "Win/lose count 17.5/11.0. Average score (13.1)\n",
            "Win/lose count 16.0/8.0. Average score (12.25)\n",
            "Win/lose count 12.0/6.0. Average score (11.357142857142858)\n",
            "Win/lose count 21.0/10.0. Average score (11.3125)\n",
            "Win/lose count 14.5/9.0. Average score (10.666666666666666)\n",
            "Win/lose count 19.0/5.0. Average score (11.0)\n",
            "Final score: 11.0\n"
          ],
          "name": "stdout"
        },
        {
          "output_type": "execute_result",
          "data": {
            "text/html": [
              "<video alt=\"test\" controls>\n",
              "                <source src=\"data:video/mp4;base64,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\" type=\"video/mp4\" />\n",
              "             </video>"
            ],
            "text/plain": [
              "<IPython.core.display.HTML object>"
            ]
          },
          "metadata": {
            "tags": []
          },
          "execution_count": 20
        }
      ]
    },
    {
      "metadata": {
        "id": "ro47_94Z-XJG",
        "colab_type": "text"
      },
      "cell_type": "markdown",
      "source": [
        "***\n",
        "***\n",
        "__BONUS question__ Use the expert DQN from the previous question to generate some winning games. Train a model that mimicks its behavior. Compare the performances."
      ]
    },
    {
      "metadata": {
        "id": "rwWT07Km-XJG",
        "colab_type": "text"
      },
      "cell_type": "markdown",
      "source": [
        ""
      ]
    },
    {
      "metadata": {
        "id": "4o8yhrfU-XJH",
        "colab_type": "text"
      },
      "cell_type": "markdown",
      "source": [
        "***"
      ]
    },
    {
      "metadata": {
        "id": "qFnORhYvUnxS",
        "colab_type": "code",
        "colab": {}
      },
      "cell_type": "code",
      "source": [
        "class Classifier(DQN):\n",
        "    def __init__(self, *args,lr=0.1,**kwargs):\n",
        "        super(Classifier, self).__init__(*args,**kwargs)\n",
        "        \n",
        "        model = Sequential()\n",
        "        model.add(Conv2D(50,2,input_shape=(5,5,self.n_state,),activation='relu'))\n",
        "        model.add(Flatten())\n",
        "        model.add(Dense(4))\n",
        "        model.compile(sgd(lr=lr, decay=1e-4, momentum=0.0), \"mse\")\n",
        "        self.model = model\n",
        "        \n",
        "    def learn(self, s_, a_):\n",
        "\n",
        "        input_states = np.zeros((1, 5,5,self.n_state))\n",
        "        target_q = np.zeros((1, 4))\n",
        "        \n",
        "        target_q[0, a_] = 1\n",
        "        input_states[0] = s_\n",
        "            \n",
        "\n",
        "        l = self.model.train_on_batch(input_states, target_q)\n",
        "\n",
        "        return l\n",
        "\n",
        "def train_behavior(agent_ref, classifier,env,epoch,epsilon=0.1, decay=0.99, prefix=''):\n",
        "    # Number of won games\n",
        "    score = 0\n",
        "    loss = 0\n",
        "\n",
        "    for e in range(epoch):\n",
        "        # At each epoch, we restart to a fresh game and get the initial state\n",
        "        state = env.reset()\n",
        "        # This assumes that the games will terminate\n",
        "        game_over = False\n",
        "\n",
        "        win = 0\n",
        "        lose = 0\n",
        "\n",
        "        while not game_over:\n",
        "            # The agent performs an action\n",
        "            action = agent_ref.act(state, train=False)\n",
        "\n",
        "            \n",
        "            # Apply an action to the environment, get the next state, the reward\n",
        "            # and if the games end\n",
        "            prev_state = state\n",
        "            state, reward, game_over = env.act(action, train=True)\n",
        "\n",
        "            # Update the counters\n",
        "            if reward > 0:\n",
        "                win = win + reward\n",
        "            if reward < 0:\n",
        "                lose = lose -reward\n",
        "                \n",
        "            # Learn classifier\n",
        "            loss = classifier.learn(prev_state,  action)\n",
        "\n",
        "        # Save as a mp4\n",
        "        if e % 10 == 0:\n",
        "            env.draw(prefix+str(e))\n",
        "\n",
        "        # Update stats\n",
        "        score += win-lose\n",
        "\n",
        "        print(\"Epoch {:03d}/{:03d} | Loss {:.4f} | Win/lose count {}/{} ({})\"\n",
        "              .format(e, epoch, loss, win, lose, win-lose))\n",
        "        agent.save(name_weights=prefix+'model.h5',name_model=prefix+'model.json')"
      ],
      "execution_count": 0,
      "outputs": []
    },
    {
      "metadata": {
        "id": "mz9UyaKsd68s",
        "colab_type": "code",
        "outputId": "2d09c093-2384-458f-9b0c-eb9cf3e473d3",
        "colab": {
          "base_uri": "https://localhost:8080/",
          "height": 555
        }
      },
      "cell_type": "code",
      "source": [
        "classifier = Classifier(size, lr=.1, epsilon = 0.1, memory_size=2000, batch_size = 32,n_state=3)\n",
        "env = EnvironmentExploring(grid_size=size, max_time=T, temperature=0.3)\n",
        "train_behavior(agent, classifier, env, 20, prefix='cnn_train_behavior_clone')\n",
        "\n",
        "# Evaluation\n",
        "test(classifier,env,epochs_test,prefix='cnn_test_behavior_clone')"
      ],
      "execution_count": 0,
      "outputs": [
        {
          "output_type": "stream",
          "text": [
            "Epoch 000/020 | Loss 0.0019 | Win/lose count 26.5/25.499999999999996 (1.0000000000000036)\n",
            "Epoch 001/020 | Loss 0.0002 | Win/lose count 20.0/79.1 (-59.099999999999994)\n",
            "Epoch 002/020 | Loss 0.1542 | Win/lose count 29.0/15.599999999999978 (13.400000000000022)\n",
            "Epoch 003/020 | Loss 0.2039 | Win/lose count 21.5/28.50000000000005 (-7.00000000000005)\n",
            "Epoch 004/020 | Loss 0.0001 | Win/lose count 17.5/117.4 (-99.9)\n",
            "Epoch 005/020 | Loss 0.1138 | Win/lose count 13.5/41.600000000000016 (-28.100000000000016)\n",
            "Epoch 006/020 | Loss 0.0634 | Win/lose count 14.5/96.80000000000001 (-82.30000000000001)\n",
            "Epoch 007/020 | Loss 0.0022 | Win/lose count 26.0/20.500000000000007 (5.499999999999993)\n",
            "Epoch 008/020 | Loss 0.1891 | Win/lose count 16.0/49.6 (-33.6)\n",
            "Epoch 009/020 | Loss 0.1976 | Win/lose count 23.5/21.199999999999992 (2.300000000000008)\n",
            "Epoch 010/020 | Loss 0.0042 | Win/lose count 18.5/42.500000000000036 (-24.000000000000036)\n",
            "Epoch 011/020 | Loss 0.2618 | Win/lose count 18.5/27.8 (-9.3)\n",
            "Epoch 012/020 | Loss 0.1169 | Win/lose count 29.0/16.799999999999994 (12.200000000000006)\n",
            "Epoch 013/020 | Loss 0.0166 | Win/lose count 22.0/44.099999999999994 (-22.099999999999994)\n",
            "Epoch 014/020 | Loss 0.1454 | Win/lose count 21.0/30.899999999999984 (-9.899999999999984)\n",
            "Epoch 015/020 | Loss 0.1589 | Win/lose count 23.5/20.099999999999998 (3.400000000000002)\n",
            "Epoch 016/020 | Loss 0.1523 | Win/lose count 19.0/34.400000000000034 (-15.400000000000034)\n",
            "Epoch 017/020 | Loss 0.0083 | Win/lose count 20.5/42.399999999999984 (-21.899999999999984)\n",
            "Epoch 018/020 | Loss 0.1001 | Win/lose count 20.0/30.09999999999999 (-10.09999999999999)\n",
            "Epoch 019/020 | Loss 0.0000 | Win/lose count 7.5/612.9999999999998 (-605.4999999999998)\n",
            "Win/lose count 10.5/3.0. Average score (7.5)\n",
            "Win/lose count 0/1.0. Average score (3.25)\n",
            "Win/lose count 7.0/0. Average score (4.5)\n",
            "Win/lose count 3.0/1.0. Average score (3.875)\n",
            "Win/lose count 8.5/1.0. Average score (4.6)\n",
            "Win/lose count 4.0/1.0. Average score (4.333333333333333)\n",
            "Win/lose count 5.0/0. Average score (4.428571428571429)\n",
            "Win/lose count 8.5/0. Average score (4.9375)\n",
            "Win/lose count 10.0/0. Average score (5.5)\n",
            "Win/lose count 6.5/0. Average score (5.6)\n",
            "Final score: 5.6\n"
          ],
          "name": "stdout"
        }
      ]
    },
    {
      "metadata": {
        "id": "RrWcA99hevK9",
        "colab_type": "text"
      },
      "cell_type": "markdown",
      "source": [
        ""
      ]
    }
  ]
}